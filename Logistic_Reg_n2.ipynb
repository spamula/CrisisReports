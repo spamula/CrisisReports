{
 "cells": [
  {
   "cell_type": "code",
   "execution_count": 1,
   "metadata": {},
   "outputs": [
    {
     "name": "stderr",
     "output_type": "stream",
     "text": [
      "//anaconda/lib/python2.7/site-packages/sklearn/cross_validation.py:44: DeprecationWarning: This module was deprecated in version 0.18 in favor of the model_selection module into which all the refactored classes and functions are moved. Also note that the interface of the new CV iterators are different from that of this module. This module will be removed in 0.20.\n",
      "  \"This module will be removed in 0.20.\", DeprecationWarning)\n",
      "//anaconda/lib/python2.7/site-packages/sklearn/grid_search.py:43: DeprecationWarning: This module was deprecated in version 0.18 in favor of the model_selection module into which all the refactored classes and functions are moved. This module will be removed in 0.20.\n",
      "  DeprecationWarning)\n"
     ]
    }
   ],
   "source": [
    "from sklearn.feature_extraction.text import CountVectorizer\n",
    "from sklearn.base import TransformerMixin\n",
    "from sklearn.pipeline import Pipeline\n",
    "from sklearn.svm import LinearSVC\n",
    "from sklearn.linear_model import LogisticRegression\n",
    "from sklearn.feature_extraction.stop_words import ENGLISH_STOP_WORDS\n",
    "from sklearn.metrics import accuracy_score, f1_score\n",
    "from sklearn.model_selection import train_test_split\n",
    "from sklearn.feature_extraction.text import TfidfTransformer\n",
    "from sklearn.preprocessing import StandardScaler\n",
    "from sklearn.grid_search import GridSearchCV\n",
    "from sklearn.pipeline import Pipeline\n",
    "from sklearn.naive_bayes import BernoulliNB\n",
    "from sklearn.decomposition import TruncatedSVD\n",
    "from nltk.corpus import stopwords\n",
    "import string\n",
    "import re\n",
    "import pandas as pd\n",
    "import time\n",
    "import os\n",
    "import numpy as np\n",
    "import pickle"
   ]
  },
  {
   "cell_type": "code",
   "execution_count": 2,
   "metadata": {},
   "outputs": [
    {
     "name": "stdout",
     "output_type": "stream",
     "text": [
      "activism\n",
      "Function takes around 14.344 seconds to run\n",
      "afghanistan\n",
      "Function takes around 3.619 seconds to run\n",
      "aid\n",
      "Function takes around 1.084 seconds to run\n",
      "algerianhostagecrisis\n",
      "Function takes around 1.309 seconds to run\n",
      "alqaida\n",
      "Function takes around 1.219 seconds to run\n",
      "alshabaab\n",
      "Function takes around 1.263 seconds to run\n",
      "antiwar\n",
      "Function takes around 1.234 seconds to run\n",
      "arabandmiddleeastprotests\n",
      "Function takes around 1.447 seconds to run\n",
      "armstrade\n",
      "Function takes around 1.173 seconds to run\n",
      "australianguncontrol\n",
      "Function takes around 1.262 seconds to run\n",
      "australiansecurityandcounterterrorism\n",
      "Function takes around 1.460 seconds to run\n",
      "bastilledaytruckattack\n",
      "Function takes around 1.281 seconds to run\n",
      "belgium\n",
      "Function takes around 1.261 seconds to run\n",
      "berlinchristmasmarketattack\n",
      "Function takes around 1.619 seconds to run\n",
      "bigdata\n",
      "Function takes around 1.210 seconds to run\n",
      "biometrics\n",
      "Function takes around 1.196 seconds to run\n",
      "bokoharam\n",
      "Function takes around 1.214 seconds to run\n",
      "bostonmarathonbombing\n",
      "Function takes around 1.275 seconds to run\n",
      "britisharmy\n",
      "Function takes around 1.723 seconds to run\n",
      "brusselsattacks\n",
      "Function takes around 1.780 seconds to run\n",
      "cameroon\n",
      "Function takes around 1.105 seconds to run\n",
      "carers\n",
      "Function takes around 1.113 seconds to run\n",
      "charliehebdoattack\n",
      "Function takes around 1.312 seconds to run\n",
      "chemicalweapons\n",
      "Function takes around 1.230 seconds to run\n",
      "clusterbombs\n",
      "Function takes around 1.226 seconds to run\n",
      "cobra\n",
      "Function takes around 1.112 seconds to run\n",
      "conflictanddevelopment\n",
      "Function takes around 1.281 seconds to run\n",
      "controversy\n",
      "Function takes around 1.241 seconds to run\n",
      "criminaljustice\n",
      "Function takes around 1.242 seconds to run\n",
      "cybercrime\n",
      "Function takes around 1.211 seconds to run\n",
      "cyberwar\n",
      "Function takes around 1.148 seconds to run\n",
      "darknet\n",
      "Function takes around 1.129 seconds to run\n",
      "dataprotection\n",
      "Function takes around 1.231 seconds to run\n",
      "debate\n",
      "Function takes around 1.114 seconds to run\n",
      "defence\n",
      "Function takes around 1.138 seconds to run\n",
      "deflation\n",
      "Function takes around 1.267 seconds to run\n",
      "drones\n",
      "Function takes around 1.198 seconds to run\n",
      "drugs\n",
      "Function takes around 1.144 seconds to run\n",
      "drugspolicy\n",
      "Function takes around 1.228 seconds to run\n",
      "drugstrade\n",
      "Function takes around 1.234 seconds to run\n",
      "earthquakes\n",
      "Function takes around 1.350 seconds to run\n",
      "ebola\n",
      "Function takes around 1.188 seconds to run\n",
      "economy\n",
      "Function takes around 1.641 seconds to run\n",
      "egypt\n",
      "Function takes around 1.259 seconds to run\n",
      "encryption\n",
      "Function takes around 1.315 seconds to run\n",
      "energy\n",
      "Function takes around 1.125 seconds to run\n",
      "espionage\n",
      "Function takes around 1.183 seconds to run\n",
      "ethics\n",
      "Function takes around 1.109 seconds to run\n",
      "europeanarrestwarrant\n",
      "Function takes around 1.288 seconds to run\n",
      "europeancourtofhumanrights\n",
      "Function takes around 1.352 seconds to run\n",
      "events\n",
      "Function takes around 1.129 seconds to run\n",
      "extradition\n",
      "Function takes around 1.200 seconds to run\n",
      "famine\n",
      "Function takes around 1.155 seconds to run\n",
      "farright\n",
      "Function takes around 1.154 seconds to run\n",
      "firefighters\n",
      "Function takes around 1.224 seconds to run\n",
      "forensicscience\n",
      "Function takes around 1.232 seconds to run\n",
      "france\n",
      "Function takes around 1.113 seconds to run\n",
      "francetrainattack\n",
      "Function takes around 1.270 seconds to run\n",
      "freedomofspeech\n",
      "Function takes around 1.256 seconds to run\n",
      "genevaconventions\n",
      "Function takes around 1.322 seconds to run\n",
      "germany\n",
      "Function takes around 1.176 seconds to run\n",
      "guncrime\n",
      "Function takes around 1.158 seconds to run\n",
      "hacking\n",
      "Function takes around 1.116 seconds to run\n",
      "hashtags\n",
      "Function takes around 1.177 seconds to run\n",
      "helicoptercrashes\n",
      "Function takes around 1.354 seconds to run\n",
      "humanitarianresponse\n",
      "Function takes around 1.301 seconds to run\n",
      "humanrights\n",
      "Function takes around 1.326 seconds to run\n",
      "humanrightsact\n",
      "Function takes around 1.356 seconds to run\n",
      "humantrafficking\n",
      "Function takes around 1.311 seconds to run\n",
      "immigration\n",
      "Function takes around 1.192 seconds to run\n",
      "india\n",
      "Function takes around 1.133 seconds to run\n",
      "indonesia\n",
      "Function takes around 1.180 seconds to run\n",
      "internallydisplacedpeople\n",
      "Function takes around 1.322 seconds to run\n",
      "internationalcourtofjustice\n",
      "Function takes around 1.391 seconds to run\n",
      "internationalcriminaljustice\n",
      "Function takes around 1.492 seconds to run\n",
      "internetsafety\n",
      "Function takes around 1.339 seconds to run\n",
      "iraq\n",
      "Function takes around 1.190 seconds to run\n",
      "isis\n",
      "Function takes around 1.103 seconds to run\n",
      "israel\n",
      "Function takes around 1.110 seconds to run\n",
      "jordan\n",
      "Function takes around 1.103 seconds to run\n",
      "jubilee\n",
      "Function takes around 1.122 seconds to run\n",
      "judiciary\n",
      "Function takes around 1.175 seconds to run\n",
      "july7\n",
      "Function takes around 1.093 seconds to run\n",
      "justiceandsecurity\n",
      "Function takes around 1.259 seconds to run\n",
      "kenya\n",
      "Function takes around 1.108 seconds to run\n",
      "knifecrime\n",
      "Function takes around 1.222 seconds to run\n",
      "lebanon\n",
      "Function takes around 1.133 seconds to run\n",
      "libya\n",
      "Function takes around 1.140 seconds to run\n",
      "localgovernment\n",
      "Function takes around 1.248 seconds to run\n",
      "logistics\n",
      "Function takes around 1.187 seconds to run\n",
      "london\n",
      "Function takes around 1.303 seconds to run\n",
      "londonriots\n",
      "Function takes around 1.424 seconds to run\n",
      "malaysia\n",
      "Function takes around 1.139 seconds to run\n",
      "mali\n",
      "Function takes around 1.119 seconds to run\n",
      "malware\n",
      "Function takes around 1.248 seconds to run\n",
      "metropolitanpolice\n",
      "Function takes around 1.286 seconds to run\n",
      "middleeastpeacetalks\n",
      "Function takes around 1.313 seconds to run\n",
      "migration\n",
      "Function takes around 1.156 seconds to run\n",
      "military\n",
      "Function takes around 1.134 seconds to run\n",
      "ministryofdefence\n",
      "Function takes around 6.473 seconds to run\n",
      "morocco\n",
      "Function takes around 3.749 seconds to run\n",
      "mrsa\n",
      "Function takes around 1.086 seconds to run\n",
      "mumbaiterrorattacks\n",
      "Function takes around 1.276 seconds to run\n",
      "munichshooting\n",
      "Function takes around 1.256 seconds to run\n",
      "naturaldisasters\n",
      "Function takes around 1.219 seconds to run\n",
      "nigeria\n",
      "Function takes around 1.104 seconds to run\n",
      "nuclearweapons\n",
      "Function takes around 1.909 seconds to run\n",
      "occupy\n",
      "Function takes around 1.415 seconds to run\n",
      "organisedcrime\n",
      "Function takes around 1.321 seconds to run\n",
      "orlandoterrorattack\n",
      "Function takes around 1.371 seconds to run\n",
      "osamabinladen\n",
      "Function takes around 1.321 seconds to run\n",
      "paris\n",
      "Function takes around 1.224 seconds to run\n",
      "parisattacks\n",
      "Function takes around 1.324 seconds to run\n",
      "peaceandreconciliation\n",
      "Function takes around 1.352 seconds to run\n",
      "philippines\n",
      "Function takes around 1.236 seconds to run\n",
      "piracy\n",
      "Function takes around 1.240 seconds to run\n",
      "planecrashes\n",
      "Function takes around 1.256 seconds to run\n",
      "police\n",
      "Function takes around 2.996 seconds to run\n",
      "protest\n",
      "Function takes around 2.631 seconds to run\n",
      "refugees\n",
      "Function takes around 1.310 seconds to run\n",
      "religion\n",
      "Function takes around 1.185 seconds to run\n",
      "retirementage\n",
      "Function takes around 1.570 seconds to run\n",
      "rio20earthsummit\n",
      "Function takes around 1.279 seconds to run\n",
      "royalairforce\n",
      "Function takes around 1.275 seconds to run\n",
      "royalnavy\n",
      "Function takes around 1.212 seconds to run\n",
      "russia\n",
      "Function takes around 1.190 seconds to run\n",
      "sanbernardinoshooting\n",
      "Function takes around 1.387 seconds to run\n",
      "saudiarabia\n",
      "Function takes around 1.285 seconds to run\n",
      "september11\n",
      "Function takes around 1.297 seconds to run\n",
      "slavery\n",
      "Function takes around 1.225 seconds to run\n",
      "somalia\n",
      "Function takes around 1.737 seconds to run\n",
      "southafrica\n",
      "Function takes around 1.440 seconds to run\n",
      "southchinasea\n",
      "Function takes around 1.267 seconds to run\n",
      "stopandsearch\n",
      "Function takes around 1.225 seconds to run\n",
      "surveillance\n",
      "Function takes around 1.273 seconds to run\n",
      "sydneysiege\n",
      "Function takes around 1.289 seconds to run\n",
      "syria\n",
      "Function takes around 1.133 seconds to run\n",
      "taliban\n",
      "Function takes around 1.243 seconds to run\n",
      "terrorism\n",
      "Function takes around 1.300 seconds to run\n",
      "thailand\n",
      "Function takes around 1.175 seconds to run\n",
      "torture\n",
      "Function takes around 1.344 seconds to run\n",
      "traincrashes\n",
      "Function takes around 1.241 seconds to run\n",
      "transport\n",
      "Function takes around 1.271 seconds to run\n",
      "tunisiaattack2015\n",
      "Function takes around 1.299 seconds to run\n",
      "turkey\n",
      "Function takes around 1.110 seconds to run\n",
      "turkeycoupattempt\n",
      "Function takes around 1.300 seconds to run\n",
      "ukcrime\n",
      "Function takes around 1.189 seconds to run\n",
      "uksecurity\n",
      "Function takes around 1.466 seconds to run\n",
      "uksupremecourt\n",
      "Function takes around 1.328 seconds to run\n"
     ]
    },
    {
     "name": "stdout",
     "output_type": "stream",
     "text": [
      "undercoverpoliceandpolicing\n",
      "Function takes around 1.413 seconds to run\n",
      "unitednations\n",
      "Function takes around 1.239 seconds to run\n",
      "usguncontrol\n",
      "Function takes around 1.240 seconds to run\n",
      "values\n",
      "Function takes around 1.097 seconds to run\n",
      "warcrimes\n",
      "Function takes around 1.236 seconds to run\n",
      "warreporting\n",
      "Function takes around 1.204 seconds to run\n",
      "weaponstechnology\n",
      "Function takes around 1.243 seconds to run\n",
      "womeninbusiness\n",
      "Function takes around 1.211 seconds to run\n",
      "woolwichattack\n",
      "Function takes around 1.274 seconds to run\n",
      "worldmigration\n",
      "Function takes around 1.240 seconds to run\n",
      "zikavirus\n",
      "Function takes around 1.156 seconds to run\n"
     ]
    }
   ],
   "source": [
    "# DEFINE DIRECTORY PATH\n",
    "path_to_json = 'TrainingData/'\n",
    "\n",
    "# CREATE LIST OF FILES FROM THE DIRECTORY\n",
    "json_files = [pos_json for pos_json in os.listdir(path_to_json) if pos_json.endswith('.json')]\n",
    "\n",
    "# DEFINE PANDAS DATAFRAME\n",
    "df = pd.DataFrame()\n",
    "\n",
    "# LOOP THROUGH FILES, READ IN JSON AND BUILD DATAFRAME\n",
    "for index, js in enumerate(json_files):\n",
    "    json_data = pd.read_json(os.path.join(path_to_json, js), 'r')\n",
    "    df = df.append(json_data)\n",
    "    \n",
    "# LOOK AT TOPIC DICTIONARY AND GET A TOPIC COUNT\n",
    "topic_file = open('./topicDictionary.txt', 'r')\n",
    "topics = topic_file.read().split('\\r\\n')\n",
    "\n",
    "# SPLITTING THE ELEMENTS OF THE JSON INTO TEXT, PUBLICATION DATE AND TOPICS\n",
    "df['text'] = df.TrainingData.apply(lambda x: x['bodyText'])\n",
    "df['pubdate'] = df.TrainingData.apply(lambda x: x['webPublicationDate'])\n",
    "df['topics'] = df.TrainingData.apply(lambda x: x['topics'])\n",
    "\n",
    "# DROP FIRST TWO COLUMNS\n",
    "df.reset_index(inplace=True, drop=True)\n",
    "df.drop('TrainingData', axis=1, inplace=True)\n",
    "\n",
    "# DEFINE FUNCTION TO CREATE OUR DATAFRAME\n",
    "def topic_col(x):\n",
    "    a = 0\n",
    "    for elem in x:\n",
    "        if elem == topic:\n",
    "            a = 1\n",
    "    return a\n",
    "\n",
    "# RUN TOPIC COL FUNCTION ON ALL DATA\n",
    "for topic in topics:\n",
    "    time1 = time.time()\n",
    "    df[topic] = df['topics'].map(topic_col)\n",
    "    print topic\n",
    "    time2 = time.time()\n",
    "    time_in_s = (time2-time1)\n",
    "    print 'Function takes around %0.3f seconds to run' % (time_in_s)"
   ]
  },
  {
   "cell_type": "code",
   "execution_count": 3,
   "metadata": {
    "collapsed": true
   },
   "outputs": [],
   "source": [
    "# CREATE FINAL TEST DF\n",
    "testdf = pd.read_json('/Users/sudheerpamula/Downloads/TestData.json', 'r')\n",
    "testdf['text'] = testdf.TestData.apply(lambda x: x['bodyText'])\n",
    "testdf['pubdate'] = testdf.TestData.apply(lambda x: x['webPublicationDate'])\n",
    "testdf['topics'] = testdf.TestData.apply(lambda x: x['topics'])\n",
    "testdf.drop('TestData', axis=1, inplace=True)"
   ]
  },
  {
   "cell_type": "code",
   "execution_count": 4,
   "metadata": {
    "collapsed": true
   },
   "outputs": [],
   "source": [
    "def sampler(topic, df):\n",
    "    \n",
    "    # SELECT INDICES OF TOPIC ARTICLES\n",
    "    topicindexes = df[df[topic] == 1].index.tolist()\n",
    "    \n",
    "    # FIND COUNT OF TOPIC ARTICLES\n",
    "    articlecount = len(topicindexes)\n",
    "    \n",
    "    if articlecount < 100:\n",
    "        print articlecount\n",
    "        # SELECT NON TOPIC INDICES\n",
    "        nontopicarticlesindexes = df[df[topic] == 0].sample(articlecount*9).index.tolist()\n",
    "        nonarticlecount = len(nontopicarticlesindexes)\n",
    "        # CREATE LIST OF COMBINED INDICES\n",
    "        sampleindex = topicindexes + nontopicarticlesindexes \n",
    "        # CREATE NEW DATAFRAME\n",
    "        X = df.iloc[sampleindex]['text'].reset_index(drop=True)\n",
    "        y = df.iloc[sampleindex][topic].reset_index(drop=True)\n",
    "        X = X.append(df.iloc[topicindexes]['text'])\n",
    "        y = y.append(df.iloc[topicindexes][topic])\n",
    "        X.reset_index(drop=True, inplace=True)\n",
    "        y.reset_index(drop=True, inplace=True) \n",
    "    else:\n",
    "        # SELECT NON TOPIC INDICES\n",
    "        topicindexes = df[df[topic] == 1].sample(100).index.tolist()\n",
    "        \n",
    "        nontopicarticlesindexes = df[df[topic] == 0].sample(len(topicindexes)*9).index.tolist()\n",
    "        nonarticlecount = len(nontopicarticlesindexes)\n",
    "        # CREATE LIST OF COMBINED INDICES\n",
    "        sampleindex = topicindexes + nontopicarticlesindexes\n",
    "        # CREATE NEW DATAFRAME\n",
    "        X = df.iloc[sampleindex]['text'].reset_index(drop=True)\n",
    "        y = df.iloc[sampleindex][topic].reset_index(drop=True)\n",
    "    \n",
    "    return X, y"
   ]
  },
  {
   "cell_type": "code",
   "execution_count": 5,
   "metadata": {
    "collapsed": true
   },
   "outputs": [],
   "source": [
    "submission = pd.DataFrame(index=testdf.index, columns=topics)"
   ]
  },
  {
   "cell_type": "code",
   "execution_count": 9,
   "metadata": {
    "collapsed": true
   },
   "outputs": [],
   "source": [
    "topics_0 = ['activism', 'turkeycoupattempt', 'tunisiaattack2015', 'sanbernardinoshooting', 'peaceandreconciliation',\n",
    "            'parisattacks', 'orlandoterrorattack', 'munichshooting', 'francetrainattack', 'charliehebdoattack',\n",
    "            'brusselsattacks', 'berlinchristmasmarketattack','bastilledaytruckattack','zikavirus']"
   ]
  },
  {
   "cell_type": "code",
   "execution_count": 27,
   "metadata": {
    "collapsed": true
   },
   "outputs": [],
   "source": [
    "parameters = {\n",
    "#     'tfidf__norm': ('l2', 'l1'),\n",
    "    'clf__penalty': ('l1', 'l2'),\n",
    "    'clf__C': [0.001, 1, 10, 100]\n",
    "}\n",
    "\n",
    "clf = LogisticRegression()"
   ]
  },
  {
   "cell_type": "code",
   "execution_count": 17,
   "metadata": {
    "scrolled": true
   },
   "outputs": [
    {
     "name": "stdout",
     "output_type": "stream",
     "text": [
      "activism\n",
      "Fitting 3 folds for each of 16 candidates, totalling 48 fits\n"
     ]
    },
    {
     "name": "stderr",
     "output_type": "stream",
     "text": [
      "[Parallel(n_jobs=-1)]: Done  48 out of  48 | elapsed:  1.4min finished\n"
     ]
    },
    {
     "name": "stdout",
     "output_type": "stream",
     "text": [
      "('F1 score:', 0.89795918367346939)\n",
      "{'clf__penalty': 'l1', 'clf__C': 1, 'tfidf__norm': 'l2'}\n",
      "afghanistan\n",
      "Fitting 3 folds for each of 16 candidates, totalling 48 fits\n"
     ]
    },
    {
     "name": "stderr",
     "output_type": "stream",
     "text": [
      "[Parallel(n_jobs=-1)]: Done  48 out of  48 | elapsed:  1.4min finished\n"
     ]
    },
    {
     "name": "stdout",
     "output_type": "stream",
     "text": [
      "('F1 score:', 0.82608695652173914)\n",
      "{'clf__penalty': 'l1', 'clf__C': 1, 'tfidf__norm': 'l1'}\n",
      "aid\n",
      "58\n",
      "Fitting 3 folds for each of 16 candidates, totalling 48 fits\n"
     ]
    },
    {
     "name": "stderr",
     "output_type": "stream",
     "text": [
      "[Parallel(n_jobs=-1)]: Done  48 out of  48 | elapsed:   38.4s finished\n"
     ]
    },
    {
     "name": "stdout",
     "output_type": "stream",
     "text": [
      "('F1 score:', 0.9642857142857143)\n",
      "{'clf__penalty': 'l1', 'clf__C': 1, 'tfidf__norm': 'l2'}\n",
      "algerianhostagecrisis\n",
      "Fitting 3 folds for each of 16 candidates, totalling 48 fits\n"
     ]
    },
    {
     "name": "stderr",
     "output_type": "stream",
     "text": [
      "[Parallel(n_jobs=-1)]: Done  48 out of  48 | elapsed:  1.1min finished\n"
     ]
    },
    {
     "name": "stdout",
     "output_type": "stream",
     "text": [
      "('F1 score:', 0.89795918367346939)\n",
      "{'clf__penalty': 'l1', 'clf__C': 1, 'tfidf__norm': 'l2'}\n",
      "alqaida\n",
      "Fitting 3 folds for each of 16 candidates, totalling 48 fits\n"
     ]
    },
    {
     "name": "stderr",
     "output_type": "stream",
     "text": [
      "[Parallel(n_jobs=-1)]: Done  48 out of  48 | elapsed:  1.1min finished\n"
     ]
    },
    {
     "name": "stdout",
     "output_type": "stream",
     "text": [
      "('F1 score:', 0.95833333333333337)\n",
      "{'clf__penalty': 'l1', 'clf__C': 10, 'tfidf__norm': 'l2'}\n",
      "alshabaab\n",
      "Fitting 3 folds for each of 16 candidates, totalling 48 fits\n"
     ]
    },
    {
     "name": "stderr",
     "output_type": "stream",
     "text": [
      "[Parallel(n_jobs=-1)]: Done  48 out of  48 | elapsed:  1.2min finished\n"
     ]
    },
    {
     "name": "stdout",
     "output_type": "stream",
     "text": [
      "('F1 score:', 0.83999999999999986)\n",
      "{'clf__penalty': 'l1', 'clf__C': 1, 'tfidf__norm': 'l2'}\n",
      "antiwar\n",
      "Fitting 3 folds for each of 16 candidates, totalling 48 fits\n"
     ]
    },
    {
     "name": "stderr",
     "output_type": "stream",
     "text": [
      "[Parallel(n_jobs=-1)]: Done  48 out of  48 | elapsed:  1.1min finished\n"
     ]
    },
    {
     "name": "stdout",
     "output_type": "stream",
     "text": [
      "('F1 score:', 0.79999999999999993)\n",
      "{'clf__penalty': 'l1', 'clf__C': 1, 'tfidf__norm': 'l1'}\n",
      "arabandmiddleeastprotests\n",
      "Fitting 3 folds for each of 16 candidates, totalling 48 fits\n"
     ]
    },
    {
     "name": "stderr",
     "output_type": "stream",
     "text": [
      "[Parallel(n_jobs=-1)]: Done  48 out of  48 | elapsed:  1.1min finished\n"
     ]
    },
    {
     "name": "stdout",
     "output_type": "stream",
     "text": [
      "('F1 score:', 0.86956521739130432)\n",
      "{'clf__penalty': 'l1', 'clf__C': 1, 'tfidf__norm': 'l2'}\n",
      "armstrade\n",
      "3\n",
      "Fitting 3 folds for each of 16 candidates, totalling 48 fits\n"
     ]
    },
    {
     "name": "stderr",
     "output_type": "stream",
     "text": [
      "[Parallel(n_jobs=-1)]: Done  48 out of  48 | elapsed:    1.9s finished\n"
     ]
    },
    {
     "name": "stdout",
     "output_type": "stream",
     "text": [
      "('F1 score:', 0.80000000000000004)\n",
      "{'clf__penalty': 'l1', 'clf__C': 1, 'tfidf__norm': 'l1'}\n",
      "australianguncontrol\n",
      "92\n",
      "Fitting 3 folds for each of 16 candidates, totalling 48 fits\n"
     ]
    },
    {
     "name": "stderr",
     "output_type": "stream",
     "text": [
      "[Parallel(n_jobs=-1)]: Done  48 out of  48 | elapsed:  1.4min finished\n"
     ]
    },
    {
     "name": "stdout",
     "output_type": "stream",
     "text": [
      "('F1 score:', 0.96703296703296704)\n",
      "{'clf__penalty': 'l1', 'clf__C': 1, 'tfidf__norm': 'l2'}\n",
      "australiansecurityandcounterterrorism\n",
      "bastilledaytruckattack\n",
      "Fitting 3 folds for each of 16 candidates, totalling 48 fits\n"
     ]
    },
    {
     "name": "stderr",
     "output_type": "stream",
     "text": [
      "[Parallel(n_jobs=-1)]: Done  48 out of  48 | elapsed:  1.1min finished\n"
     ]
    },
    {
     "name": "stdout",
     "output_type": "stream",
     "text": [
      "('F1 score:', 0.75555555555555565)\n",
      "{'clf__penalty': 'l1', 'clf__C': 1, 'tfidf__norm': 'l2'}\n",
      "belgium\n",
      "berlinchristmasmarketattack\n",
      "Fitting 3 folds for each of 16 candidates, totalling 48 fits\n"
     ]
    },
    {
     "name": "stderr",
     "output_type": "stream",
     "text": [
      "[Parallel(n_jobs=-1)]: Done  48 out of  48 | elapsed:  1.2min finished\n"
     ]
    },
    {
     "name": "stdout",
     "output_type": "stream",
     "text": [
      "('F1 score:', 0.93617021276595747)\n",
      "{'clf__penalty': 'l1', 'clf__C': 1, 'tfidf__norm': 'l2'}\n",
      "bigdata\n",
      "Fitting 3 folds for each of 16 candidates, totalling 48 fits\n"
     ]
    },
    {
     "name": "stderr",
     "output_type": "stream",
     "text": [
      "[Parallel(n_jobs=-1)]: Done  48 out of  48 | elapsed:  1.1min finished\n"
     ]
    },
    {
     "name": "stdout",
     "output_type": "stream",
     "text": [
      "('F1 score:', 0.88888888888888895)\n",
      "{'clf__penalty': 'l1', 'clf__C': 10, 'tfidf__norm': 'l2'}\n",
      "biometrics\n",
      "Fitting 3 folds for each of 16 candidates, totalling 48 fits\n"
     ]
    },
    {
     "name": "stderr",
     "output_type": "stream",
     "text": [
      "[Parallel(n_jobs=-1)]: Done  48 out of  48 | elapsed:  1.1min finished\n"
     ]
    },
    {
     "name": "stdout",
     "output_type": "stream",
     "text": [
      "('F1 score:', 0.97959183673469385)\n",
      "{'clf__penalty': 'l1', 'clf__C': 1, 'tfidf__norm': 'l1'}\n",
      "bokoharam\n",
      "Fitting 3 folds for each of 16 candidates, totalling 48 fits\n"
     ]
    },
    {
     "name": "stderr",
     "output_type": "stream",
     "text": [
      "[Parallel(n_jobs=-1)]: Done  48 out of  48 | elapsed:  1.2min finished\n"
     ]
    },
    {
     "name": "stdout",
     "output_type": "stream",
     "text": [
      "('F1 score:', 0.97959183673469385)\n",
      "{'clf__penalty': 'l1', 'clf__C': 10, 'tfidf__norm': 'l1'}\n",
      "bostonmarathonbombing\n",
      "Fitting 3 folds for each of 16 candidates, totalling 48 fits\n"
     ]
    },
    {
     "name": "stderr",
     "output_type": "stream",
     "text": [
      "[Parallel(n_jobs=-1)]: Done  48 out of  48 | elapsed:  1.1min finished\n"
     ]
    },
    {
     "name": "stdout",
     "output_type": "stream",
     "text": [
      "('F1 score:', 0.68292682926829273)\n",
      "{'clf__penalty': 'l1', 'clf__C': 100, 'tfidf__norm': 'l1'}\n",
      "britisharmy\n",
      "brusselsattacks\n",
      "Fitting 3 folds for each of 16 candidates, totalling 48 fits\n"
     ]
    },
    {
     "name": "stderr",
     "output_type": "stream",
     "text": [
      "[Parallel(n_jobs=-1)]: Done  48 out of  48 | elapsed:  1.4min finished\n"
     ]
    },
    {
     "name": "stdout",
     "output_type": "stream",
     "text": [
      "('F1 score:', 0.83720930232558133)\n",
      "{'clf__penalty': 'l1', 'clf__C': 1, 'tfidf__norm': 'l2'}\n",
      "cameroon\n",
      "Fitting 3 folds for each of 16 candidates, totalling 48 fits\n"
     ]
    },
    {
     "name": "stderr",
     "output_type": "stream",
     "text": [
      "[Parallel(n_jobs=-1)]: Done  48 out of  48 | elapsed:  1.2min finished\n"
     ]
    },
    {
     "name": "stdout",
     "output_type": "stream",
     "text": [
      "('F1 score:', 0.85714285714285721)\n",
      "{'clf__penalty': 'l1', 'clf__C': 1, 'tfidf__norm': 'l2'}\n",
      "carers\n",
      "charliehebdoattack\n",
      "Fitting 3 folds for each of 16 candidates, totalling 48 fits\n"
     ]
    },
    {
     "name": "stderr",
     "output_type": "stream",
     "text": [
      "[Parallel(n_jobs=-1)]: Done  48 out of  48 | elapsed:  1.3min finished\n"
     ]
    },
    {
     "name": "stdout",
     "output_type": "stream",
     "text": [
      "('F1 score:', 0.86363636363636365)\n",
      "{'clf__penalty': 'l1', 'clf__C': 1, 'tfidf__norm': 'l2'}\n",
      "chemicalweapons\n",
      "Fitting 3 folds for each of 16 candidates, totalling 48 fits\n"
     ]
    },
    {
     "name": "stderr",
     "output_type": "stream",
     "text": [
      "[Parallel(n_jobs=-1)]: Done  48 out of  48 | elapsed:  1.1min finished\n"
     ]
    },
    {
     "name": "stdout",
     "output_type": "stream",
     "text": [
      "('F1 score:', 0.95833333333333337)\n",
      "{'clf__penalty': 'l1', 'clf__C': 1, 'tfidf__norm': 'l2'}\n",
      "clusterbombs\n",
      "35\n",
      "Fitting 3 folds for each of 16 candidates, totalling 48 fits\n"
     ]
    },
    {
     "name": "stderr",
     "output_type": "stream",
     "text": [
      "[Parallel(n_jobs=-1)]: Done  48 out of  48 | elapsed:   24.1s finished\n"
     ]
    },
    {
     "name": "stdout",
     "output_type": "stream",
     "text": [
      "('F1 score:', 1.0)\n",
      "{'clf__penalty': 'l1', 'clf__C': 10, 'tfidf__norm': 'l2'}\n",
      "cobra\n",
      "Fitting 3 folds for each of 16 candidates, totalling 48 fits\n"
     ]
    },
    {
     "name": "stderr",
     "output_type": "stream",
     "text": [
      "[Parallel(n_jobs=-1)]: Done  48 out of  48 | elapsed:  1.1min finished\n"
     ]
    },
    {
     "name": "stdout",
     "output_type": "stream",
     "text": [
      "('F1 score:', 0.74999999999999989)\n",
      "{'clf__penalty': 'l1', 'clf__C': 10, 'tfidf__norm': 'l2'}\n",
      "conflictanddevelopment\n",
      "Fitting 3 folds for each of 16 candidates, totalling 48 fits\n"
     ]
    },
    {
     "name": "stderr",
     "output_type": "stream",
     "text": [
      "[Parallel(n_jobs=-1)]: Done  48 out of  48 | elapsed:  1.1min finished\n"
     ]
    },
    {
     "name": "stdout",
     "output_type": "stream",
     "text": [
      "('F1 score:', 0.97959183673469385)\n",
      "{'clf__penalty': 'l1', 'clf__C': 1, 'tfidf__norm': 'l2'}\n",
      "controversy\n",
      "Fitting 3 folds for each of 16 candidates, totalling 48 fits\n"
     ]
    },
    {
     "name": "stderr",
     "output_type": "stream",
     "text": [
      "[Parallel(n_jobs=-1)]: Done  48 out of  48 | elapsed:  3.2min finished\n"
     ]
    },
    {
     "name": "stdout",
     "output_type": "stream",
     "text": [
      "('F1 score:', 0.70000000000000007)\n",
      "{'clf__penalty': 'l1', 'clf__C': 10, 'tfidf__norm': 'l2'}\n",
      "criminaljustice\n",
      "Fitting 3 folds for each of 16 candidates, totalling 48 fits\n"
     ]
    },
    {
     "name": "stderr",
     "output_type": "stream",
     "text": [
      "[Parallel(n_jobs=-1)]: Done  48 out of  48 | elapsed:  1.2min finished\n"
     ]
    },
    {
     "name": "stdout",
     "output_type": "stream",
     "text": [
      "('F1 score:', 0.61111111111111116)\n",
      "{'clf__penalty': 'l1', 'clf__C': 10, 'tfidf__norm': 'l2'}\n",
      "cybercrime\n",
      "Fitting 3 folds for each of 16 candidates, totalling 48 fits\n"
     ]
    },
    {
     "name": "stderr",
     "output_type": "stream",
     "text": [
      "[Parallel(n_jobs=-1)]: Done  48 out of  48 | elapsed:  1.5min finished\n"
     ]
    },
    {
     "name": "stdout",
     "output_type": "stream",
     "text": [
      "('F1 score:', 0.89795918367346939)\n",
      "{'clf__penalty': 'l1', 'clf__C': 1, 'tfidf__norm': 'l2'}\n",
      "cyberwar\n",
      "24\n",
      "Fitting 3 folds for each of 16 candidates, totalling 48 fits\n"
     ]
    },
    {
     "name": "stderr",
     "output_type": "stream",
     "text": [
      "[Parallel(n_jobs=-1)]: Done  48 out of  48 | elapsed:   24.2s finished\n"
     ]
    },
    {
     "name": "stdout",
     "output_type": "stream",
     "text": [
      "('F1 score:', 0.90909090909090906)\n",
      "{'clf__penalty': 'l1', 'clf__C': 100, 'tfidf__norm': 'l1'}\n",
      "darknet\n",
      "Fitting 3 folds for each of 16 candidates, totalling 48 fits\n"
     ]
    },
    {
     "name": "stderr",
     "output_type": "stream",
     "text": [
      "[Parallel(n_jobs=-1)]: Done  48 out of  48 | elapsed:  1.2min finished\n"
     ]
    },
    {
     "name": "stdout",
     "output_type": "stream",
     "text": [
      "('F1 score:', 0.86363636363636365)\n",
      "{'clf__penalty': 'l1', 'clf__C': 10, 'tfidf__norm': 'l1'}\n",
      "dataprotection\n",
      "18\n",
      "Fitting 3 folds for each of 16 candidates, totalling 48 fits\n"
     ]
    },
    {
     "name": "stderr",
     "output_type": "stream",
     "text": [
      "[Parallel(n_jobs=-1)]: Done  48 out of  48 | elapsed:   11.1s finished\n"
     ]
    },
    {
     "name": "stdout",
     "output_type": "stream",
     "text": [
      "('F1 score:', 0.7142857142857143)\n",
      "{'clf__penalty': 'l1', 'clf__C': 1, 'tfidf__norm': 'l2'}\n",
      "debate\n",
      "Fitting 3 folds for each of 16 candidates, totalling 48 fits\n"
     ]
    },
    {
     "name": "stderr",
     "output_type": "stream",
     "text": [
      "[Parallel(n_jobs=-1)]: Done  48 out of  48 | elapsed:  1.2min finished\n"
     ]
    },
    {
     "name": "stdout",
     "output_type": "stream",
     "text": [
      "('F1 score:', 0.74999999999999989)\n",
      "{'clf__penalty': 'l1', 'clf__C': 1, 'tfidf__norm': 'l2'}\n",
      "defence\n",
      "86\n",
      "Fitting 3 folds for each of 16 candidates, totalling 48 fits\n"
     ]
    },
    {
     "name": "stderr",
     "output_type": "stream",
     "text": [
      "[Parallel(n_jobs=-1)]: Done  48 out of  48 | elapsed:  1.1min finished\n"
     ]
    },
    {
     "name": "stdout",
     "output_type": "stream",
     "text": [
      "('F1 score:', 1.0)\n",
      "{'clf__penalty': 'l1', 'clf__C': 1, 'tfidf__norm': 'l2'}\n",
      "deflation\n",
      "Fitting 3 folds for each of 16 candidates, totalling 48 fits\n"
     ]
    },
    {
     "name": "stderr",
     "output_type": "stream",
     "text": [
      "[Parallel(n_jobs=-1)]: Done  48 out of  48 | elapsed:  1.1min finished\n"
     ]
    },
    {
     "name": "stdout",
     "output_type": "stream",
     "text": [
      "('F1 score:', 0.98039215686274506)\n",
      "{'clf__penalty': 'l1', 'clf__C': 1, 'tfidf__norm': 'l2'}\n",
      "drones\n",
      "Fitting 3 folds for each of 16 candidates, totalling 48 fits\n"
     ]
    },
    {
     "name": "stderr",
     "output_type": "stream",
     "text": [
      "[Parallel(n_jobs=-1)]: Done  48 out of  48 | elapsed:  1.1min finished\n"
     ]
    },
    {
     "name": "stdout",
     "output_type": "stream",
     "text": [
      "('F1 score:', 0.75555555555555565)\n",
      "{'clf__penalty': 'l1', 'clf__C': 10, 'tfidf__norm': 'l2'}\n",
      "drugs\n",
      "Fitting 3 folds for each of 16 candidates, totalling 48 fits\n"
     ]
    },
    {
     "name": "stderr",
     "output_type": "stream",
     "text": [
      "[Parallel(n_jobs=-1)]: Done  48 out of  48 | elapsed:  1.2min finished\n"
     ]
    },
    {
     "name": "stdout",
     "output_type": "stream",
     "text": [
      "('F1 score:', 0.83333333333333326)\n",
      "{'clf__penalty': 'l1', 'clf__C': 1, 'tfidf__norm': 'l2'}\n",
      "drugspolicy\n",
      "Fitting 3 folds for each of 16 candidates, totalling 48 fits\n"
     ]
    },
    {
     "name": "stderr",
     "output_type": "stream",
     "text": [
      "[Parallel(n_jobs=-1)]: Done  48 out of  48 | elapsed:  1.2min finished\n"
     ]
    },
    {
     "name": "stdout",
     "output_type": "stream",
     "text": [
      "('F1 score:', 0.79166666666666674)\n",
      "{'clf__penalty': 'l1', 'clf__C': 1, 'tfidf__norm': 'l2'}\n",
      "drugstrade\n",
      "Fitting 3 folds for each of 16 candidates, totalling 48 fits\n"
     ]
    },
    {
     "name": "stderr",
     "output_type": "stream",
     "text": [
      "[Parallel(n_jobs=-1)]: Done  48 out of  48 | elapsed:  1.1min finished\n"
     ]
    },
    {
     "name": "stdout",
     "output_type": "stream",
     "text": [
      "('F1 score:', 1.0)\n",
      "{'clf__penalty': 'l1', 'clf__C': 1, 'tfidf__norm': 'l1'}\n",
      "earthquakes\n",
      "Fitting 3 folds for each of 16 candidates, totalling 48 fits\n"
     ]
    },
    {
     "name": "stderr",
     "output_type": "stream",
     "text": [
      "[Parallel(n_jobs=-1)]: Done  48 out of  48 | elapsed:  1.1min finished\n"
     ]
    },
    {
     "name": "stdout",
     "output_type": "stream",
     "text": [
      "('F1 score:', 0.88888888888888895)\n",
      "{'clf__penalty': 'l1', 'clf__C': 1, 'tfidf__norm': 'l2'}\n",
      "ebola\n",
      "Fitting 3 folds for each of 16 candidates, totalling 48 fits\n"
     ]
    },
    {
     "name": "stderr",
     "output_type": "stream",
     "text": [
      "[Parallel(n_jobs=-1)]: Done  48 out of  48 | elapsed:  1.1min finished\n"
     ]
    },
    {
     "name": "stdout",
     "output_type": "stream",
     "text": [
      "('F1 score:', 0.43243243243243246)\n",
      "{'clf__penalty': 'l1', 'clf__C': 1, 'tfidf__norm': 'l2'}\n",
      "economy\n",
      "Fitting 3 folds for each of 16 candidates, totalling 48 fits\n"
     ]
    },
    {
     "name": "stderr",
     "output_type": "stream",
     "text": [
      "[Parallel(n_jobs=-1)]: Done  48 out of  48 | elapsed:  1.0min finished\n"
     ]
    },
    {
     "name": "stdout",
     "output_type": "stream",
     "text": [
      "('F1 score:', 0.86792452830188671)\n",
      "{'clf__penalty': 'l1', 'clf__C': 1, 'tfidf__norm': 'l1'}\n",
      "egypt\n",
      "34\n",
      "Fitting 3 folds for each of 16 candidates, totalling 48 fits\n"
     ]
    },
    {
     "name": "stderr",
     "output_type": "stream",
     "text": [
      "[Parallel(n_jobs=-1)]: Done  48 out of  48 | elapsed:   25.7s finished\n"
     ]
    },
    {
     "name": "stdout",
     "output_type": "stream",
     "text": [
      "('F1 score:', 1.0)\n",
      "{'clf__penalty': 'l1', 'clf__C': 1, 'tfidf__norm': 'l2'}\n",
      "encryption\n",
      "Fitting 3 folds for each of 16 candidates, totalling 48 fits\n"
     ]
    },
    {
     "name": "stderr",
     "output_type": "stream",
     "text": [
      "[Parallel(n_jobs=-1)]: Done  48 out of  48 | elapsed:  1.4min finished\n"
     ]
    },
    {
     "name": "stdout",
     "output_type": "stream",
     "text": [
      "('F1 score:', 0.81818181818181812)\n",
      "{'clf__penalty': 'l1', 'clf__C': 1, 'tfidf__norm': 'l2'}\n",
      "energy\n",
      "Fitting 3 folds for each of 16 candidates, totalling 48 fits\n"
     ]
    },
    {
     "name": "stderr",
     "output_type": "stream",
     "text": [
      "[Parallel(n_jobs=-1)]: Done  48 out of  48 | elapsed:  1.3min finished\n"
     ]
    },
    {
     "name": "stdout",
     "output_type": "stream",
     "text": [
      "('F1 score:', 0.86956521739130432)\n",
      "{'clf__penalty': 'l1', 'clf__C': 1, 'tfidf__norm': 'l2'}\n",
      "espionage\n",
      "Fitting 3 folds for each of 16 candidates, totalling 48 fits\n"
     ]
    },
    {
     "name": "stderr",
     "output_type": "stream",
     "text": [
      "[Parallel(n_jobs=-1)]: Done  48 out of  48 | elapsed:  1.1min finished\n"
     ]
    },
    {
     "name": "stdout",
     "output_type": "stream",
     "text": [
      "('F1 score:', 0.52631578947368418)\n",
      "{'clf__penalty': 'l1', 'clf__C': 1, 'tfidf__norm': 'l2'}\n",
      "ethics\n",
      "87\n",
      "Fitting 3 folds for each of 16 candidates, totalling 48 fits\n"
     ]
    },
    {
     "name": "stderr",
     "output_type": "stream",
     "text": [
      "[Parallel(n_jobs=-1)]: Done  48 out of  48 | elapsed:  1.0min finished\n"
     ]
    },
    {
     "name": "stdout",
     "output_type": "stream",
     "text": [
      "('F1 score:', 1.0)\n",
      "{'clf__penalty': 'l1', 'clf__C': 10, 'tfidf__norm': 'l2'}\n",
      "europeanarrestwarrant\n",
      "Fitting 3 folds for each of 16 candidates, totalling 48 fits\n"
     ]
    },
    {
     "name": "stderr",
     "output_type": "stream",
     "text": [
      "[Parallel(n_jobs=-1)]: Done  48 out of  48 | elapsed:  1.2min finished\n"
     ]
    },
    {
     "name": "stdout",
     "output_type": "stream",
     "text": [
      "('F1 score:', 0.86274509803921562)\n",
      "{'clf__penalty': 'l1', 'clf__C': 1, 'tfidf__norm': 'l2'}\n",
      "europeancourtofhumanrights\n",
      "Fitting 3 folds for each of 16 candidates, totalling 48 fits\n"
     ]
    },
    {
     "name": "stderr",
     "output_type": "stream",
     "text": [
      "[Parallel(n_jobs=-1)]: Done  48 out of  48 | elapsed:  1.1min finished\n"
     ]
    },
    {
     "name": "stdout",
     "output_type": "stream",
     "text": [
      "('F1 score:', 0.90196078431372562)\n",
      "{'clf__penalty': 'l1', 'clf__C': 1, 'tfidf__norm': 'l1'}\n",
      "events\n",
      "Fitting 3 folds for each of 16 candidates, totalling 48 fits\n"
     ]
    },
    {
     "name": "stderr",
     "output_type": "stream",
     "text": [
      "[Parallel(n_jobs=-1)]: Done  48 out of  48 | elapsed:  1.3min finished\n"
     ]
    },
    {
     "name": "stdout",
     "output_type": "stream",
     "text": [
      "('F1 score:', 0.88888888888888895)\n",
      "{'clf__penalty': 'l1', 'clf__C': 1, 'tfidf__norm': 'l2'}\n",
      "extradition\n",
      "Fitting 3 folds for each of 16 candidates, totalling 48 fits\n"
     ]
    },
    {
     "name": "stderr",
     "output_type": "stream",
     "text": [
      "[Parallel(n_jobs=-1)]: Done  48 out of  48 | elapsed:  1.2min finished\n"
     ]
    },
    {
     "name": "stdout",
     "output_type": "stream",
     "text": [
      "('F1 score:', 0.91304347826086962)\n",
      "{'clf__penalty': 'l1', 'clf__C': 1, 'tfidf__norm': 'l2'}\n",
      "famine\n",
      "Fitting 3 folds for each of 16 candidates, totalling 48 fits\n"
     ]
    },
    {
     "name": "stderr",
     "output_type": "stream",
     "text": [
      "[Parallel(n_jobs=-1)]: Done  48 out of  48 | elapsed:  1.3min finished\n"
     ]
    },
    {
     "name": "stdout",
     "output_type": "stream",
     "text": [
      "('F1 score:', 0.80769230769230771)\n",
      "{'clf__penalty': 'l1', 'clf__C': 1, 'tfidf__norm': 'l1'}\n",
      "farright\n",
      "Fitting 3 folds for each of 16 candidates, totalling 48 fits\n"
     ]
    },
    {
     "name": "stderr",
     "output_type": "stream",
     "text": [
      "[Parallel(n_jobs=-1)]: Done  48 out of  48 | elapsed:  1.3min finished\n"
     ]
    },
    {
     "name": "stdout",
     "output_type": "stream",
     "text": [
      "('F1 score:', 0.87499999999999989)\n",
      "{'clf__penalty': 'l1', 'clf__C': 1, 'tfidf__norm': 'l1'}\n",
      "firefighters\n",
      "Fitting 3 folds for each of 16 candidates, totalling 48 fits\n"
     ]
    },
    {
     "name": "stderr",
     "output_type": "stream",
     "text": [
      "[Parallel(n_jobs=-1)]: Done  48 out of  48 | elapsed:  1.2min finished\n"
     ]
    },
    {
     "name": "stdout",
     "output_type": "stream",
     "text": [
      "('F1 score:', 0.77551020408163263)\n",
      "{'clf__penalty': 'l1', 'clf__C': 1, 'tfidf__norm': 'l2'}\n",
      "forensicscience\n",
      "Fitting 3 folds for each of 16 candidates, totalling 48 fits\n"
     ]
    },
    {
     "name": "stderr",
     "output_type": "stream",
     "text": [
      "[Parallel(n_jobs=-1)]: Done  48 out of  48 | elapsed:  1.2min finished\n"
     ]
    },
    {
     "name": "stdout",
     "output_type": "stream",
     "text": [
      "('F1 score:', 0.83333333333333326)\n",
      "{'clf__penalty': 'l1', 'clf__C': 1, 'tfidf__norm': 'l2'}\n",
      "france\n",
      "francetrainattack\n",
      "Fitting 3 folds for each of 16 candidates, totalling 48 fits\n"
     ]
    },
    {
     "name": "stderr",
     "output_type": "stream",
     "text": [
      "[Parallel(n_jobs=-1)]: Done  48 out of  48 | elapsed:  1.1min finished\n"
     ]
    },
    {
     "name": "stdout",
     "output_type": "stream",
     "text": [
      "('F1 score:', 0.42424242424242425)\n",
      "{'clf__penalty': 'l1', 'clf__C': 1, 'tfidf__norm': 'l2'}\n",
      "freedomofspeech\n",
      "84\n",
      "Fitting 3 folds for each of 16 candidates, totalling 48 fits\n"
     ]
    },
    {
     "name": "stderr",
     "output_type": "stream",
     "text": [
      "[Parallel(n_jobs=-1)]: Done  48 out of  48 | elapsed:  1.0min finished\n"
     ]
    },
    {
     "name": "stdout",
     "output_type": "stream",
     "text": [
      "('F1 score:', 1.0)\n",
      "{'clf__penalty': 'l1', 'clf__C': 1, 'tfidf__norm': 'l2'}\n",
      "genevaconventions\n",
      "Fitting 3 folds for each of 16 candidates, totalling 48 fits\n"
     ]
    },
    {
     "name": "stderr",
     "output_type": "stream",
     "text": [
      "[Parallel(n_jobs=-1)]: Done  48 out of  48 | elapsed:  1.0min finished\n"
     ]
    },
    {
     "name": "stdout",
     "output_type": "stream",
     "text": [
      "('F1 score:', 0.82608695652173914)\n",
      "{'clf__penalty': 'l1', 'clf__C': 1, 'tfidf__norm': 'l2'}\n",
      "germany\n",
      "Fitting 3 folds for each of 16 candidates, totalling 48 fits\n"
     ]
    },
    {
     "name": "stderr",
     "output_type": "stream",
     "text": [
      "[Parallel(n_jobs=-1)]: Done  48 out of  48 | elapsed:   57.7s finished\n"
     ]
    },
    {
     "name": "stdout",
     "output_type": "stream",
     "text": [
      "('F1 score:', 0.78260869565217395)\n",
      "{'clf__penalty': 'l1', 'clf__C': 1, 'tfidf__norm': 'l2'}\n",
      "guncrime\n",
      "Fitting 3 folds for each of 16 candidates, totalling 48 fits\n"
     ]
    },
    {
     "name": "stderr",
     "output_type": "stream",
     "text": [
      "[Parallel(n_jobs=-1)]: Done  48 out of  48 | elapsed:  1.0min finished\n"
     ]
    },
    {
     "name": "stdout",
     "output_type": "stream",
     "text": [
      "('F1 score:', 0.79999999999999993)\n",
      "{'clf__penalty': 'l1', 'clf__C': 1, 'tfidf__norm': 'l2'}\n",
      "hacking\n",
      "20\n",
      "Fitting 3 folds for each of 16 candidates, totalling 48 fits\n"
     ]
    },
    {
     "name": "stderr",
     "output_type": "stream",
     "text": [
      "[Parallel(n_jobs=-1)]: Done  48 out of  48 | elapsed:   10.8s finished\n"
     ]
    },
    {
     "name": "stdout",
     "output_type": "stream",
     "text": [
      "('F1 score:', 1.0)\n",
      "{'clf__penalty': 'l1', 'clf__C': 10, 'tfidf__norm': 'l1'}\n",
      "hashtags\n",
      "Fitting 3 folds for each of 16 candidates, totalling 48 fits\n"
     ]
    },
    {
     "name": "stderr",
     "output_type": "stream",
     "text": [
      "[Parallel(n_jobs=-1)]: Done  48 out of  48 | elapsed:  1.2min finished\n"
     ]
    },
    {
     "name": "stdout",
     "output_type": "stream",
     "text": [
      "('F1 score:', 0.97959183673469385)\n",
      "{'clf__penalty': 'l1', 'clf__C': 1, 'tfidf__norm': 'l2'}\n",
      "helicoptercrashes\n",
      "Fitting 3 folds for each of 16 candidates, totalling 48 fits\n"
     ]
    },
    {
     "name": "stderr",
     "output_type": "stream",
     "text": [
      "[Parallel(n_jobs=-1)]: Done  48 out of  48 | elapsed:  1.3min finished\n"
     ]
    },
    {
     "name": "stdout",
     "output_type": "stream",
     "text": [
      "('F1 score:', 0.86956521739130432)\n",
      "{'clf__penalty': 'l1', 'clf__C': 10, 'tfidf__norm': 'l1'}\n",
      "humanitarianresponse\n",
      "Fitting 3 folds for each of 16 candidates, totalling 48 fits\n"
     ]
    },
    {
     "name": "stderr",
     "output_type": "stream",
     "text": [
      "[Parallel(n_jobs=-1)]: Done  48 out of  48 | elapsed:  1.2min finished\n"
     ]
    },
    {
     "name": "stdout",
     "output_type": "stream",
     "text": [
      "('F1 score:', 0.5)\n",
      "{'clf__penalty': 'l1', 'clf__C': 1, 'tfidf__norm': 'l2'}\n",
      "humanrights\n",
      "Fitting 3 folds for each of 16 candidates, totalling 48 fits\n"
     ]
    },
    {
     "name": "stderr",
     "output_type": "stream",
     "text": [
      "[Parallel(n_jobs=-1)]: Done  48 out of  48 | elapsed:  1.3min finished\n"
     ]
    },
    {
     "name": "stdout",
     "output_type": "stream",
     "text": [
      "('F1 score:', 0.87499999999999989)\n",
      "{'clf__penalty': 'l1', 'clf__C': 1, 'tfidf__norm': 'l1'}\n",
      "humanrightsact\n",
      "Fitting 3 folds for each of 16 candidates, totalling 48 fits\n"
     ]
    },
    {
     "name": "stderr",
     "output_type": "stream",
     "text": [
      "[Parallel(n_jobs=-1)]: Done  48 out of  48 | elapsed:  1.4min finished\n"
     ]
    },
    {
     "name": "stdout",
     "output_type": "stream",
     "text": [
      "('F1 score:', 0.86956521739130432)\n",
      "{'clf__penalty': 'l1', 'clf__C': 10, 'tfidf__norm': 'l2'}\n",
      "humantrafficking\n",
      "Fitting 3 folds for each of 16 candidates, totalling 48 fits\n"
     ]
    },
    {
     "name": "stderr",
     "output_type": "stream",
     "text": [
      "[Parallel(n_jobs=-1)]: Done  48 out of  48 | elapsed:  1.4min finished\n"
     ]
    },
    {
     "name": "stdout",
     "output_type": "stream",
     "text": [
      "('F1 score:', 0.48648648648648657)\n",
      "{'clf__penalty': 'l1', 'clf__C': 1, 'tfidf__norm': 'l2'}\n",
      "immigration\n",
      "Fitting 3 folds for each of 16 candidates, totalling 48 fits\n"
     ]
    },
    {
     "name": "stderr",
     "output_type": "stream",
     "text": [
      "[Parallel(n_jobs=-1)]: Done  48 out of  48 | elapsed:  1.3min finished\n"
     ]
    },
    {
     "name": "stdout",
     "output_type": "stream",
     "text": [
      "('F1 score:', 0.88888888888888895)\n",
      "{'clf__penalty': 'l1', 'clf__C': 1, 'tfidf__norm': 'l2'}\n",
      "india\n",
      "Fitting 3 folds for each of 16 candidates, totalling 48 fits\n"
     ]
    },
    {
     "name": "stderr",
     "output_type": "stream",
     "text": [
      "[Parallel(n_jobs=-1)]: Done  48 out of  48 | elapsed:  1.1min finished\n"
     ]
    },
    {
     "name": "stdout",
     "output_type": "stream",
     "text": [
      "('F1 score:', 0.88)\n",
      "{'clf__penalty': 'l1', 'clf__C': 1, 'tfidf__norm': 'l1'}\n",
      "indonesia\n",
      "44\n",
      "Fitting 3 folds for each of 16 candidates, totalling 48 fits\n"
     ]
    },
    {
     "name": "stderr",
     "output_type": "stream",
     "text": [
      "[Parallel(n_jobs=-1)]: Done  48 out of  48 | elapsed:   36.0s finished\n"
     ]
    },
    {
     "name": "stdout",
     "output_type": "stream",
     "text": [
      "('F1 score:', 0.97777777777777775)\n",
      "{'clf__penalty': 'l1', 'clf__C': 10, 'tfidf__norm': 'l1'}\n",
      "internallydisplacedpeople\n",
      "70\n",
      "Fitting 3 folds for each of 16 candidates, totalling 48 fits\n"
     ]
    },
    {
     "name": "stderr",
     "output_type": "stream",
     "text": [
      "[Parallel(n_jobs=-1)]: Done  48 out of  48 | elapsed:   46.0s finished\n"
     ]
    },
    {
     "name": "stdout",
     "output_type": "stream",
     "text": [
      "('F1 score:', 0.97058823529411764)\n",
      "{'clf__penalty': 'l1', 'clf__C': 1, 'tfidf__norm': 'l2'}\n",
      "internationalcourtofjustice\n",
      "Fitting 3 folds for each of 16 candidates, totalling 48 fits\n"
     ]
    },
    {
     "name": "stderr",
     "output_type": "stream",
     "text": [
      "[Parallel(n_jobs=-1)]: Done  48 out of  48 | elapsed:  1.3min finished\n"
     ]
    },
    {
     "name": "stdout",
     "output_type": "stream",
     "text": [
      "('F1 score:', 0.97959183673469385)\n",
      "{'clf__penalty': 'l1', 'clf__C': 1, 'tfidf__norm': 'l2'}\n",
      "internationalcriminaljustice\n",
      "Fitting 3 folds for each of 16 candidates, totalling 48 fits\n"
     ]
    },
    {
     "name": "stderr",
     "output_type": "stream",
     "text": [
      "[Parallel(n_jobs=-1)]: Done  48 out of  48 | elapsed:  1.1min finished\n"
     ]
    },
    {
     "name": "stdout",
     "output_type": "stream",
     "text": [
      "('F1 score:', 0.79999999999999993)\n",
      "{'clf__penalty': 'l1', 'clf__C': 1, 'tfidf__norm': 'l2'}\n",
      "internetsafety\n",
      "Fitting 3 folds for each of 16 candidates, totalling 48 fits\n"
     ]
    },
    {
     "name": "stderr",
     "output_type": "stream",
     "text": [
      "[Parallel(n_jobs=-1)]: Done  48 out of  48 | elapsed:  1.2min finished\n"
     ]
    },
    {
     "name": "stdout",
     "output_type": "stream",
     "text": [
      "('F1 score:', 0.77551020408163263)\n",
      "{'clf__penalty': 'l1', 'clf__C': 1, 'tfidf__norm': 'l1'}\n",
      "iraq\n",
      "Fitting 3 folds for each of 16 candidates, totalling 48 fits\n"
     ]
    },
    {
     "name": "stderr",
     "output_type": "stream",
     "text": [
      "[Parallel(n_jobs=-1)]: Done  48 out of  48 | elapsed:  1.1min finished\n"
     ]
    },
    {
     "name": "stdout",
     "output_type": "stream",
     "text": [
      "('F1 score:', 0.85106382978723416)\n",
      "{'clf__penalty': 'l1', 'clf__C': 1, 'tfidf__norm': 'l2'}\n",
      "isis\n",
      "Fitting 3 folds for each of 16 candidates, totalling 48 fits\n"
     ]
    },
    {
     "name": "stderr",
     "output_type": "stream",
     "text": [
      "[Parallel(n_jobs=-1)]: Done  48 out of  48 | elapsed:  1.2min finished\n"
     ]
    },
    {
     "name": "stdout",
     "output_type": "stream",
     "text": [
      "('F1 score:', 0.93877551020408168)\n",
      "{'clf__penalty': 'l1', 'clf__C': 1, 'tfidf__norm': 'l2'}\n",
      "israel\n",
      "Fitting 3 folds for each of 16 candidates, totalling 48 fits\n"
     ]
    },
    {
     "name": "stderr",
     "output_type": "stream",
     "text": [
      "[Parallel(n_jobs=-1)]: Done  48 out of  48 | elapsed:  1.1min finished\n"
     ]
    },
    {
     "name": "stdout",
     "output_type": "stream",
     "text": [
      "('F1 score:', 0.88888888888888895)\n",
      "{'clf__penalty': 'l1', 'clf__C': 10, 'tfidf__norm': 'l2'}\n",
      "jordan\n",
      "Fitting 3 folds for each of 16 candidates, totalling 48 fits\n"
     ]
    },
    {
     "name": "stderr",
     "output_type": "stream",
     "text": [
      "[Parallel(n_jobs=-1)]: Done  48 out of  48 | elapsed:  1.3min finished\n"
     ]
    },
    {
     "name": "stdout",
     "output_type": "stream",
     "text": [
      "('F1 score:', 0.91666666666666663)\n",
      "{'clf__penalty': 'l1', 'clf__C': 1, 'tfidf__norm': 'l2'}\n",
      "jubilee\n",
      "Fitting 3 folds for each of 16 candidates, totalling 48 fits\n"
     ]
    },
    {
     "name": "stderr",
     "output_type": "stream",
     "text": [
      "[Parallel(n_jobs=-1)]: Done  48 out of  48 | elapsed:  1.3min finished\n"
     ]
    },
    {
     "name": "stdout",
     "output_type": "stream",
     "text": [
      "('F1 score:', 0.86792452830188671)\n",
      "{'clf__penalty': 'l1', 'clf__C': 1, 'tfidf__norm': 'l2'}\n",
      "judiciary\n",
      "Fitting 3 folds for each of 16 candidates, totalling 48 fits\n"
     ]
    },
    {
     "name": "stderr",
     "output_type": "stream",
     "text": [
      "[Parallel(n_jobs=-1)]: Done  48 out of  48 | elapsed:  1.7min finished\n"
     ]
    },
    {
     "name": "stdout",
     "output_type": "stream",
     "text": [
      "('F1 score:', 0.86363636363636365)\n",
      "{'clf__penalty': 'l1', 'clf__C': 1, 'tfidf__norm': 'l2'}\n",
      "july7\n",
      "Fitting 3 folds for each of 16 candidates, totalling 48 fits\n"
     ]
    },
    {
     "name": "stderr",
     "output_type": "stream",
     "text": [
      "[Parallel(n_jobs=-1)]: Done  48 out of  48 | elapsed:  1.3min finished\n"
     ]
    },
    {
     "name": "stdout",
     "output_type": "stream",
     "text": [
      "('F1 score:', 0.95833333333333337)\n",
      "{'clf__penalty': 'l1', 'clf__C': 1, 'tfidf__norm': 'l2'}\n",
      "justiceandsecurity\n",
      "Fitting 3 folds for each of 16 candidates, totalling 48 fits\n"
     ]
    },
    {
     "name": "stderr",
     "output_type": "stream",
     "text": [
      "[Parallel(n_jobs=-1)]: Done  48 out of  48 | elapsed:  1.4min finished\n"
     ]
    },
    {
     "name": "stdout",
     "output_type": "stream",
     "text": [
      "('F1 score:', 0.79166666666666674)\n",
      "{'clf__penalty': 'l1', 'clf__C': 1, 'tfidf__norm': 'l1'}\n",
      "kenya\n",
      "Fitting 3 folds for each of 16 candidates, totalling 48 fits\n"
     ]
    },
    {
     "name": "stderr",
     "output_type": "stream",
     "text": [
      "[Parallel(n_jobs=-1)]: Done  48 out of  48 | elapsed:  1.2min finished\n"
     ]
    },
    {
     "name": "stdout",
     "output_type": "stream",
     "text": [
      "('F1 score:', 0.86274509803921562)\n",
      "{'clf__penalty': 'l1', 'clf__C': 1, 'tfidf__norm': 'l2'}\n",
      "knifecrime\n",
      "Fitting 3 folds for each of 16 candidates, totalling 48 fits\n"
     ]
    },
    {
     "name": "stderr",
     "output_type": "stream",
     "text": [
      "[Parallel(n_jobs=-1)]: Done  48 out of  48 | elapsed:  1.2min finished\n"
     ]
    },
    {
     "name": "stdout",
     "output_type": "stream",
     "text": [
      "('F1 score:', 0.80000000000000016)\n",
      "{'clf__penalty': 'l1', 'clf__C': 1, 'tfidf__norm': 'l1'}\n",
      "lebanon\n",
      "Fitting 3 folds for each of 16 candidates, totalling 48 fits\n"
     ]
    },
    {
     "name": "stderr",
     "output_type": "stream",
     "text": [
      "[Parallel(n_jobs=-1)]: Done  48 out of  48 | elapsed:  1.2min finished\n"
     ]
    },
    {
     "name": "stdout",
     "output_type": "stream",
     "text": [
      "('F1 score:', 0.97959183673469385)\n",
      "{'clf__penalty': 'l1', 'clf__C': 1, 'tfidf__norm': 'l2'}\n",
      "libya\n",
      "Fitting 3 folds for each of 16 candidates, totalling 48 fits\n"
     ]
    },
    {
     "name": "stderr",
     "output_type": "stream",
     "text": [
      "[Parallel(n_jobs=-1)]: Done  48 out of  48 | elapsed:  1.2min finished\n"
     ]
    },
    {
     "name": "stdout",
     "output_type": "stream",
     "text": [
      "('F1 score:', 0.73076923076923084)\n",
      "{'clf__penalty': 'l1', 'clf__C': 1, 'tfidf__norm': 'l1'}\n",
      "localgovernment\n"
     ]
    },
    {
     "ename": "KeyboardInterrupt",
     "evalue": "",
     "output_type": "error",
     "traceback": [
      "\u001b[0;31m\u001b[0m",
      "\u001b[0;31mKeyboardInterrupt\u001b[0mTraceback (most recent call last)",
      "\u001b[0;32m<ipython-input-17-351fd1818b7c>\u001b[0m in \u001b[0;36m<module>\u001b[0;34m()\u001b[0m\n\u001b[1;32m      5\u001b[0m         \u001b[0msubmission\u001b[0m\u001b[0;34m[\u001b[0m\u001b[0mtopic\u001b[0m\u001b[0;34m]\u001b[0m \u001b[0;34m=\u001b[0m \u001b[0;36m0\u001b[0m\u001b[0;34m\u001b[0m\u001b[0m\n\u001b[1;32m      6\u001b[0m     \u001b[0;32melse\u001b[0m\u001b[0;34m:\u001b[0m\u001b[0;34m\u001b[0m\u001b[0m\n\u001b[0;32m----> 7\u001b[0;31m         \u001b[0mX\u001b[0m\u001b[0;34m,\u001b[0m \u001b[0my\u001b[0m \u001b[0;34m=\u001b[0m \u001b[0msampler\u001b[0m\u001b[0;34m(\u001b[0m\u001b[0mtopic\u001b[0m\u001b[0;34m,\u001b[0m \u001b[0mdf\u001b[0m\u001b[0;34m)\u001b[0m\u001b[0;34m\u001b[0m\u001b[0m\n\u001b[0m\u001b[1;32m      8\u001b[0m         \u001b[0mX_train\u001b[0m\u001b[0;34m,\u001b[0m \u001b[0mX_test\u001b[0m\u001b[0;34m,\u001b[0m \u001b[0my_train\u001b[0m\u001b[0;34m,\u001b[0m \u001b[0my_test\u001b[0m \u001b[0;34m=\u001b[0m \u001b[0mtrain_test_split\u001b[0m\u001b[0;34m(\u001b[0m\u001b[0mX\u001b[0m\u001b[0;34m,\u001b[0m \u001b[0my\u001b[0m\u001b[0;34m,\u001b[0m \u001b[0mtest_size\u001b[0m\u001b[0;34m=\u001b[0m\u001b[0;36m0.25\u001b[0m\u001b[0;34m,\u001b[0m \u001b[0mstratify\u001b[0m\u001b[0;34m=\u001b[0m\u001b[0my\u001b[0m\u001b[0;34m)\u001b[0m\u001b[0;34m\u001b[0m\u001b[0m\n\u001b[1;32m      9\u001b[0m \u001b[0;34m\u001b[0m\u001b[0m\n",
      "\u001b[0;32m<ipython-input-4-4e36f981d86e>\u001b[0m in \u001b[0;36msampler\u001b[0;34m(topic, df)\u001b[0m\n\u001b[1;32m     25\u001b[0m         \u001b[0mtopicindexes\u001b[0m \u001b[0;34m=\u001b[0m \u001b[0mdf\u001b[0m\u001b[0;34m[\u001b[0m\u001b[0mdf\u001b[0m\u001b[0;34m[\u001b[0m\u001b[0mtopic\u001b[0m\u001b[0;34m]\u001b[0m \u001b[0;34m==\u001b[0m \u001b[0;36m1\u001b[0m\u001b[0;34m]\u001b[0m\u001b[0;34m.\u001b[0m\u001b[0msample\u001b[0m\u001b[0;34m(\u001b[0m\u001b[0;36m100\u001b[0m\u001b[0;34m)\u001b[0m\u001b[0;34m.\u001b[0m\u001b[0mindex\u001b[0m\u001b[0;34m.\u001b[0m\u001b[0mtolist\u001b[0m\u001b[0;34m(\u001b[0m\u001b[0;34m)\u001b[0m\u001b[0;34m\u001b[0m\u001b[0m\n\u001b[1;32m     26\u001b[0m \u001b[0;34m\u001b[0m\u001b[0m\n\u001b[0;32m---> 27\u001b[0;31m         \u001b[0mnontopicarticlesindexes\u001b[0m \u001b[0;34m=\u001b[0m \u001b[0mdf\u001b[0m\u001b[0;34m[\u001b[0m\u001b[0mdf\u001b[0m\u001b[0;34m[\u001b[0m\u001b[0mtopic\u001b[0m\u001b[0;34m]\u001b[0m \u001b[0;34m==\u001b[0m \u001b[0;36m0\u001b[0m\u001b[0;34m]\u001b[0m\u001b[0;34m.\u001b[0m\u001b[0msample\u001b[0m\u001b[0;34m(\u001b[0m\u001b[0mlen\u001b[0m\u001b[0;34m(\u001b[0m\u001b[0mtopicindexes\u001b[0m\u001b[0;34m)\u001b[0m\u001b[0;34m*\u001b[0m\u001b[0;36m9\u001b[0m\u001b[0;34m)\u001b[0m\u001b[0;34m.\u001b[0m\u001b[0mindex\u001b[0m\u001b[0;34m.\u001b[0m\u001b[0mtolist\u001b[0m\u001b[0;34m(\u001b[0m\u001b[0;34m)\u001b[0m\u001b[0;34m\u001b[0m\u001b[0m\n\u001b[0m\u001b[1;32m     28\u001b[0m         \u001b[0mnonarticlecount\u001b[0m \u001b[0;34m=\u001b[0m \u001b[0mlen\u001b[0m\u001b[0;34m(\u001b[0m\u001b[0mnontopicarticlesindexes\u001b[0m\u001b[0;34m)\u001b[0m\u001b[0;34m\u001b[0m\u001b[0m\n\u001b[1;32m     29\u001b[0m         \u001b[0;31m# CREATE LIST OF COMBINED INDICES\u001b[0m\u001b[0;34m\u001b[0m\u001b[0;34m\u001b[0m\u001b[0m\n",
      "\u001b[0;32m//anaconda/lib/python2.7/site-packages/pandas/core/frame.pyc\u001b[0m in \u001b[0;36m__getitem__\u001b[0;34m(self, key)\u001b[0m\n\u001b[1;32m   2051\u001b[0m         \u001b[0;32mif\u001b[0m \u001b[0misinstance\u001b[0m\u001b[0;34m(\u001b[0m\u001b[0mkey\u001b[0m\u001b[0;34m,\u001b[0m \u001b[0;34m(\u001b[0m\u001b[0mSeries\u001b[0m\u001b[0;34m,\u001b[0m \u001b[0mnp\u001b[0m\u001b[0;34m.\u001b[0m\u001b[0mndarray\u001b[0m\u001b[0;34m,\u001b[0m \u001b[0mIndex\u001b[0m\u001b[0;34m,\u001b[0m \u001b[0mlist\u001b[0m\u001b[0;34m)\u001b[0m\u001b[0;34m)\u001b[0m\u001b[0;34m:\u001b[0m\u001b[0;34m\u001b[0m\u001b[0m\n\u001b[1;32m   2052\u001b[0m             \u001b[0;31m# either boolean or fancy integer index\u001b[0m\u001b[0;34m\u001b[0m\u001b[0;34m\u001b[0m\u001b[0m\n\u001b[0;32m-> 2053\u001b[0;31m             \u001b[0;32mreturn\u001b[0m \u001b[0mself\u001b[0m\u001b[0;34m.\u001b[0m\u001b[0m_getitem_array\u001b[0m\u001b[0;34m(\u001b[0m\u001b[0mkey\u001b[0m\u001b[0;34m)\u001b[0m\u001b[0;34m\u001b[0m\u001b[0m\n\u001b[0m\u001b[1;32m   2054\u001b[0m         \u001b[0;32melif\u001b[0m \u001b[0misinstance\u001b[0m\u001b[0;34m(\u001b[0m\u001b[0mkey\u001b[0m\u001b[0;34m,\u001b[0m \u001b[0mDataFrame\u001b[0m\u001b[0;34m)\u001b[0m\u001b[0;34m:\u001b[0m\u001b[0;34m\u001b[0m\u001b[0m\n\u001b[1;32m   2055\u001b[0m             \u001b[0;32mreturn\u001b[0m \u001b[0mself\u001b[0m\u001b[0;34m.\u001b[0m\u001b[0m_getitem_frame\u001b[0m\u001b[0;34m(\u001b[0m\u001b[0mkey\u001b[0m\u001b[0;34m)\u001b[0m\u001b[0;34m\u001b[0m\u001b[0m\n",
      "\u001b[0;32m//anaconda/lib/python2.7/site-packages/pandas/core/frame.pyc\u001b[0m in \u001b[0;36m_getitem_array\u001b[0;34m(self, key)\u001b[0m\n\u001b[1;32m   2093\u001b[0m             \u001b[0mkey\u001b[0m \u001b[0;34m=\u001b[0m \u001b[0mcheck_bool_indexer\u001b[0m\u001b[0;34m(\u001b[0m\u001b[0mself\u001b[0m\u001b[0;34m.\u001b[0m\u001b[0mindex\u001b[0m\u001b[0;34m,\u001b[0m \u001b[0mkey\u001b[0m\u001b[0;34m)\u001b[0m\u001b[0;34m\u001b[0m\u001b[0m\n\u001b[1;32m   2094\u001b[0m             \u001b[0mindexer\u001b[0m \u001b[0;34m=\u001b[0m \u001b[0mkey\u001b[0m\u001b[0;34m.\u001b[0m\u001b[0mnonzero\u001b[0m\u001b[0;34m(\u001b[0m\u001b[0;34m)\u001b[0m\u001b[0;34m[\u001b[0m\u001b[0;36m0\u001b[0m\u001b[0;34m]\u001b[0m\u001b[0;34m\u001b[0m\u001b[0m\n\u001b[0;32m-> 2095\u001b[0;31m             \u001b[0;32mreturn\u001b[0m \u001b[0mself\u001b[0m\u001b[0;34m.\u001b[0m\u001b[0mtake\u001b[0m\u001b[0;34m(\u001b[0m\u001b[0mindexer\u001b[0m\u001b[0;34m,\u001b[0m \u001b[0maxis\u001b[0m\u001b[0;34m=\u001b[0m\u001b[0;36m0\u001b[0m\u001b[0;34m,\u001b[0m \u001b[0mconvert\u001b[0m\u001b[0;34m=\u001b[0m\u001b[0mFalse\u001b[0m\u001b[0;34m)\u001b[0m\u001b[0;34m\u001b[0m\u001b[0m\n\u001b[0m\u001b[1;32m   2096\u001b[0m         \u001b[0;32melse\u001b[0m\u001b[0;34m:\u001b[0m\u001b[0;34m\u001b[0m\u001b[0m\n\u001b[1;32m   2097\u001b[0m             \u001b[0mindexer\u001b[0m \u001b[0;34m=\u001b[0m \u001b[0mself\u001b[0m\u001b[0;34m.\u001b[0m\u001b[0mix\u001b[0m\u001b[0;34m.\u001b[0m\u001b[0m_convert_to_indexer\u001b[0m\u001b[0;34m(\u001b[0m\u001b[0mkey\u001b[0m\u001b[0;34m,\u001b[0m \u001b[0maxis\u001b[0m\u001b[0;34m=\u001b[0m\u001b[0;36m1\u001b[0m\u001b[0;34m)\u001b[0m\u001b[0;34m\u001b[0m\u001b[0m\n",
      "\u001b[0;32m//anaconda/lib/python2.7/site-packages/pandas/core/generic.pyc\u001b[0m in \u001b[0;36mtake\u001b[0;34m(self, indices, axis, convert, is_copy, **kwargs)\u001b[0m\n\u001b[1;32m   1667\u001b[0m         new_data = self._data.take(indices,\n\u001b[1;32m   1668\u001b[0m                                    \u001b[0maxis\u001b[0m\u001b[0;34m=\u001b[0m\u001b[0mself\u001b[0m\u001b[0;34m.\u001b[0m\u001b[0m_get_block_manager_axis\u001b[0m\u001b[0;34m(\u001b[0m\u001b[0maxis\u001b[0m\u001b[0;34m)\u001b[0m\u001b[0;34m,\u001b[0m\u001b[0;34m\u001b[0m\u001b[0m\n\u001b[0;32m-> 1669\u001b[0;31m                                    convert=True, verify=True)\n\u001b[0m\u001b[1;32m   1670\u001b[0m         \u001b[0mresult\u001b[0m \u001b[0;34m=\u001b[0m \u001b[0mself\u001b[0m\u001b[0;34m.\u001b[0m\u001b[0m_constructor\u001b[0m\u001b[0;34m(\u001b[0m\u001b[0mnew_data\u001b[0m\u001b[0;34m)\u001b[0m\u001b[0;34m.\u001b[0m\u001b[0m__finalize__\u001b[0m\u001b[0;34m(\u001b[0m\u001b[0mself\u001b[0m\u001b[0;34m)\u001b[0m\u001b[0;34m\u001b[0m\u001b[0m\n\u001b[1;32m   1671\u001b[0m \u001b[0;34m\u001b[0m\u001b[0m\n",
      "\u001b[0;32m//anaconda/lib/python2.7/site-packages/pandas/core/internals.pyc\u001b[0m in \u001b[0;36mtake\u001b[0;34m(self, indexer, axis, verify, convert)\u001b[0m\n\u001b[1;32m   3962\u001b[0m         \u001b[0mnew_labels\u001b[0m \u001b[0;34m=\u001b[0m \u001b[0mself\u001b[0m\u001b[0;34m.\u001b[0m\u001b[0maxes\u001b[0m\u001b[0;34m[\u001b[0m\u001b[0maxis\u001b[0m\u001b[0;34m]\u001b[0m\u001b[0;34m.\u001b[0m\u001b[0mtake\u001b[0m\u001b[0;34m(\u001b[0m\u001b[0mindexer\u001b[0m\u001b[0;34m)\u001b[0m\u001b[0;34m\u001b[0m\u001b[0m\n\u001b[1;32m   3963\u001b[0m         return self.reindex_indexer(new_axis=new_labels, indexer=indexer,\n\u001b[0;32m-> 3964\u001b[0;31m                                     axis=axis, allow_dups=True)\n\u001b[0m\u001b[1;32m   3965\u001b[0m \u001b[0;34m\u001b[0m\u001b[0m\n\u001b[1;32m   3966\u001b[0m     \u001b[0;32mdef\u001b[0m \u001b[0mmerge\u001b[0m\u001b[0;34m(\u001b[0m\u001b[0mself\u001b[0m\u001b[0;34m,\u001b[0m \u001b[0mother\u001b[0m\u001b[0;34m,\u001b[0m \u001b[0mlsuffix\u001b[0m\u001b[0;34m=\u001b[0m\u001b[0;34m''\u001b[0m\u001b[0;34m,\u001b[0m \u001b[0mrsuffix\u001b[0m\u001b[0;34m=\u001b[0m\u001b[0;34m''\u001b[0m\u001b[0;34m)\u001b[0m\u001b[0;34m:\u001b[0m\u001b[0;34m\u001b[0m\u001b[0m\n",
      "\u001b[0;32m//anaconda/lib/python2.7/site-packages/pandas/core/internals.pyc\u001b[0m in \u001b[0;36mreindex_indexer\u001b[0;34m(self, new_axis, indexer, axis, fill_value, allow_dups, copy)\u001b[0m\n\u001b[1;32m   3848\u001b[0m             new_blocks = [blk.take_nd(indexer, axis=axis, fill_tuple=(\n\u001b[1;32m   3849\u001b[0m                 fill_value if fill_value is not None else blk.fill_value,))\n\u001b[0;32m-> 3850\u001b[0;31m                 for blk in self.blocks]\n\u001b[0m\u001b[1;32m   3851\u001b[0m \u001b[0;34m\u001b[0m\u001b[0m\n\u001b[1;32m   3852\u001b[0m         \u001b[0mnew_axes\u001b[0m \u001b[0;34m=\u001b[0m \u001b[0mlist\u001b[0m\u001b[0;34m(\u001b[0m\u001b[0mself\u001b[0m\u001b[0;34m.\u001b[0m\u001b[0maxes\u001b[0m\u001b[0;34m)\u001b[0m\u001b[0;34m\u001b[0m\u001b[0m\n",
      "\u001b[0;32m//anaconda/lib/python2.7/site-packages/pandas/core/internals.pyc\u001b[0m in \u001b[0;36mtake_nd\u001b[0;34m(self, indexer, axis, new_mgr_locs, fill_tuple)\u001b[0m\n\u001b[1;32m   1020\u001b[0m             \u001b[0mfill_value\u001b[0m \u001b[0;34m=\u001b[0m \u001b[0mfill_tuple\u001b[0m\u001b[0;34m[\u001b[0m\u001b[0;36m0\u001b[0m\u001b[0;34m]\u001b[0m\u001b[0;34m\u001b[0m\u001b[0m\n\u001b[1;32m   1021\u001b[0m             new_values = algos.take_nd(values, indexer, axis=axis,\n\u001b[0;32m-> 1022\u001b[0;31m                                        allow_fill=True, fill_value=fill_value)\n\u001b[0m\u001b[1;32m   1023\u001b[0m \u001b[0;34m\u001b[0m\u001b[0m\n\u001b[1;32m   1024\u001b[0m         \u001b[0;32mif\u001b[0m \u001b[0mnew_mgr_locs\u001b[0m \u001b[0;32mis\u001b[0m \u001b[0mNone\u001b[0m\u001b[0;34m:\u001b[0m\u001b[0;34m\u001b[0m\u001b[0m\n",
      "\u001b[0;32m//anaconda/lib/python2.7/site-packages/pandas/core/algorithms.pyc\u001b[0m in \u001b[0;36mtake_nd\u001b[0;34m(arr, indexer, axis, out, fill_value, mask_info, allow_fill)\u001b[0m\n\u001b[1;32m   1103\u001b[0m                                  mask_info=mask_info)\n\u001b[1;32m   1104\u001b[0m     \u001b[0mindexer\u001b[0m \u001b[0;34m=\u001b[0m \u001b[0m_ensure_int64\u001b[0m\u001b[0;34m(\u001b[0m\u001b[0mindexer\u001b[0m\u001b[0;34m)\u001b[0m\u001b[0;34m\u001b[0m\u001b[0m\n\u001b[0;32m-> 1105\u001b[0;31m     \u001b[0mfunc\u001b[0m\u001b[0;34m(\u001b[0m\u001b[0marr\u001b[0m\u001b[0;34m,\u001b[0m \u001b[0mindexer\u001b[0m\u001b[0;34m,\u001b[0m \u001b[0mout\u001b[0m\u001b[0;34m,\u001b[0m \u001b[0mfill_value\u001b[0m\u001b[0;34m)\u001b[0m\u001b[0;34m\u001b[0m\u001b[0m\n\u001b[0m\u001b[1;32m   1106\u001b[0m \u001b[0;34m\u001b[0m\u001b[0m\n\u001b[1;32m   1107\u001b[0m     \u001b[0;32mif\u001b[0m \u001b[0mflip_order\u001b[0m\u001b[0;34m:\u001b[0m\u001b[0;34m\u001b[0m\u001b[0m\n",
      "\u001b[0;31mKeyboardInterrupt\u001b[0m: "
     ]
    }
   ],
   "source": [
    "time1 = time.time()\n",
    "\n",
    "for topic in topics:\n",
    "    if topic in topics_0:\n",
    "        submission[topic] = 0\n",
    "    else:\n",
    "        X, y = sampler(topic, df)\n",
    "        X_train, X_test, y_train, y_test = train_test_split(X, y, test_size=0.25, stratify=y)\n",
    "        \n",
    "        #N-GRAM RANGE OF (1,1)\n",
    "        vectorizer = CountVectorizer(ngram_range=(1,2), lowercase=True, max_df=0.15)\n",
    "\n",
    "        # PIPELINE OF VECTORIZER, TF-IDF TRANSFORMER, STANDARD SCALER, MODEL\n",
    "        pipe = Pipeline([('vectorizer', vectorizer), \n",
    "                 ('tfidf', TfidfTransformer()),\n",
    "                 ('ss', StandardScaler(with_mean=False)),\n",
    "                 ('clf', clf)])\n",
    "\n",
    "        # GRIDSEARCH PIPELINE FIT\n",
    "        grid_search = GridSearchCV(pipe, parameters, n_jobs=-1, verbose=1)\n",
    "        grid_search.fit(X_train, y_train)\n",
    "\n",
    "        # PREDICT\n",
    "        preds = grid_search.best_estimator_.predict(X_test)\n",
    "        topicf1score = f1_score(y_test, preds)\n",
    "        print(\"F1 score:\", topicf1score)\n",
    "\n",
    "        # FINAL PREDICTIONS\n",
    "        preds_final = grid_search.best_estimator_.predict(testdf['text'])\n",
    "        print grid_search.best_params_\n",
    "\n",
    "        # WRITE TO CSV\n",
    "        submission[topic] = preds_final\n",
    "        \n",
    "    submission.to_csv('submission_logisticreg_n2_C.csv')\n",
    "    print topic\n",
    "    \n",
    "time2 = time.time()\n",
    "time_in_s = (time2-time1)\n",
    "print 'Function takes around %0.3f seconds to run' % (time_in_s)"
   ]
  },
  {
   "cell_type": "code",
   "execution_count": 20,
   "metadata": {},
   "outputs": [
    {
     "name": "stdout",
     "output_type": "stream",
     "text": [
      "Fitting 3 folds for each of 16 candidates, totalling 48 fits\n"
     ]
    },
    {
     "name": "stderr",
     "output_type": "stream",
     "text": [
      "[Parallel(n_jobs=-1)]: Done  48 out of  48 | elapsed:  1.2min finished\n"
     ]
    },
    {
     "name": "stdout",
     "output_type": "stream",
     "text": [
      "('F1 score:', 1.0)\n",
      "{'clf__penalty': 'l1', 'clf__C': 1, 'tfidf__norm': 'l2'}\n",
      "logistics\n",
      "Fitting 3 folds for each of 16 candidates, totalling 48 fits\n"
     ]
    },
    {
     "name": "stderr",
     "output_type": "stream",
     "text": [
      "[Parallel(n_jobs=-1)]: Done  48 out of  48 | elapsed:  1.3min finished\n"
     ]
    },
    {
     "name": "stdout",
     "output_type": "stream",
     "text": [
      "('F1 score:', 0.57142857142857151)\n",
      "{'clf__penalty': 'l1', 'clf__C': 10, 'tfidf__norm': 'l1'}\n",
      "london\n",
      "Fitting 3 folds for each of 16 candidates, totalling 48 fits\n"
     ]
    },
    {
     "name": "stderr",
     "output_type": "stream",
     "text": [
      "[Parallel(n_jobs=-1)]: Done  48 out of  48 | elapsed:  1.3min finished\n"
     ]
    },
    {
     "name": "stdout",
     "output_type": "stream",
     "text": [
      "('F1 score:', 0.95999999999999996)\n",
      "{'clf__penalty': 'l1', 'clf__C': 1, 'tfidf__norm': 'l2'}\n",
      "londonriots\n",
      "Fitting 3 folds for each of 16 candidates, totalling 48 fits\n"
     ]
    },
    {
     "name": "stderr",
     "output_type": "stream",
     "text": [
      "[Parallel(n_jobs=-1)]: Done  48 out of  48 | elapsed:  1.1min finished\n"
     ]
    },
    {
     "name": "stdout",
     "output_type": "stream",
     "text": [
      "('F1 score:', 0.88888888888888895)\n",
      "{'clf__penalty': 'l1', 'clf__C': 1, 'tfidf__norm': 'l2'}\n",
      "malaysia\n",
      "Fitting 3 folds for each of 16 candidates, totalling 48 fits\n"
     ]
    },
    {
     "name": "stderr",
     "output_type": "stream",
     "text": [
      "[Parallel(n_jobs=-1)]: Done  48 out of  48 | elapsed:  1.3min finished\n"
     ]
    },
    {
     "name": "stdout",
     "output_type": "stream",
     "text": [
      "('F1 score:', 0.91304347826086962)\n",
      "{'clf__penalty': 'l1', 'clf__C': 1, 'tfidf__norm': 'l2'}\n",
      "mali\n",
      "Fitting 3 folds for each of 16 candidates, totalling 48 fits\n"
     ]
    },
    {
     "name": "stderr",
     "output_type": "stream",
     "text": [
      "[Parallel(n_jobs=-1)]: Done  48 out of  48 | elapsed:  1.5min finished\n"
     ]
    },
    {
     "name": "stdout",
     "output_type": "stream",
     "text": [
      "('F1 score:', 0.88)\n",
      "{'clf__penalty': 'l1', 'clf__C': 10, 'tfidf__norm': 'l2'}\n",
      "malware\n",
      "Fitting 3 folds for each of 16 candidates, totalling 48 fits\n"
     ]
    },
    {
     "name": "stderr",
     "output_type": "stream",
     "text": [
      "[Parallel(n_jobs=-1)]: Done  48 out of  48 | elapsed:  1.4min finished\n"
     ]
    },
    {
     "name": "stdout",
     "output_type": "stream",
     "text": [
      "('F1 score:', 0.92000000000000004)\n",
      "{'clf__penalty': 'l1', 'clf__C': 1, 'tfidf__norm': 'l2'}\n",
      "metropolitanpolice\n",
      "Fitting 3 folds for each of 16 candidates, totalling 48 fits\n"
     ]
    },
    {
     "name": "stderr",
     "output_type": "stream",
     "text": [
      "[Parallel(n_jobs=-1)]: Done  48 out of  48 | elapsed:  1.2min finished\n"
     ]
    },
    {
     "name": "stdout",
     "output_type": "stream",
     "text": [
      "('F1 score:', 0.95999999999999996)\n",
      "{'clf__penalty': 'l1', 'clf__C': 1, 'tfidf__norm': 'l1'}\n",
      "middleeastpeacetalks\n",
      "Fitting 3 folds for each of 16 candidates, totalling 48 fits\n"
     ]
    },
    {
     "name": "stderr",
     "output_type": "stream",
     "text": [
      "[Parallel(n_jobs=-1)]: Done  48 out of  48 | elapsed:  1.2min finished\n"
     ]
    },
    {
     "name": "stdout",
     "output_type": "stream",
     "text": [
      "('F1 score:', 0.77272727272727271)\n",
      "{'clf__penalty': 'l1', 'clf__C': 1, 'tfidf__norm': 'l2'}\n",
      "migration\n",
      "Fitting 3 folds for each of 16 candidates, totalling 48 fits\n"
     ]
    },
    {
     "name": "stderr",
     "output_type": "stream",
     "text": [
      "[Parallel(n_jobs=-1)]: Done  48 out of  48 | elapsed:  1.5min finished\n"
     ]
    },
    {
     "name": "stdout",
     "output_type": "stream",
     "text": [
      "('F1 score:', 0.84444444444444444)\n",
      "{'clf__penalty': 'l1', 'clf__C': 1, 'tfidf__norm': 'l1'}\n",
      "military\n",
      "Fitting 3 folds for each of 16 candidates, totalling 48 fits\n"
     ]
    },
    {
     "name": "stderr",
     "output_type": "stream",
     "text": [
      "[Parallel(n_jobs=-1)]: Done  48 out of  48 | elapsed:  1.3min finished\n"
     ]
    },
    {
     "name": "stdout",
     "output_type": "stream",
     "text": [
      "('F1 score:', 0.79166666666666674)\n",
      "{'clf__penalty': 'l1', 'clf__C': 10, 'tfidf__norm': 'l2'}\n",
      "ministryofdefence\n",
      "Fitting 3 folds for each of 16 candidates, totalling 48 fits\n"
     ]
    },
    {
     "name": "stderr",
     "output_type": "stream",
     "text": [
      "[Parallel(n_jobs=-1)]: Done  48 out of  48 | elapsed:  1.1min finished\n"
     ]
    },
    {
     "name": "stdout",
     "output_type": "stream",
     "text": [
      "('F1 score:', 0.84444444444444444)\n",
      "{'clf__penalty': 'l1', 'clf__C': 1, 'tfidf__norm': 'l2'}\n",
      "morocco\n",
      "Fitting 3 folds for each of 16 candidates, totalling 48 fits\n"
     ]
    },
    {
     "name": "stderr",
     "output_type": "stream",
     "text": [
      "[Parallel(n_jobs=-1)]: Done  48 out of  48 | elapsed:  1.1min finished\n"
     ]
    },
    {
     "name": "stdout",
     "output_type": "stream",
     "text": [
      "('F1 score:', 0.84444444444444444)\n",
      "{'clf__penalty': 'l1', 'clf__C': 1, 'tfidf__norm': 'l2'}\n",
      "mrsa\n",
      "Fitting 3 folds for each of 16 candidates, totalling 48 fits\n"
     ]
    },
    {
     "name": "stderr",
     "output_type": "stream",
     "text": [
      "[Parallel(n_jobs=-1)]: Done  48 out of  48 | elapsed:  1.1min finished\n"
     ]
    },
    {
     "name": "stdout",
     "output_type": "stream",
     "text": [
      "('F1 score:', 0.93877551020408168)\n",
      "{'clf__penalty': 'l1', 'clf__C': 1, 'tfidf__norm': 'l2'}\n",
      "mumbaiterrorattacks\n",
      "munichshooting\n",
      "Fitting 3 folds for each of 16 candidates, totalling 48 fits\n"
     ]
    },
    {
     "name": "stderr",
     "output_type": "stream",
     "text": [
      "[Parallel(n_jobs=-1)]: Done  48 out of  48 | elapsed:  2.9min finished\n"
     ]
    },
    {
     "name": "stdout",
     "output_type": "stream",
     "text": [
      "('F1 score:', 0.80952380952380953)\n",
      "{'clf__penalty': 'l1', 'clf__C': 10, 'tfidf__norm': 'l2'}\n",
      "naturaldisasters\n",
      "Fitting 3 folds for each of 16 candidates, totalling 48 fits\n"
     ]
    },
    {
     "name": "stderr",
     "output_type": "stream",
     "text": [
      "[Parallel(n_jobs=-1)]: Done  48 out of  48 | elapsed:  1.1min finished\n"
     ]
    },
    {
     "name": "stdout",
     "output_type": "stream",
     "text": [
      "('F1 score:', 0.81632653061224503)\n",
      "{'clf__penalty': 'l1', 'clf__C': 1, 'tfidf__norm': 'l1'}\n",
      "nigeria\n",
      "Fitting 3 folds for each of 16 candidates, totalling 48 fits\n"
     ]
    },
    {
     "name": "stderr",
     "output_type": "stream",
     "text": [
      "[Parallel(n_jobs=-1)]: Done  48 out of  48 | elapsed:  1.1min finished\n"
     ]
    },
    {
     "name": "stdout",
     "output_type": "stream",
     "text": [
      "('F1 score:', 0.93877551020408168)\n",
      "{'clf__penalty': 'l1', 'clf__C': 1, 'tfidf__norm': 'l2'}\n",
      "nuclearweapons\n",
      "Fitting 3 folds for each of 16 candidates, totalling 48 fits\n"
     ]
    },
    {
     "name": "stderr",
     "output_type": "stream",
     "text": [
      "[Parallel(n_jobs=-1)]: Done  48 out of  48 | elapsed:  1.1min finished\n"
     ]
    },
    {
     "name": "stdout",
     "output_type": "stream",
     "text": [
      "('F1 score:', 0.91304347826086962)\n",
      "{'clf__penalty': 'l1', 'clf__C': 1, 'tfidf__norm': 'l2'}\n",
      "occupy\n",
      "Fitting 3 folds for each of 16 candidates, totalling 48 fits\n"
     ]
    },
    {
     "name": "stderr",
     "output_type": "stream",
     "text": [
      "[Parallel(n_jobs=-1)]: Done  48 out of  48 | elapsed:  1.1min finished\n"
     ]
    },
    {
     "name": "stdout",
     "output_type": "stream",
     "text": [
      "('F1 score:', 0.83333333333333326)\n",
      "{'clf__penalty': 'l1', 'clf__C': 1, 'tfidf__norm': 'l1'}\n",
      "organisedcrime\n",
      "orlandoterrorattack\n",
      "Fitting 3 folds for each of 16 candidates, totalling 48 fits\n"
     ]
    },
    {
     "name": "stderr",
     "output_type": "stream",
     "text": [
      "[Parallel(n_jobs=-1)]: Done  48 out of  48 | elapsed:  1.1min finished\n"
     ]
    },
    {
     "name": "stdout",
     "output_type": "stream",
     "text": [
      "('F1 score:', 0.97959183673469385)\n",
      "{'clf__penalty': 'l1', 'clf__C': 1, 'tfidf__norm': 'l2'}\n",
      "osamabinladen\n",
      "Fitting 3 folds for each of 16 candidates, totalling 48 fits\n"
     ]
    },
    {
     "name": "stderr",
     "output_type": "stream",
     "text": [
      "[Parallel(n_jobs=-1)]: Done  48 out of  48 | elapsed:   58.9s finished\n"
     ]
    },
    {
     "name": "stdout",
     "output_type": "stream",
     "text": [
      "('F1 score:', 0.86363636363636365)\n",
      "{'clf__penalty': 'l1', 'clf__C': 10, 'tfidf__norm': 'l2'}\n",
      "paris\n",
      "parisattacks\n",
      "peaceandreconciliation\n",
      "Fitting 3 folds for each of 16 candidates, totalling 48 fits\n"
     ]
    },
    {
     "name": "stderr",
     "output_type": "stream",
     "text": [
      "[Parallel(n_jobs=-1)]: Done  48 out of  48 | elapsed: 14.5min finished\n"
     ]
    },
    {
     "name": "stdout",
     "output_type": "stream",
     "text": [
      "('F1 score:', 0.95833333333333337)\n",
      "{'clf__penalty': 'l1', 'clf__C': 1, 'tfidf__norm': 'l2'}\n",
      "philippines\n",
      "Fitting 3 folds for each of 16 candidates, totalling 48 fits\n"
     ]
    },
    {
     "name": "stderr",
     "output_type": "stream",
     "text": [
      "[Parallel(n_jobs=-1)]: Done  48 out of  48 | elapsed:  1.3min finished\n"
     ]
    },
    {
     "name": "stdout",
     "output_type": "stream",
     "text": [
      "('F1 score:', 0.80952380952380953)\n",
      "{'clf__penalty': 'l1', 'clf__C': 1, 'tfidf__norm': 'l2'}\n",
      "piracy\n",
      "Fitting 3 folds for each of 16 candidates, totalling 48 fits\n"
     ]
    },
    {
     "name": "stderr",
     "output_type": "stream",
     "text": [
      "[Parallel(n_jobs=-1)]: Done  48 out of  48 | elapsed:  1.5min finished\n"
     ]
    },
    {
     "name": "stdout",
     "output_type": "stream",
     "text": [
      "('F1 score:', 0.92307692307692302)\n",
      "{'clf__penalty': 'l1', 'clf__C': 1, 'tfidf__norm': 'l1'}\n",
      "planecrashes\n",
      "Fitting 3 folds for each of 16 candidates, totalling 48 fits\n"
     ]
    },
    {
     "name": "stderr",
     "output_type": "stream",
     "text": [
      "[Parallel(n_jobs=-1)]: Done  48 out of  48 | elapsed:  1.1min finished\n"
     ]
    },
    {
     "name": "stdout",
     "output_type": "stream",
     "text": [
      "('F1 score:', 0.68181818181818188)\n",
      "{'clf__penalty': 'l1', 'clf__C': 1, 'tfidf__norm': 'l2'}\n",
      "police\n",
      "Fitting 3 folds for each of 16 candidates, totalling 48 fits\n"
     ]
    },
    {
     "name": "stderr",
     "output_type": "stream",
     "text": [
      "[Parallel(n_jobs=-1)]: Done  48 out of  48 | elapsed:  1.0min finished\n"
     ]
    },
    {
     "name": "stdout",
     "output_type": "stream",
     "text": [
      "('F1 score:', 0.3529411764705882)\n",
      "{'clf__penalty': 'l1', 'clf__C': 10, 'tfidf__norm': 'l1'}\n",
      "protest\n",
      "Fitting 3 folds for each of 16 candidates, totalling 48 fits\n"
     ]
    },
    {
     "name": "stderr",
     "output_type": "stream",
     "text": [
      "[Parallel(n_jobs=-1)]: Done  48 out of  48 | elapsed:  1.1min finished\n"
     ]
    },
    {
     "name": "stdout",
     "output_type": "stream",
     "text": [
      "('F1 score:', 0.78260869565217395)\n",
      "{'clf__penalty': 'l1', 'clf__C': 1, 'tfidf__norm': 'l2'}\n",
      "refugees\n",
      "Fitting 3 folds for each of 16 candidates, totalling 48 fits\n"
     ]
    },
    {
     "name": "stderr",
     "output_type": "stream",
     "text": [
      "[Parallel(n_jobs=-1)]: Done  48 out of  48 | elapsed:   59.3s finished\n"
     ]
    },
    {
     "name": "stdout",
     "output_type": "stream",
     "text": [
      "('F1 score:', 0.68292682926829273)\n",
      "{'clf__penalty': 'l1', 'clf__C': 10, 'tfidf__norm': 'l1'}\n",
      "religion\n",
      "Fitting 3 folds for each of 16 candidates, totalling 48 fits\n"
     ]
    },
    {
     "name": "stderr",
     "output_type": "stream",
     "text": [
      "[Parallel(n_jobs=-1)]: Done  48 out of  48 | elapsed:   59.1s finished\n"
     ]
    },
    {
     "name": "stdout",
     "output_type": "stream",
     "text": [
      "('F1 score:', 0.89361702127659581)\n",
      "{'clf__penalty': 'l1', 'clf__C': 1, 'tfidf__norm': 'l2'}\n",
      "retirementage\n",
      "Fitting 3 folds for each of 16 candidates, totalling 48 fits\n"
     ]
    },
    {
     "name": "stderr",
     "output_type": "stream",
     "text": [
      "[Parallel(n_jobs=-1)]: Done  48 out of  48 | elapsed:  1.2min finished\n"
     ]
    },
    {
     "name": "stdout",
     "output_type": "stream",
     "text": [
      "('F1 score:', 0.93617021276595747)\n",
      "{'clf__penalty': 'l1', 'clf__C': 1, 'tfidf__norm': 'l2'}\n",
      "rio20earthsummit\n",
      "Fitting 3 folds for each of 16 candidates, totalling 48 fits\n"
     ]
    },
    {
     "name": "stderr",
     "output_type": "stream",
     "text": [
      "[Parallel(n_jobs=-1)]: Done  48 out of  48 | elapsed:  1.2min finished\n"
     ]
    },
    {
     "name": "stdout",
     "output_type": "stream",
     "text": [
      "('F1 score:', 0.95833333333333337)\n",
      "{'clf__penalty': 'l1', 'clf__C': 1, 'tfidf__norm': 'l2'}\n",
      "royalairforce\n",
      "Fitting 3 folds for each of 16 candidates, totalling 48 fits\n"
     ]
    },
    {
     "name": "stderr",
     "output_type": "stream",
     "text": [
      "[Parallel(n_jobs=-1)]: Done  48 out of  48 | elapsed:  1.1min finished\n"
     ]
    },
    {
     "name": "stdout",
     "output_type": "stream",
     "text": [
      "('F1 score:', 0.91304347826086962)\n",
      "{'clf__penalty': 'l1', 'clf__C': 1, 'tfidf__norm': 'l2'}\n",
      "royalnavy\n",
      "Fitting 3 folds for each of 16 candidates, totalling 48 fits\n"
     ]
    },
    {
     "name": "stderr",
     "output_type": "stream",
     "text": [
      "[Parallel(n_jobs=-1)]: Done  48 out of  48 | elapsed:  1.1min finished\n"
     ]
    },
    {
     "name": "stdout",
     "output_type": "stream",
     "text": [
      "('F1 score:', 0.89795918367346939)\n",
      "{'clf__penalty': 'l1', 'clf__C': 1, 'tfidf__norm': 'l1'}\n",
      "russia\n",
      "sanbernardinoshooting\n",
      "Fitting 3 folds for each of 16 candidates, totalling 48 fits\n"
     ]
    },
    {
     "name": "stderr",
     "output_type": "stream",
     "text": [
      "[Parallel(n_jobs=-1)]: Done  48 out of  48 | elapsed:  1.1min finished\n"
     ]
    },
    {
     "name": "stdout",
     "output_type": "stream",
     "text": [
      "('F1 score:', 0.91304347826086962)\n",
      "{'clf__penalty': 'l1', 'clf__C': 1, 'tfidf__norm': 'l2'}\n",
      "saudiarabia\n",
      "Fitting 3 folds for each of 16 candidates, totalling 48 fits\n"
     ]
    },
    {
     "name": "stderr",
     "output_type": "stream",
     "text": [
      "[Parallel(n_jobs=-1)]: Done  48 out of  48 | elapsed:  1.1min finished\n"
     ]
    },
    {
     "name": "stdout",
     "output_type": "stream",
     "text": [
      "('F1 score:', 0.69767441860465118)\n",
      "{'clf__penalty': 'l1', 'clf__C': 10, 'tfidf__norm': 'l2'}\n",
      "september11\n",
      "Fitting 3 folds for each of 16 candidates, totalling 48 fits\n"
     ]
    },
    {
     "name": "stderr",
     "output_type": "stream",
     "text": [
      "[Parallel(n_jobs=-1)]: Done  48 out of  48 | elapsed:  1.0min finished\n"
     ]
    },
    {
     "name": "stdout",
     "output_type": "stream",
     "text": [
      "('F1 score:', 0.7441860465116279)\n",
      "{'clf__penalty': 'l1', 'clf__C': 1, 'tfidf__norm': 'l2'}\n",
      "slavery\n",
      "Fitting 3 folds for each of 16 candidates, totalling 48 fits\n"
     ]
    },
    {
     "name": "stderr",
     "output_type": "stream",
     "text": [
      "[Parallel(n_jobs=-1)]: Done  48 out of  48 | elapsed:   59.7s finished\n"
     ]
    },
    {
     "name": "stdout",
     "output_type": "stream",
     "text": [
      "('F1 score:', 0.93877551020408168)\n",
      "{'clf__penalty': 'l1', 'clf__C': 1, 'tfidf__norm': 'l2'}\n",
      "somalia\n",
      "Fitting 3 folds for each of 16 candidates, totalling 48 fits\n"
     ]
    },
    {
     "name": "stderr",
     "output_type": "stream",
     "text": [
      "[Parallel(n_jobs=-1)]: Done  48 out of  48 | elapsed:  1.1min finished\n"
     ]
    },
    {
     "name": "stdout",
     "output_type": "stream",
     "text": [
      "('F1 score:', 0.89361702127659581)\n",
      "{'clf__penalty': 'l1', 'clf__C': 1, 'tfidf__norm': 'l2'}\n",
      "southafrica\n",
      "34\n",
      "Fitting 3 folds for each of 16 candidates, totalling 48 fits\n"
     ]
    },
    {
     "name": "stderr",
     "output_type": "stream",
     "text": [
      "[Parallel(n_jobs=-1)]: Done  48 out of  48 | elapsed:   22.4s finished\n"
     ]
    },
    {
     "name": "stdout",
     "output_type": "stream",
     "text": [
      "('F1 score:', 1.0)\n",
      "{'clf__penalty': 'l1', 'clf__C': 1, 'tfidf__norm': 'l2'}\n",
      "southchinasea\n",
      "Fitting 3 folds for each of 16 candidates, totalling 48 fits\n"
     ]
    },
    {
     "name": "stderr",
     "output_type": "stream",
     "text": [
      "[Parallel(n_jobs=-1)]: Done  48 out of  48 | elapsed:  1.0min finished\n"
     ]
    },
    {
     "name": "stdout",
     "output_type": "stream",
     "text": [
      "('F1 score:', 0.95999999999999996)\n",
      "{'clf__penalty': 'l1', 'clf__C': 1, 'tfidf__norm': 'l2'}\n",
      "stopandsearch\n",
      "Fitting 3 folds for each of 16 candidates, totalling 48 fits\n"
     ]
    },
    {
     "name": "stderr",
     "output_type": "stream",
     "text": [
      "[Parallel(n_jobs=-1)]: Done  48 out of  48 | elapsed: 15.1min finished\n"
     ]
    },
    {
     "name": "stdout",
     "output_type": "stream",
     "text": [
      "('F1 score:', 0.86363636363636365)\n",
      "{'clf__penalty': 'l1', 'clf__C': 1, 'tfidf__norm': 'l2'}\n",
      "surveillance\n",
      "42\n",
      "Fitting 3 folds for each of 16 candidates, totalling 48 fits\n"
     ]
    },
    {
     "name": "stderr",
     "output_type": "stream",
     "text": [
      "[Parallel(n_jobs=-1)]: Done  48 out of  48 | elapsed:   36.5s finished\n"
     ]
    },
    {
     "name": "stdout",
     "output_type": "stream",
     "text": [
      "('F1 score:', 1.0)\n",
      "{'clf__penalty': 'l1', 'clf__C': 1, 'tfidf__norm': 'l1'}\n",
      "sydneysiege\n",
      "Fitting 3 folds for each of 16 candidates, totalling 48 fits\n"
     ]
    },
    {
     "name": "stderr",
     "output_type": "stream",
     "text": [
      "[Parallel(n_jobs=-1)]: Done  48 out of  48 | elapsed:  1.4min finished\n"
     ]
    },
    {
     "name": "stdout",
     "output_type": "stream",
     "text": [
      "('F1 score:', 0.89361702127659581)\n",
      "{'clf__penalty': 'l1', 'clf__C': 1, 'tfidf__norm': 'l2'}\n",
      "syria\n",
      "Fitting 3 folds for each of 16 candidates, totalling 48 fits\n"
     ]
    },
    {
     "name": "stderr",
     "output_type": "stream",
     "text": [
      "[Parallel(n_jobs=-1)]: Done  48 out of  48 | elapsed:  1.2min finished\n"
     ]
    },
    {
     "name": "stdout",
     "output_type": "stream",
     "text": [
      "('F1 score:', 0.86956521739130432)\n",
      "{'clf__penalty': 'l1', 'clf__C': 1, 'tfidf__norm': 'l2'}\n",
      "taliban\n",
      "Fitting 3 folds for each of 16 candidates, totalling 48 fits\n"
     ]
    },
    {
     "name": "stderr",
     "output_type": "stream",
     "text": [
      "[Parallel(n_jobs=-1)]: Done  48 out of  48 | elapsed:  1.1min finished\n"
     ]
    },
    {
     "name": "stdout",
     "output_type": "stream",
     "text": [
      "('F1 score:', 0.77272727272727271)\n",
      "{'clf__penalty': 'l1', 'clf__C': 10, 'tfidf__norm': 'l1'}\n",
      "terrorism\n",
      "Fitting 3 folds for each of 16 candidates, totalling 48 fits\n"
     ]
    },
    {
     "name": "stderr",
     "output_type": "stream",
     "text": [
      "[Parallel(n_jobs=-1)]: Done  48 out of  48 | elapsed:  1.0min finished\n"
     ]
    },
    {
     "name": "stdout",
     "output_type": "stream",
     "text": [
      "('F1 score:', 0.95833333333333337)\n",
      "{'clf__penalty': 'l1', 'clf__C': 1, 'tfidf__norm': 'l2'}\n",
      "thailand\n",
      "Fitting 3 folds for each of 16 candidates, totalling 48 fits\n"
     ]
    },
    {
     "name": "stderr",
     "output_type": "stream",
     "text": [
      "[Parallel(n_jobs=-1)]: Done  48 out of  48 | elapsed:   59.8s finished\n"
     ]
    },
    {
     "name": "stdout",
     "output_type": "stream",
     "text": [
      "('F1 score:', 0.80952380952380953)\n",
      "{'clf__penalty': 'l1', 'clf__C': 10, 'tfidf__norm': 'l1'}\n",
      "torture\n",
      "50\n",
      "Fitting 3 folds for each of 16 candidates, totalling 48 fits\n"
     ]
    },
    {
     "name": "stderr",
     "output_type": "stream",
     "text": [
      "[Parallel(n_jobs=-1)]: Done  48 out of  48 | elapsed:   40.8s finished\n"
     ]
    },
    {
     "name": "stdout",
     "output_type": "stream",
     "text": [
      "('F1 score:', 1.0)\n",
      "{'clf__penalty': 'l1', 'clf__C': 1, 'tfidf__norm': 'l2'}\n",
      "traincrashes\n",
      "Fitting 3 folds for each of 16 candidates, totalling 48 fits\n"
     ]
    },
    {
     "name": "stderr",
     "output_type": "stream",
     "text": [
      "[Parallel(n_jobs=-1)]: Done  48 out of  48 | elapsed:  1.1min finished\n"
     ]
    },
    {
     "name": "stdout",
     "output_type": "stream",
     "text": [
      "('F1 score:', 0.70588235294117652)\n",
      "{'clf__penalty': 'l1', 'clf__C': 1, 'tfidf__norm': 'l1'}\n",
      "transport\n",
      "tunisiaattack2015\n",
      "Fitting 3 folds for each of 16 candidates, totalling 48 fits\n"
     ]
    },
    {
     "name": "stderr",
     "output_type": "stream",
     "text": [
      "[Parallel(n_jobs=-1)]: Done  48 out of  48 | elapsed:  1.1min finished\n"
     ]
    },
    {
     "name": "stdout",
     "output_type": "stream",
     "text": [
      "('F1 score:', 0.95999999999999996)\n",
      "{'clf__penalty': 'l1', 'clf__C': 1, 'tfidf__norm': 'l2'}\n",
      "turkey\n",
      "turkeycoupattempt\n",
      "Fitting 3 folds for each of 16 candidates, totalling 48 fits\n"
     ]
    },
    {
     "name": "stderr",
     "output_type": "stream",
     "text": [
      "[Parallel(n_jobs=-1)]: Done  48 out of  48 | elapsed:  1.3min finished\n"
     ]
    },
    {
     "name": "stdout",
     "output_type": "stream",
     "text": [
      "('F1 score:', 0.54054054054054057)\n",
      "{'clf__penalty': 'l1', 'clf__C': 100, 'tfidf__norm': 'l1'}\n",
      "ukcrime\n",
      "Fitting 3 folds for each of 16 candidates, totalling 48 fits\n"
     ]
    },
    {
     "name": "stderr",
     "output_type": "stream",
     "text": [
      "[Parallel(n_jobs=-1)]: Done  48 out of  48 | elapsed:  1.0min finished\n"
     ]
    },
    {
     "name": "stdout",
     "output_type": "stream",
     "text": [
      "('F1 score:', 0.65000000000000002)\n",
      "{'clf__penalty': 'l1', 'clf__C': 1, 'tfidf__norm': 'l2'}\n",
      "uksecurity\n",
      "Fitting 3 folds for each of 16 candidates, totalling 48 fits\n"
     ]
    },
    {
     "name": "stderr",
     "output_type": "stream",
     "text": [
      "[Parallel(n_jobs=-1)]: Done  48 out of  48 | elapsed:   57.3s finished\n"
     ]
    },
    {
     "name": "stdout",
     "output_type": "stream",
     "text": [
      "('F1 score:', 0.92000000000000004)\n",
      "{'clf__penalty': 'l1', 'clf__C': 1, 'tfidf__norm': 'l2'}\n",
      "uksupremecourt\n",
      "Fitting 3 folds for each of 16 candidates, totalling 48 fits\n"
     ]
    },
    {
     "name": "stderr",
     "output_type": "stream",
     "text": [
      "[Parallel(n_jobs=-1)]: Done  48 out of  48 | elapsed:  1.2min finished\n"
     ]
    },
    {
     "name": "stdout",
     "output_type": "stream",
     "text": [
      "('F1 score:', 0.97959183673469385)\n",
      "{'clf__penalty': 'l1', 'clf__C': 1, 'tfidf__norm': 'l2'}\n",
      "undercoverpoliceandpolicing\n",
      "Fitting 3 folds for each of 16 candidates, totalling 48 fits\n"
     ]
    },
    {
     "name": "stderr",
     "output_type": "stream",
     "text": [
      "[Parallel(n_jobs=-1)]: Done  48 out of  48 | elapsed:  1.0min finished\n"
     ]
    },
    {
     "name": "stdout",
     "output_type": "stream",
     "text": [
      "('F1 score:', 0.87499999999999989)\n",
      "{'clf__penalty': 'l1', 'clf__C': 1, 'tfidf__norm': 'l2'}\n",
      "unitednations\n",
      "Fitting 3 folds for each of 16 candidates, totalling 48 fits\n"
     ]
    },
    {
     "name": "stderr",
     "output_type": "stream",
     "text": [
      "[Parallel(n_jobs=-1)]: Done  48 out of  48 | elapsed:  1.0min finished\n"
     ]
    },
    {
     "name": "stdout",
     "output_type": "stream",
     "text": [
      "('F1 score:', 0.85714285714285721)\n",
      "{'clf__penalty': 'l1', 'clf__C': 1, 'tfidf__norm': 'l1'}\n",
      "usguncontrol\n",
      "18\n",
      "Fitting 3 folds for each of 16 candidates, totalling 48 fits\n"
     ]
    },
    {
     "name": "stderr",
     "output_type": "stream",
     "text": [
      "[Parallel(n_jobs=-1)]: Done  48 out of  48 | elapsed:   11.7s finished\n"
     ]
    },
    {
     "name": "stdout",
     "output_type": "stream",
     "text": [
      "('F1 score:', 1.0)\n",
      "{'clf__penalty': 'l1', 'clf__C': 10, 'tfidf__norm': 'l2'}\n",
      "values\n",
      "Fitting 3 folds for each of 16 candidates, totalling 48 fits\n"
     ]
    },
    {
     "name": "stderr",
     "output_type": "stream",
     "text": [
      "[Parallel(n_jobs=-1)]: Done  48 out of  48 | elapsed: 21.4min finished\n"
     ]
    },
    {
     "name": "stdout",
     "output_type": "stream",
     "text": [
      "('F1 score:', 0.89795918367346939)\n",
      "{'clf__penalty': 'l1', 'clf__C': 1, 'tfidf__norm': 'l1'}\n",
      "warcrimes\n",
      "Fitting 3 folds for each of 16 candidates, totalling 48 fits\n"
     ]
    },
    {
     "name": "stderr",
     "output_type": "stream",
     "text": [
      "[Parallel(n_jobs=-1)]: Done  48 out of  48 | elapsed:  1.2min finished\n"
     ]
    },
    {
     "name": "stdout",
     "output_type": "stream",
     "text": [
      "('F1 score:', 0.76190476190476208)\n",
      "{'clf__penalty': 'l1', 'clf__C': 10, 'tfidf__norm': 'l2'}\n",
      "warreporting\n",
      "Fitting 3 folds for each of 16 candidates, totalling 48 fits\n"
     ]
    },
    {
     "name": "stderr",
     "output_type": "stream",
     "text": [
      "[Parallel(n_jobs=-1)]: Done  48 out of  48 | elapsed:  1.0min finished\n"
     ]
    },
    {
     "name": "stdout",
     "output_type": "stream",
     "text": [
      "('F1 score:', 0.7142857142857143)\n",
      "{'clf__penalty': 'l1', 'clf__C': 1, 'tfidf__norm': 'l2'}\n",
      "weaponstechnology\n",
      "Fitting 3 folds for each of 16 candidates, totalling 48 fits\n"
     ]
    },
    {
     "name": "stderr",
     "output_type": "stream",
     "text": [
      "[Parallel(n_jobs=-1)]: Done  48 out of  48 | elapsed:  1.0min finished\n"
     ]
    },
    {
     "name": "stdout",
     "output_type": "stream",
     "text": [
      "('F1 score:', 0.91304347826086962)\n",
      "{'clf__penalty': 'l1', 'clf__C': 1, 'tfidf__norm': 'l2'}\n",
      "womeninbusiness\n",
      "Fitting 3 folds for each of 16 candidates, totalling 48 fits\n"
     ]
    },
    {
     "name": "stderr",
     "output_type": "stream",
     "text": [
      "[Parallel(n_jobs=-1)]: Done  48 out of  48 | elapsed:  1.0min finished\n"
     ]
    },
    {
     "name": "stdout",
     "output_type": "stream",
     "text": [
      "('F1 score:', 0.87499999999999989)\n",
      "{'clf__penalty': 'l1', 'clf__C': 1, 'tfidf__norm': 'l1'}\n",
      "woolwichattack\n",
      "Fitting 3 folds for each of 16 candidates, totalling 48 fits\n"
     ]
    },
    {
     "name": "stderr",
     "output_type": "stream",
     "text": [
      "[Parallel(n_jobs=-1)]: Done  48 out of  48 | elapsed:  1.0min finished\n"
     ]
    },
    {
     "name": "stdout",
     "output_type": "stream",
     "text": [
      "('F1 score:', 0.93617021276595747)\n",
      "{'clf__penalty': 'l1', 'clf__C': 1, 'tfidf__norm': 'l1'}\n",
      "worldmigration\n",
      "zikavirus\n",
      "Function takes around 10091.745 seconds to run\n"
     ]
    }
   ],
   "source": [
    "time1 = time.time()\n",
    "\n",
    "for topic in topics:\n",
    "    if topic in topics_0:\n",
    "        submission[topic] = 0\n",
    "    else:\n",
    "        X, y = sampler(topic, df)\n",
    "        X_train, X_test, y_train, y_test = train_test_split(X, y, test_size=0.25, stratify=y)\n",
    "        \n",
    "        #N-GRAM RANGE OF (1,1)\n",
    "        vectorizer = CountVectorizer(ngram_range=(1,2), lowercase=True, max_df=0.15)\n",
    "\n",
    "        # PIPELINE OF VECTORIZER, TF-IDF TRANSFORMER, STANDARD SCALER, MODEL\n",
    "        pipe = Pipeline([('vectorizer', vectorizer), \n",
    "                 ('tfidf', TfidfTransformer()),\n",
    "                 ('ss', StandardScaler(with_mean=False)),\n",
    "                 ('clf', clf)])\n",
    "\n",
    "        # GRIDSEARCH PIPELINE FIT\n",
    "        grid_search = GridSearchCV(pipe, parameters, n_jobs=-1, verbose=1)\n",
    "        grid_search.fit(X_train, y_train)\n",
    "\n",
    "        # PREDICT\n",
    "        preds = grid_search.best_estimator_.predict(X_test)\n",
    "        topicf1score = f1_score(y_test, preds)\n",
    "        print(\"F1 score:\", topicf1score)\n",
    "\n",
    "        # FINAL PREDICTIONS\n",
    "        preds_final = grid_search.best_estimator_.predict(testdf['text'])\n",
    "        print grid_search.best_params_\n",
    "\n",
    "        # WRITE TO CSV\n",
    "        submission[topic] = preds_final\n",
    "        \n",
    "    submission.to_csv('submission_logisticreg_n2_C_2.csv')\n",
    "    print topic\n",
    "    \n",
    "time2 = time.time()\n",
    "time_in_s = (time2-time1)\n",
    "print 'Function takes around %0.3f seconds to run' % (time_in_s)"
   ]
  },
  {
   "cell_type": "code",
   "execution_count": null,
   "metadata": {
    "collapsed": true
   },
   "outputs": [],
   "source": []
  }
 ],
 "metadata": {
  "anaconda-cloud": {},
  "kernelspec": {
   "display_name": "Python [default]",
   "language": "python",
   "name": "python2"
  },
  "language_info": {
   "codemirror_mode": {
    "name": "ipython",
    "version": 2
   },
   "file_extension": ".py",
   "mimetype": "text/x-python",
   "name": "python",
   "nbconvert_exporter": "python",
   "pygments_lexer": "ipython2",
   "version": "2.7.13"
  }
 },
 "nbformat": 4,
 "nbformat_minor": 2
}
