{
 "cells": [
  {
   "cell_type": "code",
   "execution_count": 2,
   "metadata": {},
   "outputs": [
    {
     "name": "stderr",
     "output_type": "stream",
     "text": [
      "//anaconda/lib/python2.7/site-packages/sklearn/cross_validation.py:44: DeprecationWarning: This module was deprecated in version 0.18 in favor of the model_selection module into which all the refactored classes and functions are moved. Also note that the interface of the new CV iterators are different from that of this module. This module will be removed in 0.20.\n",
      "  \"This module will be removed in 0.20.\", DeprecationWarning)\n",
      "//anaconda/lib/python2.7/site-packages/sklearn/grid_search.py:43: DeprecationWarning: This module was deprecated in version 0.18 in favor of the model_selection module into which all the refactored classes and functions are moved. This module will be removed in 0.20.\n",
      "  DeprecationWarning)\n"
     ]
    }
   ],
   "source": [
    "from sklearn.feature_extraction.text import CountVectorizer\n",
    "from sklearn.base import TransformerMixin\n",
    "from sklearn.pipeline import Pipeline\n",
    "from sklearn.svm import LinearSVC\n",
    "from sklearn.linear_model import LogisticRegression\n",
    "from sklearn.feature_extraction.stop_words import ENGLISH_STOP_WORDS\n",
    "from sklearn.metrics import accuracy_score, f1_score\n",
    "from sklearn.model_selection import train_test_split\n",
    "from sklearn.feature_extraction.text import TfidfTransformer\n",
    "from sklearn.preprocessing import StandardScaler\n",
    "from sklearn.grid_search import GridSearchCV\n",
    "from sklearn.pipeline import Pipeline\n",
    "from sklearn.naive_bayes import BernoulliNB\n",
    "from sklearn.decomposition import TruncatedSVD\n",
    "from nltk.corpus import stopwords\n",
    "import string\n",
    "import re\n",
    "import pandas as pd\n",
    "import time\n",
    "import os\n",
    "import numpy as np\n",
    "import pickle"
   ]
  },
  {
   "cell_type": "code",
   "execution_count": 3,
   "metadata": {},
   "outputs": [
    {
     "name": "stdout",
     "output_type": "stream",
     "text": [
      "activism\n",
      "Function takes around 2.782 seconds to run\n",
      "afghanistan\n",
      "Function takes around 1.763 seconds to run\n",
      "aid\n",
      "Function takes around 1.217 seconds to run\n",
      "algerianhostagecrisis\n",
      "Function takes around 1.367 seconds to run\n",
      "alqaida\n",
      "Function takes around 1.213 seconds to run\n",
      "alshabaab\n",
      "Function takes around 1.244 seconds to run\n",
      "antiwar\n",
      "Function takes around 1.337 seconds to run\n",
      "arabandmiddleeastprotests\n",
      "Function takes around 1.425 seconds to run\n",
      "armstrade\n",
      "Function takes around 1.309 seconds to run\n",
      "australianguncontrol\n",
      "Function takes around 1.339 seconds to run\n",
      "australiansecurityandcounterterrorism\n",
      "Function takes around 1.518 seconds to run\n",
      "bastilledaytruckattack\n",
      "Function takes around 1.325 seconds to run\n",
      "belgium\n",
      "Function takes around 1.117 seconds to run\n",
      "berlinchristmasmarketattack\n",
      "Function takes around 1.308 seconds to run\n",
      "bigdata\n",
      "Function takes around 1.073 seconds to run\n",
      "biometrics\n",
      "Function takes around 1.141 seconds to run\n",
      "bokoharam\n",
      "Function takes around 1.158 seconds to run\n",
      "bostonmarathonbombing\n",
      "Function takes around 1.309 seconds to run\n",
      "britisharmy\n",
      "Function takes around 1.555 seconds to run\n",
      "brusselsattacks\n",
      "Function takes around 1.201 seconds to run\n",
      "cameroon\n",
      "Function takes around 1.109 seconds to run\n",
      "carers\n",
      "Function takes around 1.090 seconds to run\n",
      "charliehebdoattack\n",
      "Function takes around 1.242 seconds to run\n",
      "chemicalweapons\n",
      "Function takes around 1.210 seconds to run\n",
      "clusterbombs\n",
      "Function takes around 1.191 seconds to run\n",
      "cobra\n",
      "Function takes around 1.080 seconds to run\n",
      "conflictanddevelopment\n",
      "Function takes around 1.297 seconds to run\n",
      "controversy\n",
      "Function takes around 1.185 seconds to run\n",
      "criminaljustice\n",
      "Function takes around 1.222 seconds to run\n",
      "cybercrime\n",
      "Function takes around 1.172 seconds to run\n",
      "cyberwar\n",
      "Function takes around 1.137 seconds to run\n",
      "darknet\n",
      "Function takes around 1.225 seconds to run\n",
      "dataprotection\n",
      "Function takes around 1.318 seconds to run\n",
      "debate\n",
      "Function takes around 1.178 seconds to run\n",
      "defence\n",
      "Function takes around 1.082 seconds to run\n",
      "deflation\n",
      "Function takes around 1.164 seconds to run\n",
      "drones\n",
      "Function takes around 1.102 seconds to run\n",
      "drugs\n",
      "Function takes around 1.102 seconds to run\n",
      "drugspolicy\n",
      "Function takes around 1.179 seconds to run\n",
      "drugstrade\n",
      "Function takes around 1.150 seconds to run\n",
      "earthquakes\n",
      "Function takes around 1.193 seconds to run\n",
      "ebola\n",
      "Function takes around 1.071 seconds to run\n",
      "economy\n",
      "Function takes around 1.115 seconds to run\n",
      "egypt\n",
      "Function takes around 1.076 seconds to run\n",
      "encryption\n",
      "Function takes around 1.148 seconds to run\n",
      "energy\n",
      "Function takes around 1.120 seconds to run\n",
      "espionage\n",
      "Function takes around 1.178 seconds to run\n",
      "ethics\n",
      "Function takes around 1.109 seconds to run\n",
      "europeanarrestwarrant\n",
      "Function takes around 1.248 seconds to run\n",
      "europeancourtofhumanrights\n",
      "Function takes around 1.383 seconds to run\n",
      "events\n",
      "Function takes around 1.144 seconds to run\n",
      "extradition\n",
      "Function takes around 1.200 seconds to run\n",
      "famine\n",
      "Function takes around 1.138 seconds to run\n",
      "farright\n",
      "Function takes around 1.116 seconds to run\n",
      "firefighters\n",
      "Function takes around 1.235 seconds to run\n",
      "forensicscience\n",
      "Function takes around 1.323 seconds to run\n",
      "france\n",
      "Function takes around 1.287 seconds to run\n",
      "francetrainattack\n",
      "Function takes around 1.349 seconds to run\n",
      "freedomofspeech\n",
      "Function takes around 1.325 seconds to run\n",
      "genevaconventions\n",
      "Function takes around 1.423 seconds to run\n",
      "germany\n",
      "Function takes around 1.140 seconds to run\n",
      "guncrime\n",
      "Function takes around 1.218 seconds to run\n",
      "hacking\n",
      "Function takes around 1.239 seconds to run\n",
      "hashtags\n",
      "Function takes around 1.211 seconds to run\n",
      "helicoptercrashes\n",
      "Function takes around 1.312 seconds to run\n",
      "humanitarianresponse\n",
      "Function takes around 1.313 seconds to run\n",
      "humanrights\n",
      "Function takes around 1.314 seconds to run\n",
      "humanrightsact\n",
      "Function takes around 1.400 seconds to run\n",
      "humantrafficking\n",
      "Function takes around 1.400 seconds to run\n",
      "immigration\n",
      "Function takes around 1.177 seconds to run\n",
      "india\n",
      "Function takes around 1.066 seconds to run\n",
      "indonesia\n",
      "Function takes around 1.116 seconds to run\n",
      "internallydisplacedpeople\n",
      "Function takes around 1.343 seconds to run\n",
      "internationalcourtofjustice\n",
      "Function takes around 1.409 seconds to run\n",
      "internationalcriminaljustice\n",
      "Function takes around 1.468 seconds to run\n",
      "internetsafety\n",
      "Function takes around 1.296 seconds to run\n",
      "iraq\n",
      "Function takes around 1.139 seconds to run\n",
      "isis\n",
      "Function takes around 1.098 seconds to run\n",
      "israel\n",
      "Function takes around 1.098 seconds to run\n",
      "jordan\n",
      "Function takes around 1.077 seconds to run\n",
      "jubilee\n",
      "Function takes around 1.092 seconds to run\n",
      "judiciary\n",
      "Function takes around 1.151 seconds to run\n",
      "july7\n",
      "Function takes around 1.082 seconds to run\n",
      "justiceandsecurity\n",
      "Function takes around 1.219 seconds to run\n",
      "kenya\n",
      "Function takes around 1.073 seconds to run\n",
      "knifecrime\n",
      "Function takes around 1.134 seconds to run\n",
      "lebanon\n",
      "Function takes around 1.102 seconds to run\n",
      "libya\n",
      "Function takes around 1.087 seconds to run\n",
      "localgovernment\n",
      "Function takes around 1.343 seconds to run\n",
      "logistics\n",
      "Function takes around 1.417 seconds to run\n",
      "london\n",
      "Function takes around 1.188 seconds to run\n",
      "londonriots\n",
      "Function takes around 1.254 seconds to run\n",
      "malaysia\n",
      "Function takes around 1.802 seconds to run\n",
      "mali\n",
      "Function takes around 1.210 seconds to run\n",
      "malware\n",
      "Function takes around 1.269 seconds to run\n",
      "metropolitanpolice\n",
      "Function takes around 1.431 seconds to run\n",
      "middleeastpeacetalks\n",
      "Function takes around 1.299 seconds to run\n",
      "migration\n",
      "Function takes around 1.209 seconds to run\n",
      "military\n",
      "Function takes around 1.111 seconds to run\n",
      "ministryofdefence\n",
      "Function takes around 5.247 seconds to run\n",
      "morocco\n",
      "Function takes around 1.837 seconds to run\n",
      "mrsa\n",
      "Function takes around 1.209 seconds to run\n",
      "mumbaiterrorattacks\n",
      "Function takes around 1.323 seconds to run\n",
      "munichshooting\n",
      "Function takes around 1.291 seconds to run\n",
      "naturaldisasters\n",
      "Function takes around 1.279 seconds to run\n",
      "nigeria\n",
      "Function takes around 1.154 seconds to run\n",
      "nuclearweapons\n",
      "Function takes around 1.230 seconds to run\n",
      "occupy\n",
      "Function takes around 1.197 seconds to run\n",
      "organisedcrime\n",
      "Function takes around 1.282 seconds to run\n",
      "orlandoterrorattack\n",
      "Function takes around 1.427 seconds to run\n",
      "osamabinladen\n",
      "Function takes around 1.222 seconds to run\n",
      "paris\n",
      "Function takes around 1.185 seconds to run\n",
      "parisattacks\n",
      "Function takes around 1.250 seconds to run\n",
      "peaceandreconciliation\n",
      "Function takes around 1.361 seconds to run\n",
      "philippines\n",
      "Function takes around 1.223 seconds to run\n",
      "piracy\n",
      "Function takes around 1.130 seconds to run\n",
      "planecrashes\n",
      "Function takes around 1.200 seconds to run\n",
      "police\n",
      "Function takes around 1.163 seconds to run\n",
      "protest\n",
      "Function takes around 1.180 seconds to run\n",
      "refugees\n",
      "Function takes around 1.171 seconds to run\n",
      "religion\n",
      "Function takes around 1.139 seconds to run\n",
      "retirementage\n",
      "Function takes around 1.311 seconds to run\n",
      "rio20earthsummit\n",
      "Function takes around 1.289 seconds to run\n",
      "royalairforce\n",
      "Function takes around 1.275 seconds to run\n",
      "royalnavy\n",
      "Function takes around 1.259 seconds to run\n",
      "russia\n",
      "Function takes around 1.094 seconds to run\n",
      "sanbernardinoshooting\n",
      "Function takes around 1.308 seconds to run\n",
      "saudiarabia\n",
      "Function takes around 1.268 seconds to run\n",
      "september11\n",
      "Function takes around 1.206 seconds to run\n",
      "slavery\n",
      "Function takes around 1.161 seconds to run\n",
      "somalia\n",
      "Function takes around 1.201 seconds to run\n",
      "southafrica\n",
      "Function takes around 1.480 seconds to run\n",
      "southchinasea\n",
      "Function takes around 1.616 seconds to run\n",
      "stopandsearch\n",
      "Function takes around 1.304 seconds to run\n",
      "surveillance\n",
      "Function takes around 1.334 seconds to run\n",
      "sydneysiege\n",
      "Function takes around 1.206 seconds to run\n",
      "syria\n",
      "Function takes around 1.092 seconds to run\n",
      "taliban\n",
      "Function takes around 1.108 seconds to run\n",
      "terrorism\n",
      "Function takes around 1.167 seconds to run\n",
      "thailand\n",
      "Function takes around 1.098 seconds to run\n",
      "torture\n",
      "Function takes around 1.109 seconds to run\n",
      "traincrashes\n",
      "Function takes around 1.301 seconds to run\n",
      "transport\n",
      "Function takes around 1.178 seconds to run\n",
      "tunisiaattack2015\n",
      "Function takes around 1.230 seconds to run\n",
      "turkey\n",
      "Function takes around 1.143 seconds to run\n",
      "turkeycoupattempt\n",
      "Function takes around 1.289 seconds to run\n",
      "ukcrime\n",
      "Function takes around 1.152 seconds to run\n",
      "uksecurity\n",
      "Function takes around 1.268 seconds to run\n",
      "uksupremecourt\n",
      "Function takes around 1.201 seconds to run\n"
     ]
    },
    {
     "name": "stdout",
     "output_type": "stream",
     "text": [
      "undercoverpoliceandpolicing\n",
      "Function takes around 1.336 seconds to run\n",
      "unitednations\n",
      "Function takes around 1.180 seconds to run\n",
      "usguncontrol\n",
      "Function takes around 1.149 seconds to run\n",
      "values\n",
      "Function takes around 1.072 seconds to run\n",
      "warcrimes\n",
      "Function takes around 1.163 seconds to run\n",
      "warreporting\n",
      "Function takes around 1.145 seconds to run\n",
      "weaponstechnology\n",
      "Function takes around 1.199 seconds to run\n",
      "womeninbusiness\n",
      "Function takes around 1.181 seconds to run\n",
      "woolwichattack\n",
      "Function takes around 1.173 seconds to run\n",
      "worldmigration\n",
      "Function takes around 1.169 seconds to run\n",
      "zikavirus\n",
      "Function takes around 1.141 seconds to run\n"
     ]
    }
   ],
   "source": [
    "# DEFINE DIRECTORY PATH\n",
    "path_to_json = 'TrainingData/'\n",
    "\n",
    "# CREATE LIST OF FILES FROM THE DIRECTORY\n",
    "json_files = [pos_json for pos_json in os.listdir(path_to_json) if pos_json.endswith('.json')]\n",
    "\n",
    "# DEFINE PANDAS DATAFRAME\n",
    "df = pd.DataFrame()\n",
    "\n",
    "# LOOP THROUGH FILES, READ IN JSON AND BUILD DATAFRAME\n",
    "for index, js in enumerate(json_files):\n",
    "    json_data = pd.read_json(os.path.join(path_to_json, js), 'r')\n",
    "    df = df.append(json_data)\n",
    "    \n",
    "# LOOK AT TOPIC DICTIONARY AND GET A TOPIC COUNT\n",
    "topic_file = open('./topicDictionary.txt', 'r')\n",
    "topics = topic_file.read().split('\\r\\n')\n",
    "\n",
    "# SPLITTING THE ELEMENTS OF THE JSON INTO TEXT, PUBLICATION DATE AND TOPICS\n",
    "df['text'] = df.TrainingData.apply(lambda x: x['bodyText'])\n",
    "df['pubdate'] = df.TrainingData.apply(lambda x: x['webPublicationDate'])\n",
    "df['topics'] = df.TrainingData.apply(lambda x: x['topics'])\n",
    "\n",
    "# DROP FIRST TWO COLUMNS\n",
    "df.reset_index(inplace=True, drop=True)\n",
    "df.drop('TrainingData', axis=1, inplace=True)\n",
    "\n",
    "# DEFINE FUNCTION TO CREATE OUR DATAFRAME\n",
    "def topic_col(x):\n",
    "    a = 0\n",
    "    for elem in x:\n",
    "        if elem == topic:\n",
    "            a = 1\n",
    "    return a\n",
    "\n",
    "# RUN TOPIC COL FUNCTION ON ALL DATA\n",
    "for topic in topics:\n",
    "    time1 = time.time()\n",
    "    df[topic] = df['topics'].map(topic_col)\n",
    "    print topic\n",
    "    time2 = time.time()\n",
    "    time_in_s = (time2-time1)\n",
    "    print 'Function takes around %0.3f seconds to run' % (time_in_s)"
   ]
  },
  {
   "cell_type": "code",
   "execution_count": 4,
   "metadata": {
    "collapsed": true
   },
   "outputs": [],
   "source": [
    "# CREATE FINAL TEST DF\n",
    "testdf = pd.read_json('/Users/sudheerpamula/Downloads/TestData.json', 'r')\n",
    "testdf['text'] = testdf.TestData.apply(lambda x: x['bodyText'])\n",
    "testdf['pubdate'] = testdf.TestData.apply(lambda x: x['webPublicationDate'])\n",
    "testdf['topics'] = testdf.TestData.apply(lambda x: x['topics'])\n",
    "testdf.drop('TestData', axis=1, inplace=True)"
   ]
  },
  {
   "cell_type": "code",
   "execution_count": 5,
   "metadata": {
    "collapsed": true
   },
   "outputs": [],
   "source": [
    "def sampler(topic, df):\n",
    "    \n",
    "    # SELECT INDICES OF TOPIC ARTICLES\n",
    "    topicindexes = df[df[topic] == 1].index.tolist()\n",
    "    \n",
    "    # FIND COUNT OF TOPIC ARTICLES\n",
    "    articlecount = len(topicindexes)\n",
    "    \n",
    "    if articlecount < 200:\n",
    "        print articlecount\n",
    "        # SELECT NON TOPIC INDICES\n",
    "        nontopicarticlesindexes = df[df[topic] == 0].sample(articlecount*9).index.tolist()\n",
    "        nonarticlecount = len(nontopicarticlesindexes)\n",
    "        # CREATE LIST OF COMBINED INDICES\n",
    "        sampleindex = topicindexes + nontopicarticlesindexes \n",
    "        # CREATE NEW DATAFRAME\n",
    "        X = df.iloc[sampleindex]['text'].reset_index(drop=True)\n",
    "        y = df.iloc[sampleindex][topic].reset_index(drop=True)\n",
    "        X = X.append(df.iloc[topicindexes]['text'])\n",
    "        y = y.append(df.iloc[topicindexes][topic])\n",
    "        X.reset_index(drop=True, inplace=True)\n",
    "        y.reset_index(drop=True, inplace=True) \n",
    "    else:\n",
    "        # SELECT NON TOPIC INDICES\n",
    "        topicindexes = df[df[topic] == 1].sample(200).index.tolist()\n",
    "        \n",
    "        nontopicarticlesindexes = df[df[topic] == 0].sample(len(topicindexes)*9).index.tolist()\n",
    "        nonarticlecount = len(nontopicarticlesindexes)\n",
    "        # CREATE LIST OF COMBINED INDICES\n",
    "        sampleindex = topicindexes + nontopicarticlesindexes\n",
    "        # CREATE NEW DATAFRAME\n",
    "        X = df.iloc[sampleindex]['text'].reset_index(drop=True)\n",
    "        y = df.iloc[sampleindex][topic].reset_index(drop=True)\n",
    "    \n",
    "    return X, y"
   ]
  },
  {
   "cell_type": "code",
   "execution_count": 6,
   "metadata": {
    "collapsed": true
   },
   "outputs": [],
   "source": [
    "submission = pd.DataFrame(index=testdf.index, columns=topics)"
   ]
  },
  {
   "cell_type": "code",
   "execution_count": 6,
   "metadata": {
    "collapsed": true
   },
   "outputs": [],
   "source": [
    "# OPEN VOCABULARY DICTIONARY PICKLE AND EDIT\n",
    "with open('vocab.pickle', 'rb') as handle:\n",
    "    modelvocab = pickle.load(handle)"
   ]
  },
  {
   "cell_type": "code",
   "execution_count": 7,
   "metadata": {
    "collapsed": true
   },
   "outputs": [],
   "source": [
    "parameters = {\n",
    "    'vectorizer__max_df': (0.15, 0.25),\n",
    "    'tfidf__norm': ('l2', 'l1'),\n",
    "    'clf__penalty': ('l1', 'l2'),\n",
    "}\n",
    "\n",
    "clf = LogisticRegression(warm_start=True, n_jobs=-1)"
   ]
  },
  {
   "cell_type": "code",
   "execution_count": 8,
   "metadata": {
    "collapsed": true
   },
   "outputs": [],
   "source": [
    "topics_0 = ['activism', 'turkeycoupattempt', 'tunisiaattack2015', 'sanbernardinoshooting', 'peaceandreconciliation',\n",
    "            'parisattacks', 'orlandoterrorattack', 'munichshooting', 'francetrainattack', 'charliehebdoattack',\n",
    "            'brusselsattacks', 'berlinchristmasmarketattack','bastilledaytruckattack','zikavirus']"
   ]
  },
  {
   "cell_type": "code",
   "execution_count": null,
   "metadata": {},
   "outputs": [
    {
     "name": "stdout",
     "output_type": "stream",
     "text": [
      "activism\n",
      "Fitting 3 folds for each of 8 candidates, totalling 24 fits\n"
     ]
    },
    {
     "name": "stderr",
     "output_type": "stream",
     "text": [
      "[Parallel(n_jobs=-1)]: Done  24 out of  24 | elapsed:  3.8min finished\n"
     ]
    },
    {
     "name": "stdout",
     "output_type": "stream",
     "text": [
      "F1 score: 0.891089108911\n",
      "afghanistan\n",
      "Fitting 3 folds for each of 8 candidates, totalling 24 fits\n"
     ]
    },
    {
     "name": "stderr",
     "output_type": "stream",
     "text": [
      "[Parallel(n_jobs=-1)]: Done  24 out of  24 | elapsed:  3.5min finished\n"
     ]
    },
    {
     "name": "stdout",
     "output_type": "stream",
     "text": [
      "F1 score: 0.854368932039\n",
      "aid\n",
      "58\n",
      "Fitting 3 folds for each of 8 candidates, totalling 24 fits\n"
     ]
    },
    {
     "name": "stderr",
     "output_type": "stream",
     "text": [
      "[Parallel(n_jobs=-1)]: Done  24 out of  24 | elapsed:  1.1min finished\n"
     ]
    },
    {
     "name": "stdout",
     "output_type": "stream",
     "text": [
      "F1 score: 1.0\n",
      "algerianhostagecrisis\n",
      "Fitting 3 folds for each of 8 candidates, totalling 24 fits\n"
     ]
    },
    {
     "name": "stderr",
     "output_type": "stream",
     "text": [
      "[Parallel(n_jobs=-1)]: Done  24 out of  24 | elapsed:  4.3min finished\n"
     ]
    },
    {
     "name": "stdout",
     "output_type": "stream",
     "text": [
      "F1 score: 0.930693069307\n",
      "alqaida\n",
      "149\n",
      "Fitting 3 folds for each of 8 candidates, totalling 24 fits\n"
     ]
    },
    {
     "name": "stderr",
     "output_type": "stream",
     "text": [
      "[Parallel(n_jobs=-1)]: Done  24 out of  24 | elapsed:  3.1min finished\n"
     ]
    },
    {
     "name": "stdout",
     "output_type": "stream",
     "text": [
      "F1 score: 0.986486486486\n",
      "alshabaab\n",
      "Fitting 3 folds for each of 8 candidates, totalling 24 fits\n"
     ]
    },
    {
     "name": "stderr",
     "output_type": "stream",
     "text": [
      "[Parallel(n_jobs=-1)]: Done  24 out of  24 | elapsed:  3.4min finished\n"
     ]
    },
    {
     "name": "stdout",
     "output_type": "stream",
     "text": [
      "F1 score: 0.862745098039\n",
      "antiwar\n",
      "Fitting 3 folds for each of 8 candidates, totalling 24 fits\n"
     ]
    },
    {
     "name": "stderr",
     "output_type": "stream",
     "text": [
      "[Parallel(n_jobs=-1)]: Done  24 out of  24 | elapsed:  3.2min finished\n"
     ]
    },
    {
     "name": "stdout",
     "output_type": "stream",
     "text": [
      "F1 score: 0.865384615385\n",
      "arabandmiddleeastprotests\n",
      "Fitting 3 folds for each of 8 candidates, totalling 24 fits\n"
     ]
    },
    {
     "name": "stderr",
     "output_type": "stream",
     "text": [
      "[Parallel(n_jobs=-1)]: Done  24 out of  24 | elapsed:  3.8min finished\n"
     ]
    },
    {
     "name": "stdout",
     "output_type": "stream",
     "text": [
      "F1 score: 0.882352941176\n",
      "armstrade\n",
      "3\n",
      "Fitting 3 folds for each of 8 candidates, totalling 24 fits\n"
     ]
    },
    {
     "name": "stderr",
     "output_type": "stream",
     "text": [
      "[Parallel(n_jobs=-1)]: Done  24 out of  24 | elapsed:    3.0s finished\n"
     ]
    },
    {
     "name": "stdout",
     "output_type": "stream",
     "text": [
      "F1 score: 1.0\n",
      "australianguncontrol\n",
      "92\n",
      "Fitting 3 folds for each of 8 candidates, totalling 24 fits\n"
     ]
    },
    {
     "name": "stderr",
     "output_type": "stream",
     "text": [
      "[Parallel(n_jobs=-1)]: Done  24 out of  24 | elapsed:  1.6min finished\n"
     ]
    },
    {
     "name": "stdout",
     "output_type": "stream",
     "text": [
      "F1 score: 1.0\n",
      "australiansecurityandcounterterrorism\n",
      "bastilledaytruckattack\n",
      "Fitting 3 folds for each of 8 candidates, totalling 24 fits\n"
     ]
    },
    {
     "name": "stderr",
     "output_type": "stream",
     "text": [
      "[Parallel(n_jobs=-1)]: Done  24 out of  24 | elapsed:  3.9min finished\n"
     ]
    },
    {
     "name": "stdout",
     "output_type": "stream",
     "text": [
      "F1 score: 0.857142857143\n",
      "belgium\n",
      "berlinchristmasmarketattack\n",
      "141\n",
      "Fitting 3 folds for each of 8 candidates, totalling 24 fits\n"
     ]
    },
    {
     "name": "stderr",
     "output_type": "stream",
     "text": [
      "[Parallel(n_jobs=-1)]: Done  24 out of  24 | elapsed:  3.4min finished\n"
     ]
    },
    {
     "name": "stdout",
     "output_type": "stream",
     "text": [
      "F1 score: 0.965034965035\n",
      "bigdata\n",
      "170\n",
      "Fitting 3 folds for each of 8 candidates, totalling 24 fits\n"
     ]
    },
    {
     "name": "stderr",
     "output_type": "stream",
     "text": [
      "[Parallel(n_jobs=-1)]: Done  24 out of  24 | elapsed:  3.1min finished\n"
     ]
    },
    {
     "name": "stdout",
     "output_type": "stream",
     "text": [
      "F1 score: 0.976470588235\n",
      "biometrics\n",
      "187\n",
      "Fitting 3 folds for each of 8 candidates, totalling 24 fits\n"
     ]
    },
    {
     "name": "stderr",
     "output_type": "stream",
     "text": [
      "[Parallel(n_jobs=-1)]: Done  24 out of  24 | elapsed:  4.3min finished\n"
     ]
    },
    {
     "name": "stdout",
     "output_type": "stream",
     "text": [
      "F1 score: 1.0\n",
      "bokoharam\n",
      "178\n",
      "Fitting 3 folds for each of 8 candidates, totalling 24 fits\n"
     ]
    },
    {
     "name": "stderr",
     "output_type": "stream",
     "text": [
      "[Parallel(n_jobs=-1)]: Done  24 out of  24 | elapsed:  4.2min finished\n"
     ]
    },
    {
     "name": "stdout",
     "output_type": "stream",
     "text": [
      "F1 score: 0.977528089888\n",
      "bostonmarathonbombing\n",
      "Fitting 3 folds for each of 8 candidates, totalling 24 fits\n"
     ]
    },
    {
     "name": "stderr",
     "output_type": "stream",
     "text": [
      "[Parallel(n_jobs=-1)]: Done  24 out of  24 | elapsed:  4.8min finished\n"
     ]
    },
    {
     "name": "stdout",
     "output_type": "stream",
     "text": [
      "F1 score: 0.810810810811\n",
      "britisharmy\n",
      "brusselsattacks\n",
      "102\n",
      "Fitting 3 folds for each of 8 candidates, totalling 24 fits\n"
     ]
    },
    {
     "name": "stderr",
     "output_type": "stream",
     "text": [
      "[Parallel(n_jobs=-1)]: Done  24 out of  24 | elapsed:  2.2min finished\n"
     ]
    },
    {
     "name": "stdout",
     "output_type": "stream",
     "text": [
      "F1 score: 0.94\n",
      "cameroon\n",
      "Fitting 3 folds for each of 8 candidates, totalling 24 fits\n"
     ]
    },
    {
     "name": "stderr",
     "output_type": "stream",
     "text": [
      "[Parallel(n_jobs=-1)]: Done  24 out of  24 | elapsed:  4.6min finished\n"
     ]
    },
    {
     "name": "stdout",
     "output_type": "stream",
     "text": [
      "F1 score: 0.873786407767\n",
      "carers\n",
      "charliehebdoattack\n",
      "Fitting 3 folds for each of 8 candidates, totalling 24 fits\n"
     ]
    },
    {
     "name": "stderr",
     "output_type": "stream",
     "text": [
      "[Parallel(n_jobs=-1)]: Done  24 out of  24 | elapsed:  4.9min finished\n"
     ]
    },
    {
     "name": "stdout",
     "output_type": "stream",
     "text": [
      "F1 score: 0.96\n",
      "chemicalweapons\n",
      "109\n",
      "Fitting 3 folds for each of 8 candidates, totalling 24 fits\n"
     ]
    },
    {
     "name": "stderr",
     "output_type": "stream",
     "text": [
      "[Parallel(n_jobs=-1)]: Done  24 out of  24 | elapsed:  2.4min finished\n"
     ]
    },
    {
     "name": "stdout",
     "output_type": "stream",
     "text": [
      "F1 score: 1.0\n",
      "clusterbombs\n",
      "35\n",
      "Fitting 3 folds for each of 8 candidates, totalling 24 fits\n"
     ]
    },
    {
     "name": "stderr",
     "output_type": "stream",
     "text": [
      "[Parallel(n_jobs=-1)]: Done  24 out of  24 | elapsed:   37.3s finished\n"
     ]
    },
    {
     "name": "stdout",
     "output_type": "stream",
     "text": [
      "F1 score: 1.0\n",
      "cobra\n",
      "Fitting 3 folds for each of 8 candidates, totalling 24 fits\n"
     ]
    },
    {
     "name": "stderr",
     "output_type": "stream",
     "text": [
      "[Parallel(n_jobs=-1)]: Done  24 out of  24 | elapsed:  4.7min finished\n"
     ]
    },
    {
     "name": "stdout",
     "output_type": "stream",
     "text": [
      "F1 score: 0.933333333333\n",
      "conflictanddevelopment\n",
      "173\n",
      "Fitting 3 folds for each of 8 candidates, totalling 24 fits\n"
     ]
    },
    {
     "name": "stderr",
     "output_type": "stream",
     "text": [
      "[Parallel(n_jobs=-1)]: Done  24 out of  24 | elapsed:  4.1min finished\n"
     ]
    },
    {
     "name": "stdout",
     "output_type": "stream",
     "text": [
      "F1 score: 0.972067039106\n",
      "controversy\n",
      "Fitting 3 folds for each of 8 candidates, totalling 24 fits\n"
     ]
    },
    {
     "name": "stderr",
     "output_type": "stream",
     "text": [
      "[Parallel(n_jobs=-1)]: Done  24 out of  24 | elapsed:  4.6min finished\n"
     ]
    },
    {
     "name": "stdout",
     "output_type": "stream",
     "text": [
      "F1 score: 0.742857142857\n",
      "criminaljustice\n",
      "Fitting 3 folds for each of 8 candidates, totalling 24 fits\n"
     ]
    },
    {
     "name": "stderr",
     "output_type": "stream",
     "text": [
      "[Parallel(n_jobs=-1)]: Done  24 out of  24 | elapsed:  4.6min finished\n"
     ]
    },
    {
     "name": "stdout",
     "output_type": "stream",
     "text": [
      "F1 score: 0.831683168317\n",
      "cybercrime\n",
      "101\n",
      "Fitting 3 folds for each of 8 candidates, totalling 24 fits\n"
     ]
    },
    {
     "name": "stderr",
     "output_type": "stream",
     "text": [
      "[Parallel(n_jobs=-1)]: Done  24 out of  24 | elapsed:  2.0min finished\n"
     ]
    },
    {
     "name": "stdout",
     "output_type": "stream",
     "text": [
      "F1 score: 0.990291262136\n",
      "cyberwar\n",
      "24\n",
      "Fitting 3 folds for each of 8 candidates, totalling 24 fits\n"
     ]
    },
    {
     "name": "stderr",
     "output_type": "stream",
     "text": [
      "[Parallel(n_jobs=-1)]: Done  24 out of  24 | elapsed:   23.2s finished\n"
     ]
    },
    {
     "name": "stdout",
     "output_type": "stream",
     "text": [
      "F1 score: 1.0\n",
      "darknet\n",
      "Fitting 3 folds for each of 8 candidates, totalling 24 fits\n"
     ]
    },
    {
     "name": "stderr",
     "output_type": "stream",
     "text": [
      "[Parallel(n_jobs=-1)]: Done  24 out of  24 | elapsed:  4.6min finished\n"
     ]
    },
    {
     "name": "stdout",
     "output_type": "stream",
     "text": [
      "F1 score: 0.924528301887\n",
      "dataprotection\n",
      "18\n",
      "Fitting 3 folds for each of 8 candidates, totalling 24 fits\n"
     ]
    },
    {
     "name": "stderr",
     "output_type": "stream",
     "text": [
      "[Parallel(n_jobs=-1)]: Done  24 out of  24 | elapsed:   22.3s finished\n"
     ]
    },
    {
     "name": "stdout",
     "output_type": "stream",
     "text": [
      "F1 score: 0.947368421053\n",
      "debate\n",
      "Fitting 3 folds for each of 8 candidates, totalling 24 fits\n"
     ]
    },
    {
     "name": "stderr",
     "output_type": "stream",
     "text": [
      "[Parallel(n_jobs=-1)]: Done  24 out of  24 | elapsed:  4.9min finished\n"
     ]
    },
    {
     "name": "stdout",
     "output_type": "stream",
     "text": [
      "F1 score: 0.833333333333\n",
      "defence\n",
      "86\n",
      "Fitting 3 folds for each of 8 candidates, totalling 24 fits\n"
     ]
    },
    {
     "name": "stderr",
     "output_type": "stream",
     "text": [
      "[Parallel(n_jobs=-1)]: Done  24 out of  24 | elapsed:  1.0min finished\n"
     ]
    },
    {
     "name": "stdout",
     "output_type": "stream",
     "text": [
      "F1 score: 0.977272727273\n",
      "deflation\n",
      "Fitting 3 folds for each of 8 candidates, totalling 24 fits\n"
     ]
    },
    {
     "name": "stderr",
     "output_type": "stream",
     "text": [
      "[Parallel(n_jobs=-1)]: Done  24 out of  24 | elapsed:  2.8min finished\n"
     ]
    },
    {
     "name": "stdout",
     "output_type": "stream",
     "text": [
      "F1 score: 0.938775510204\n",
      "drones\n",
      "Fitting 3 folds for each of 8 candidates, totalling 24 fits\n"
     ]
    },
    {
     "name": "stderr",
     "output_type": "stream",
     "text": [
      "[Parallel(n_jobs=-1)]: Done  24 out of  24 | elapsed:  2.9min finished\n"
     ]
    },
    {
     "name": "stdout",
     "output_type": "stream",
     "text": [
      "F1 score: 0.87619047619\n",
      "drugs\n",
      "Fitting 3 folds for each of 8 candidates, totalling 24 fits\n"
     ]
    },
    {
     "name": "stderr",
     "output_type": "stream",
     "text": [
      "[Parallel(n_jobs=-1)]: Done  24 out of  24 | elapsed:  2.8min finished\n"
     ]
    },
    {
     "name": "stdout",
     "output_type": "stream",
     "text": [
      "F1 score: 0.924528301887\n",
      "drugspolicy\n",
      "Fitting 3 folds for each of 8 candidates, totalling 24 fits\n"
     ]
    },
    {
     "name": "stderr",
     "output_type": "stream",
     "text": [
      "[Parallel(n_jobs=-1)]: Done  24 out of  24 | elapsed:  2.6min finished\n"
     ]
    },
    {
     "name": "stdout",
     "output_type": "stream",
     "text": [
      "F1 score: 0.941176470588\n",
      "drugstrade\n",
      "Fitting 3 folds for each of 8 candidates, totalling 24 fits\n"
     ]
    },
    {
     "name": "stderr",
     "output_type": "stream",
     "text": [
      "[Parallel(n_jobs=-1)]: Done  24 out of  24 | elapsed:  3.0min finished\n"
     ]
    },
    {
     "name": "stdout",
     "output_type": "stream",
     "text": [
      "F1 score: 0.929292929293\n",
      "earthquakes\n",
      "Fitting 3 folds for each of 8 candidates, totalling 24 fits\n"
     ]
    },
    {
     "name": "stderr",
     "output_type": "stream",
     "text": [
      "[Parallel(n_jobs=-1)]: Done  24 out of  24 | elapsed:  3.1min finished\n"
     ]
    },
    {
     "name": "stdout",
     "output_type": "stream",
     "text": [
      "F1 score: 0.990099009901\n",
      "ebola\n",
      "Fitting 3 folds for each of 8 candidates, totalling 24 fits\n"
     ]
    },
    {
     "name": "stderr",
     "output_type": "stream",
     "text": [
      "[Parallel(n_jobs=-1)]: Done  24 out of  24 | elapsed:  2.9min finished\n"
     ]
    },
    {
     "name": "stdout",
     "output_type": "stream",
     "text": [
      "F1 score: 0.704761904762\n",
      "economy\n",
      "Fitting 3 folds for each of 8 candidates, totalling 24 fits\n"
     ]
    },
    {
     "name": "stderr",
     "output_type": "stream",
     "text": [
      "[Parallel(n_jobs=-1)]: Done  24 out of  24 | elapsed:  2.7min finished\n"
     ]
    },
    {
     "name": "stdout",
     "output_type": "stream",
     "text": [
      "F1 score: 0.930693069307\n",
      "egypt\n",
      "34\n",
      "Fitting 3 folds for each of 8 candidates, totalling 24 fits\n"
     ]
    },
    {
     "name": "stderr",
     "output_type": "stream",
     "text": [
      "[Parallel(n_jobs=-1)]: Done  24 out of  24 | elapsed:   24.2s finished\n"
     ]
    },
    {
     "name": "stdout",
     "output_type": "stream",
     "text": [
      "F1 score: 0.838709677419\n",
      "encryption\n",
      "Fitting 3 folds for each of 8 candidates, totalling 24 fits\n"
     ]
    },
    {
     "name": "stderr",
     "output_type": "stream",
     "text": [
      "[Parallel(n_jobs=-1)]: Done  24 out of  24 | elapsed:  2.6min finished\n"
     ]
    },
    {
     "name": "stdout",
     "output_type": "stream",
     "text": [
      "F1 score: 0.844036697248\n",
      "energy\n",
      "Fitting 3 folds for each of 8 candidates, totalling 24 fits\n"
     ]
    },
    {
     "name": "stderr",
     "output_type": "stream",
     "text": [
      "[Parallel(n_jobs=-1)]: Done  24 out of  24 | elapsed:  2.4min finished\n"
     ]
    },
    {
     "name": "stdout",
     "output_type": "stream",
     "text": [
      "F1 score: 0.907216494845\n",
      "espionage\n",
      "Fitting 3 folds for each of 8 candidates, totalling 24 fits\n"
     ]
    },
    {
     "name": "stderr",
     "output_type": "stream",
     "text": [
      "[Parallel(n_jobs=-1)]: Done  24 out of  24 | elapsed:  2.5min finished\n"
     ]
    },
    {
     "name": "stdout",
     "output_type": "stream",
     "text": [
      "F1 score: 0.711111111111\n",
      "ethics\n",
      "87\n",
      "Fitting 3 folds for each of 8 candidates, totalling 24 fits\n"
     ]
    },
    {
     "name": "stderr",
     "output_type": "stream",
     "text": [
      "[Parallel(n_jobs=-1)]: Done  24 out of  24 | elapsed:   54.4s finished\n"
     ]
    },
    {
     "name": "stdout",
     "output_type": "stream",
     "text": [
      "F1 score: 1.0\n",
      "europeanarrestwarrant\n",
      "Fitting 3 folds for each of 8 candidates, totalling 24 fits\n"
     ]
    },
    {
     "name": "stderr",
     "output_type": "stream",
     "text": [
      "[Parallel(n_jobs=-1)]: Done  24 out of  24 | elapsed:  2.3min finished\n"
     ]
    },
    {
     "name": "stdout",
     "output_type": "stream",
     "text": [
      "F1 score: 0.94\n",
      "europeancourtofhumanrights\n",
      "Fitting 3 folds for each of 8 candidates, totalling 24 fits\n"
     ]
    },
    {
     "name": "stderr",
     "output_type": "stream",
     "text": [
      "[Parallel(n_jobs=-1)]: Done  24 out of  24 | elapsed: 150.4min finished\n"
     ]
    },
    {
     "name": "stdout",
     "output_type": "stream",
     "text": [
      "F1 score: 0.88679245283\n",
      "events\n",
      "Fitting 3 folds for each of 8 candidates, totalling 24 fits\n"
     ]
    },
    {
     "name": "stderr",
     "output_type": "stream",
     "text": [
      "[Parallel(n_jobs=-1)]: Done  24 out of  24 | elapsed:  2.7min finished\n"
     ]
    },
    {
     "name": "stdout",
     "output_type": "stream",
     "text": [
      "F1 score: 0.970297029703\n",
      "extradition\n",
      "Fitting 3 folds for each of 8 candidates, totalling 24 fits\n"
     ]
    },
    {
     "name": "stderr",
     "output_type": "stream",
     "text": [
      "[Parallel(n_jobs=-1)]: Done  24 out of  24 | elapsed:  2.7min finished\n"
     ]
    },
    {
     "name": "stdout",
     "output_type": "stream",
     "text": [
      "F1 score: 0.92\n",
      "famine\n",
      "Fitting 3 folds for each of 8 candidates, totalling 24 fits\n"
     ]
    },
    {
     "name": "stderr",
     "output_type": "stream",
     "text": [
      "[Parallel(n_jobs=-1)]: Done  24 out of  24 | elapsed:  2.9min finished\n"
     ]
    },
    {
     "name": "stdout",
     "output_type": "stream",
     "text": [
      "F1 score: 0.877551020408\n",
      "farright\n",
      "Fitting 3 folds for each of 8 candidates, totalling 24 fits\n"
     ]
    },
    {
     "name": "stderr",
     "output_type": "stream",
     "text": [
      "[Parallel(n_jobs=-1)]: Done  24 out of  24 | elapsed:  2.7min finished\n"
     ]
    },
    {
     "name": "stdout",
     "output_type": "stream",
     "text": [
      "F1 score: 0.969696969697\n",
      "firefighters\n",
      "178\n",
      "Fitting 3 folds for each of 8 candidates, totalling 24 fits\n"
     ]
    },
    {
     "name": "stderr",
     "output_type": "stream",
     "text": [
      "[Parallel(n_jobs=-1)]: Done  24 out of  24 | elapsed:  2.8min finished\n"
     ]
    },
    {
     "name": "stdout",
     "output_type": "stream",
     "text": [
      "F1 score: 0.988636363636\n",
      "forensicscience\n",
      "Fitting 3 folds for each of 8 candidates, totalling 24 fits\n"
     ]
    },
    {
     "name": "stderr",
     "output_type": "stream",
     "text": [
      "[Parallel(n_jobs=-1)]: Done  24 out of  24 | elapsed:  2.8min finished\n"
     ]
    },
    {
     "name": "stdout",
     "output_type": "stream",
     "text": [
      "F1 score: 0.814814814815\n",
      "france\n",
      "francetrainattack\n",
      "Fitting 3 folds for each of 8 candidates, totalling 24 fits\n"
     ]
    }
   ],
   "source": [
    "f1_scores = []\n",
    "grid_search_params = []\n",
    "\n",
    "time1 = time.time()\n",
    "\n",
    "for topic in topics:\n",
    "    if topic in topics_0:\n",
    "        submission[topic] = 1\n",
    "        f1_scores.append(0)\n",
    "        grid_search_params.append(\"none\")\n",
    "    else:\n",
    "        X, y = sampler(topic, df)\n",
    "        X_train, X_test, y_train, y_test = train_test_split(X, y, test_size=0.25, stratify=y)\n",
    "        \n",
    "        #N-GRAM RANGE OF (1,1)\n",
    "        vectorizer = CountVectorizer(ngram_range=(1,4), stop_words='english')\n",
    "\n",
    "        # PIPELINE OF VECTORIZER, TF-IDF TRANSFORMER, STANDARD SCALER, MODEL\n",
    "        pipe = Pipeline([('vectorizer', vectorizer), \n",
    "                 ('tfidf', TfidfTransformer()),\n",
    "                 ('ss', StandardScaler(with_mean=False)),\n",
    "                 ('clf', clf)])\n",
    "\n",
    "        # GRIDSEARCH PIPELINE FIT\n",
    "        grid_search = GridSearchCV(pipe, parameters, n_jobs=-1, verbose=1)\n",
    "        grid_search.fit(X_train, y_train)\n",
    "\n",
    "        # PREDICT\n",
    "        preds = grid_search.best_estimator_.predict(X_test)\n",
    "        topicf1score = f1_score(y_test, preds)\n",
    "        print \"F1 score:\", topicf1score\n",
    "        f1_scores.append(topicf1score)\n",
    "        grid_search_params.append(grid_search.best_params_)\n",
    "\n",
    "        # FINAL PREDICTIONS\n",
    "        preds_final = grid_search.best_estimator_.predict(testdf['text'])\n",
    "\n",
    "        # WRITE TO CSV\n",
    "        submission[topic] = preds_final\n",
    "        \n",
    "    submission.to_csv('submission_logregngram4.csv')\n",
    "    print topic\n",
    "    \n",
    "time2 = time.time()\n",
    "time_in_s = (time2-time1)\n",
    "print 'Function takes around %0.3f seconds to run' % (time_in_s)\n",
    "\n",
    "scoredf = pd.DataFrame({'f1': f1_scores, 'params': grid_search_params}, index=topics)"
   ]
  },
  {
   "cell_type": "markdown",
   "metadata": {},
   "source": [
    "# Continuing to run as had to interrupt script"
   ]
  },
  {
   "cell_type": "markdown",
   "metadata": {},
   "source": [
    "Edit topic list to choose only topics that haven't been run."
   ]
  },
  {
   "cell_type": "code",
   "execution_count": 11,
   "metadata": {
    "collapsed": true
   },
   "outputs": [],
   "source": [
    "topics = ['freedomofspeech',\n",
    " 'genevaconventions',\n",
    " 'germany',\n",
    " 'guncrime',\n",
    " 'hacking',\n",
    " 'hashtags',\n",
    " 'helicoptercrashes',\n",
    " 'humanitarianresponse',\n",
    " 'humanrights',\n",
    " 'humanrightsact',\n",
    " 'humantrafficking',\n",
    " 'immigration',\n",
    " 'india',\n",
    " 'indonesia',\n",
    " 'internallydisplacedpeople',\n",
    " 'internationalcourtofjustice',\n",
    " 'internationalcriminaljustice',\n",
    " 'internetsafety',\n",
    " 'iraq',\n",
    " 'isis',\n",
    " 'israel',\n",
    " 'jordan',\n",
    " 'jubilee',\n",
    " 'judiciary',\n",
    " 'july7',\n",
    " 'justiceandsecurity',\n",
    " 'kenya',\n",
    " 'knifecrime',\n",
    " 'lebanon',\n",
    " 'libya',\n",
    " 'localgovernment',\n",
    " 'logistics',\n",
    " 'london',\n",
    " 'londonriots',\n",
    " 'malaysia',\n",
    " 'mali',\n",
    " 'malware',\n",
    " 'metropolitanpolice',\n",
    " 'middleeastpeacetalks',\n",
    " 'migration',\n",
    " 'military',\n",
    " 'ministryofdefence',\n",
    " 'morocco',\n",
    " 'mrsa',\n",
    " 'mumbaiterrorattacks',\n",
    " 'munichshooting',\n",
    " 'naturaldisasters',\n",
    " 'nigeria',\n",
    " 'nuclearweapons',\n",
    " 'occupy',\n",
    " 'organisedcrime',\n",
    " 'orlandoterrorattack',\n",
    " 'osamabinladen',\n",
    " 'paris',\n",
    " 'parisattacks',\n",
    " 'peaceandreconciliation',\n",
    " 'philippines',\n",
    " 'piracy',\n",
    " 'planecrashes',\n",
    " 'police',\n",
    " 'protest',\n",
    " 'refugees',\n",
    " 'religion',\n",
    " 'retirementage',\n",
    " 'rio20earthsummit',\n",
    " 'royalairforce',\n",
    " 'royalnavy',\n",
    " 'russia',\n",
    " 'sanbernardinoshooting',\n",
    " 'saudiarabia',\n",
    " 'september11',\n",
    " 'slavery',\n",
    " 'somalia',\n",
    " 'southafrica',\n",
    " 'southchinasea',\n",
    " 'stopandsearch',\n",
    " 'surveillance',\n",
    " 'sydneysiege',\n",
    " 'syria',\n",
    " 'taliban',\n",
    " 'terrorism',\n",
    " 'thailand',\n",
    " 'torture',\n",
    " 'traincrashes',\n",
    " 'transport',\n",
    " 'tunisiaattack2015',\n",
    " 'turkey',\n",
    " 'turkeycoupattempt',\n",
    " 'ukcrime',\n",
    " 'uksecurity',\n",
    " 'uksupremecourt',\n",
    " 'undercoverpoliceandpolicing',\n",
    " 'unitednations',\n",
    " 'usguncontrol',\n",
    " 'values',\n",
    " 'warcrimes',\n",
    " 'warreporting',\n",
    " 'weaponstechnology',\n",
    " 'womeninbusiness',\n",
    " 'woolwichattack',\n",
    " 'worldmigration',\n",
    " 'zikavirus']"
   ]
  },
  {
   "cell_type": "code",
   "execution_count": 13,
   "metadata": {},
   "outputs": [
    {
     "name": "stdout",
     "output_type": "stream",
     "text": [
      "Fitting 3 folds for each of 8 candidates, totalling 24 fits\n"
     ]
    },
    {
     "name": "stderr",
     "output_type": "stream",
     "text": [
      "[Parallel(n_jobs=-1)]: Done  24 out of  24 | elapsed:  2.4min finished\n"
     ]
    },
    {
     "name": "stdout",
     "output_type": "stream",
     "text": [
      "F1 score: 0.725490196078\n",
      "freedomofspeech\n",
      "84\n",
      "Fitting 3 folds for each of 8 candidates, totalling 24 fits\n"
     ]
    },
    {
     "name": "stderr",
     "output_type": "stream",
     "text": [
      "[Parallel(n_jobs=-1)]: Done  24 out of  24 | elapsed:  1.1min finished\n"
     ]
    },
    {
     "name": "stdout",
     "output_type": "stream",
     "text": [
      "F1 score: 0.988235294118\n",
      "genevaconventions\n",
      "Fitting 3 folds for each of 8 candidates, totalling 24 fits\n"
     ]
    },
    {
     "name": "stderr",
     "output_type": "stream",
     "text": [
      "[Parallel(n_jobs=-1)]: Done  24 out of  24 | elapsed:  2.4min finished\n"
     ]
    },
    {
     "name": "stdout",
     "output_type": "stream",
     "text": [
      "F1 score: 0.903846153846\n",
      "germany\n",
      "Fitting 3 folds for each of 8 candidates, totalling 24 fits\n"
     ]
    },
    {
     "name": "stderr",
     "output_type": "stream",
     "text": [
      "[Parallel(n_jobs=-1)]: Done  24 out of  24 | elapsed:  2.6min finished\n"
     ]
    },
    {
     "name": "stdout",
     "output_type": "stream",
     "text": [
      "F1 score: 0.848484848485\n",
      "guncrime\n",
      "Fitting 3 folds for each of 8 candidates, totalling 24 fits\n"
     ]
    },
    {
     "name": "stderr",
     "output_type": "stream",
     "text": [
      "[Parallel(n_jobs=-1)]: Done  24 out of  24 | elapsed:  2.6min finished\n"
     ]
    },
    {
     "name": "stdout",
     "output_type": "stream",
     "text": [
      "F1 score: 0.94\n",
      "hacking\n",
      "20\n",
      "Fitting 3 folds for each of 8 candidates, totalling 24 fits\n"
     ]
    },
    {
     "name": "stderr",
     "output_type": "stream",
     "text": [
      "[Parallel(n_jobs=-1)]: Done  24 out of  24 | elapsed:   10.1s finished\n"
     ]
    },
    {
     "name": "stdout",
     "output_type": "stream",
     "text": [
      "F1 score: 1.0\n",
      "hashtags\n",
      "188\n",
      "Fitting 3 folds for each of 8 candidates, totalling 24 fits\n"
     ]
    },
    {
     "name": "stderr",
     "output_type": "stream",
     "text": [
      "[Parallel(n_jobs=-1)]: Done  24 out of  24 | elapsed:  2.4min finished\n"
     ]
    },
    {
     "name": "stdout",
     "output_type": "stream",
     "text": [
      "F1 score: 0.979166666667\n",
      "helicoptercrashes\n",
      "Fitting 3 folds for each of 8 candidates, totalling 24 fits\n"
     ]
    },
    {
     "name": "stderr",
     "output_type": "stream",
     "text": [
      "[Parallel(n_jobs=-1)]: Done  24 out of  24 | elapsed:  3.0min finished\n"
     ]
    },
    {
     "name": "stdout",
     "output_type": "stream",
     "text": [
      "F1 score: 0.941176470588\n",
      "humanitarianresponse\n",
      "Fitting 3 folds for each of 8 candidates, totalling 24 fits\n"
     ]
    },
    {
     "name": "stderr",
     "output_type": "stream",
     "text": [
      "[Parallel(n_jobs=-1)]: Done  24 out of  24 | elapsed:  3.0min finished\n"
     ]
    },
    {
     "name": "stdout",
     "output_type": "stream",
     "text": [
      "F1 score: 0.694736842105\n",
      "humanrights\n",
      "Fitting 3 folds for each of 8 candidates, totalling 24 fits\n"
     ]
    },
    {
     "name": "stderr",
     "output_type": "stream",
     "text": [
      "[Parallel(n_jobs=-1)]: Done  24 out of  24 | elapsed:  2.8min finished\n"
     ]
    },
    {
     "name": "stdout",
     "output_type": "stream",
     "text": [
      "F1 score: 0.92\n",
      "humanrightsact\n",
      "Fitting 3 folds for each of 8 candidates, totalling 24 fits\n"
     ]
    },
    {
     "name": "stderr",
     "output_type": "stream",
     "text": [
      "[Parallel(n_jobs=-1)]: Done  24 out of  24 | elapsed:  3.1min finished\n"
     ]
    },
    {
     "name": "stdout",
     "output_type": "stream",
     "text": [
      "F1 score: 0.9375\n",
      "humantrafficking\n",
      "Fitting 3 folds for each of 8 candidates, totalling 24 fits\n"
     ]
    },
    {
     "name": "stderr",
     "output_type": "stream",
     "text": [
      "[Parallel(n_jobs=-1)]: Done  24 out of  24 | elapsed:  3.1min finished\n"
     ]
    },
    {
     "name": "stdout",
     "output_type": "stream",
     "text": [
      "F1 score: 0.636363636364\n",
      "immigration\n",
      "Fitting 3 folds for each of 8 candidates, totalling 24 fits\n"
     ]
    },
    {
     "name": "stderr",
     "output_type": "stream",
     "text": [
      "[Parallel(n_jobs=-1)]: Done  24 out of  24 | elapsed:  3.0min finished\n"
     ]
    },
    {
     "name": "stdout",
     "output_type": "stream",
     "text": [
      "F1 score: 0.884615384615\n",
      "india\n",
      "Fitting 3 folds for each of 8 candidates, totalling 24 fits\n"
     ]
    },
    {
     "name": "stderr",
     "output_type": "stream",
     "text": [
      "[Parallel(n_jobs=-1)]: Done  24 out of  24 | elapsed:  2.2min finished\n"
     ]
    },
    {
     "name": "stdout",
     "output_type": "stream",
     "text": [
      "F1 score: 0.9375\n",
      "indonesia\n",
      "44\n",
      "Fitting 3 folds for each of 8 candidates, totalling 24 fits\n"
     ]
    },
    {
     "name": "stderr",
     "output_type": "stream",
     "text": [
      "[Parallel(n_jobs=-1)]: Done  24 out of  24 | elapsed:   28.4s finished\n"
     ]
    },
    {
     "name": "stdout",
     "output_type": "stream",
     "text": [
      "F1 score: 0.916666666667\n",
      "internallydisplacedpeople\n",
      "70\n",
      "Fitting 3 folds for each of 8 candidates, totalling 24 fits\n"
     ]
    },
    {
     "name": "stderr",
     "output_type": "stream",
     "text": [
      "[Parallel(n_jobs=-1)]: Done  24 out of  24 | elapsed:   49.7s finished\n"
     ]
    },
    {
     "name": "stdout",
     "output_type": "stream",
     "text": [
      "F1 score: 0.945945945946\n",
      "internationalcourtofjustice\n",
      "Fitting 3 folds for each of 8 candidates, totalling 24 fits\n"
     ]
    },
    {
     "name": "stderr",
     "output_type": "stream",
     "text": [
      "[Parallel(n_jobs=-1)]: Done  24 out of  24 | elapsed:  2.6min finished\n"
     ]
    },
    {
     "name": "stdout",
     "output_type": "stream",
     "text": [
      "F1 score: 0.929292929293\n",
      "internationalcriminaljustice\n",
      "120\n",
      "Fitting 3 folds for each of 8 candidates, totalling 24 fits\n"
     ]
    },
    {
     "name": "stderr",
     "output_type": "stream",
     "text": [
      "[Parallel(n_jobs=-1)]: Done  24 out of  24 | elapsed:  1.6min finished\n"
     ]
    },
    {
     "name": "stdout",
     "output_type": "stream",
     "text": [
      "F1 score: 0.896\n",
      "internetsafety\n",
      "Fitting 3 folds for each of 8 candidates, totalling 24 fits\n"
     ]
    },
    {
     "name": "stderr",
     "output_type": "stream",
     "text": [
      "[Parallel(n_jobs=-1)]: Done  24 out of  24 | elapsed:  2.9min finished\n"
     ]
    },
    {
     "name": "stdout",
     "output_type": "stream",
     "text": [
      "F1 score: 0.88\n",
      "iraq\n",
      "Fitting 3 folds for each of 8 candidates, totalling 24 fits\n"
     ]
    },
    {
     "name": "stderr",
     "output_type": "stream",
     "text": [
      "[Parallel(n_jobs=-1)]: Done  24 out of  24 | elapsed:  2.7min finished\n"
     ]
    },
    {
     "name": "stdout",
     "output_type": "stream",
     "text": [
      "F1 score: 0.95145631068\n",
      "isis\n",
      "Fitting 3 folds for each of 8 candidates, totalling 24 fits\n"
     ]
    },
    {
     "name": "stderr",
     "output_type": "stream",
     "text": [
      "[Parallel(n_jobs=-1)]: Done  24 out of  24 | elapsed:  2.4min finished\n"
     ]
    },
    {
     "name": "stdout",
     "output_type": "stream",
     "text": [
      "F1 score: 0.930693069307\n",
      "israel\n",
      "Fitting 3 folds for each of 8 candidates, totalling 24 fits\n"
     ]
    },
    {
     "name": "stderr",
     "output_type": "stream",
     "text": [
      "[Parallel(n_jobs=-1)]: Done  24 out of  24 | elapsed:  2.4min finished\n"
     ]
    },
    {
     "name": "stdout",
     "output_type": "stream",
     "text": [
      "F1 score: 0.94\n",
      "jordan\n",
      "175\n",
      "Fitting 3 folds for each of 8 candidates, totalling 24 fits\n"
     ]
    },
    {
     "name": "stderr",
     "output_type": "stream",
     "text": [
      "[Parallel(n_jobs=-1)]: Done  24 out of  24 | elapsed:  2.4min finished\n"
     ]
    },
    {
     "name": "stdout",
     "output_type": "stream",
     "text": [
      "F1 score: 0.983240223464\n",
      "jubilee\n",
      "Fitting 3 folds for each of 8 candidates, totalling 24 fits\n"
     ]
    },
    {
     "name": "stderr",
     "output_type": "stream",
     "text": [
      "[Parallel(n_jobs=-1)]: Done  24 out of  24 | elapsed:  2.8min finished\n"
     ]
    },
    {
     "name": "stdout",
     "output_type": "stream",
     "text": [
      "F1 score: 0.884615384615\n",
      "judiciary\n",
      "Fitting 3 folds for each of 8 candidates, totalling 24 fits\n"
     ]
    },
    {
     "name": "stderr",
     "output_type": "stream",
     "text": [
      "[Parallel(n_jobs=-1)]: Done  24 out of  24 | elapsed:  2.5min finished\n"
     ]
    },
    {
     "name": "stdout",
     "output_type": "stream",
     "text": [
      "F1 score: 0.87619047619\n",
      "july7\n",
      "152\n",
      "Fitting 3 folds for each of 8 candidates, totalling 24 fits\n"
     ]
    },
    {
     "name": "stderr",
     "output_type": "stream",
     "text": [
      "[Parallel(n_jobs=-1)]: Done  24 out of  24 | elapsed:  1.9min finished\n"
     ]
    },
    {
     "name": "stdout",
     "output_type": "stream",
     "text": [
      "F1 score: 0.987012987013\n",
      "justiceandsecurity\n",
      "Fitting 3 folds for each of 8 candidates, totalling 24 fits\n"
     ]
    },
    {
     "name": "stderr",
     "output_type": "stream",
     "text": [
      "[Parallel(n_jobs=-1)]: Done  24 out of  24 | elapsed:  2.4min finished\n"
     ]
    },
    {
     "name": "stdout",
     "output_type": "stream",
     "text": [
      "F1 score: 0.948453608247\n",
      "kenya\n",
      "Fitting 3 folds for each of 8 candidates, totalling 24 fits\n"
     ]
    },
    {
     "name": "stderr",
     "output_type": "stream",
     "text": [
      "[Parallel(n_jobs=-1)]: Done  24 out of  24 | elapsed:  2.7min finished\n"
     ]
    },
    {
     "name": "stdout",
     "output_type": "stream",
     "text": [
      "F1 score: 0.929292929293\n",
      "knifecrime\n",
      "Fitting 3 folds for each of 8 candidates, totalling 24 fits\n"
     ]
    },
    {
     "name": "stderr",
     "output_type": "stream",
     "text": [
      "[Parallel(n_jobs=-1)]: Done  24 out of  24 | elapsed:  2.7min finished\n"
     ]
    },
    {
     "name": "stdout",
     "output_type": "stream",
     "text": [
      "F1 score: 0.949494949495\n",
      "lebanon\n",
      "Fitting 3 folds for each of 8 candidates, totalling 24 fits\n"
     ]
    },
    {
     "name": "stderr",
     "output_type": "stream",
     "text": [
      "[Parallel(n_jobs=-1)]: Done  24 out of  24 | elapsed:  2.7min finished\n"
     ]
    },
    {
     "name": "stdout",
     "output_type": "stream",
     "text": [
      "F1 score: 0.897196261682\n",
      "libya\n",
      "Fitting 3 folds for each of 8 candidates, totalling 24 fits\n"
     ]
    },
    {
     "name": "stderr",
     "output_type": "stream",
     "text": [
      "[Parallel(n_jobs=-1)]: Done  24 out of  24 | elapsed:  2.9min finished\n"
     ]
    },
    {
     "name": "stdout",
     "output_type": "stream",
     "text": [
      "F1 score: 0.845360824742\n",
      "localgovernment\n",
      "151\n",
      "Fitting 3 folds for each of 8 candidates, totalling 24 fits\n"
     ]
    },
    {
     "name": "stderr",
     "output_type": "stream",
     "text": [
      "[Parallel(n_jobs=-1)]: Done  24 out of  24 | elapsed:  2.0min finished\n"
     ]
    },
    {
     "name": "stdout",
     "output_type": "stream",
     "text": [
      "F1 score: 1.0\n",
      "logistics\n",
      "Fitting 3 folds for each of 8 candidates, totalling 24 fits\n"
     ]
    },
    {
     "name": "stderr",
     "output_type": "stream",
     "text": [
      "[Parallel(n_jobs=-1)]: Done  24 out of  24 | elapsed:  2.7min finished\n"
     ]
    },
    {
     "name": "stdout",
     "output_type": "stream",
     "text": [
      "F1 score: 0.565217391304\n",
      "london\n",
      "Fitting 3 folds for each of 8 candidates, totalling 24 fits\n"
     ]
    },
    {
     "name": "stderr",
     "output_type": "stream",
     "text": [
      "[Parallel(n_jobs=-1)]: Done  24 out of  24 | elapsed:  2.7min finished\n"
     ]
    },
    {
     "name": "stdout",
     "output_type": "stream",
     "text": [
      "F1 score: 0.901098901099\n",
      "londonriots\n",
      "Fitting 3 folds for each of 8 candidates, totalling 24 fits\n"
     ]
    },
    {
     "name": "stderr",
     "output_type": "stream",
     "text": [
      "[Parallel(n_jobs=-1)]: Done  24 out of  24 | elapsed:  2.8min finished\n"
     ]
    },
    {
     "name": "stdout",
     "output_type": "stream",
     "text": [
      "F1 score: 0.959183673469\n",
      "malaysia\n",
      "Fitting 3 folds for each of 8 candidates, totalling 24 fits\n"
     ]
    },
    {
     "name": "stderr",
     "output_type": "stream",
     "text": [
      "[Parallel(n_jobs=-1)]: Done  24 out of  24 | elapsed:  3.2min finished\n"
     ]
    },
    {
     "name": "stdout",
     "output_type": "stream",
     "text": [
      "F1 score: 0.941176470588\n",
      "mali\n",
      "Fitting 3 folds for each of 8 candidates, totalling 24 fits\n"
     ]
    },
    {
     "name": "stderr",
     "output_type": "stream",
     "text": [
      "[Parallel(n_jobs=-1)]: Done  24 out of  24 | elapsed:  2.8min finished\n"
     ]
    },
    {
     "name": "stdout",
     "output_type": "stream",
     "text": [
      "F1 score: 0.905660377358\n",
      "malware\n",
      "Fitting 3 folds for each of 8 candidates, totalling 24 fits\n"
     ]
    },
    {
     "name": "stderr",
     "output_type": "stream",
     "text": [
      "[Parallel(n_jobs=-1)]: Done  24 out of  24 | elapsed:  2.9min finished\n"
     ]
    },
    {
     "name": "stdout",
     "output_type": "stream",
     "text": [
      "F1 score: 0.914285714286\n",
      "metropolitanpolice\n",
      "Fitting 3 folds for each of 8 candidates, totalling 24 fits\n"
     ]
    },
    {
     "name": "stderr",
     "output_type": "stream",
     "text": [
      "[Parallel(n_jobs=-1)]: Done  24 out of  24 | elapsed:  2.4min finished\n"
     ]
    },
    {
     "name": "stdout",
     "output_type": "stream",
     "text": [
      "F1 score: 0.900900900901\n",
      "middleeastpeacetalks\n",
      "Fitting 3 folds for each of 8 candidates, totalling 24 fits\n"
     ]
    },
    {
     "name": "stderr",
     "output_type": "stream",
     "text": [
      "[Parallel(n_jobs=-1)]: Done  24 out of  24 | elapsed:  2.8min finished\n"
     ]
    },
    {
     "name": "stdout",
     "output_type": "stream",
     "text": [
      "F1 score: 0.905263157895\n",
      "migration\n",
      "Fitting 3 folds for each of 8 candidates, totalling 24 fits\n"
     ]
    },
    {
     "name": "stderr",
     "output_type": "stream",
     "text": [
      "[Parallel(n_jobs=-1)]: Done  24 out of  24 | elapsed:  2.7min finished\n"
     ]
    },
    {
     "name": "stdout",
     "output_type": "stream",
     "text": [
      "F1 score: 0.857142857143\n",
      "military\n",
      "Fitting 3 folds for each of 8 candidates, totalling 24 fits\n"
     ]
    },
    {
     "name": "stderr",
     "output_type": "stream",
     "text": [
      "[Parallel(n_jobs=-1)]: Done  24 out of  24 | elapsed:  2.5min finished\n"
     ]
    },
    {
     "name": "stdout",
     "output_type": "stream",
     "text": [
      "F1 score: 0.923076923077\n",
      "ministryofdefence\n",
      "Fitting 3 folds for each of 8 candidates, totalling 24 fits\n"
     ]
    },
    {
     "name": "stderr",
     "output_type": "stream",
     "text": [
      "[Parallel(n_jobs=-1)]: Done  24 out of  24 | elapsed:  2.6min finished\n"
     ]
    },
    {
     "name": "stdout",
     "output_type": "stream",
     "text": [
      "F1 score: 0.952380952381\n",
      "morocco\n",
      "Fitting 3 folds for each of 8 candidates, totalling 24 fits\n"
     ]
    },
    {
     "name": "stderr",
     "output_type": "stream",
     "text": [
      "[Parallel(n_jobs=-1)]: Done  24 out of  24 | elapsed:  2.5min finished\n"
     ]
    },
    {
     "name": "stdout",
     "output_type": "stream",
     "text": [
      "F1 score: 0.959183673469\n",
      "mrsa\n",
      "Fitting 3 folds for each of 8 candidates, totalling 24 fits\n"
     ]
    },
    {
     "name": "stderr",
     "output_type": "stream",
     "text": [
      "[Parallel(n_jobs=-1)]: Done  24 out of  24 | elapsed:  2.3min finished\n"
     ]
    },
    {
     "name": "stdout",
     "output_type": "stream",
     "text": [
      "F1 score: 0.95145631068\n",
      "mumbaiterrorattacks\n",
      "munichshooting\n",
      "Fitting 3 folds for each of 8 candidates, totalling 24 fits\n"
     ]
    },
    {
     "name": "stderr",
     "output_type": "stream",
     "text": [
      "[Parallel(n_jobs=-1)]: Done  24 out of  24 | elapsed:  2.6min finished\n"
     ]
    },
    {
     "name": "stdout",
     "output_type": "stream",
     "text": [
      "F1 score: 0.891089108911\n",
      "naturaldisasters\n",
      "Fitting 3 folds for each of 8 candidates, totalling 24 fits\n"
     ]
    },
    {
     "name": "stderr",
     "output_type": "stream",
     "text": [
      "[Parallel(n_jobs=-1)]: Done  24 out of  24 | elapsed:  2.6min finished\n"
     ]
    },
    {
     "name": "stdout",
     "output_type": "stream",
     "text": [
      "F1 score: 0.901960784314\n",
      "nigeria\n",
      "Fitting 3 folds for each of 8 candidates, totalling 24 fits\n"
     ]
    },
    {
     "name": "stderr",
     "output_type": "stream",
     "text": [
      "[Parallel(n_jobs=-1)]: Done  24 out of  24 | elapsed:  2.6min finished\n"
     ]
    },
    {
     "name": "stdout",
     "output_type": "stream",
     "text": [
      "F1 score: 0.92\n",
      "nuclearweapons\n",
      "Fitting 3 folds for each of 8 candidates, totalling 24 fits\n"
     ]
    },
    {
     "name": "stderr",
     "output_type": "stream",
     "text": [
      "[Parallel(n_jobs=-1)]: Done  24 out of  24 | elapsed:  2.5min finished\n"
     ]
    },
    {
     "name": "stdout",
     "output_type": "stream",
     "text": [
      "F1 score: 0.938775510204\n",
      "occupy\n",
      "Fitting 3 folds for each of 8 candidates, totalling 24 fits\n"
     ]
    },
    {
     "name": "stderr",
     "output_type": "stream",
     "text": [
      "[Parallel(n_jobs=-1)]: Done  24 out of  24 | elapsed:  2.5min finished\n"
     ]
    },
    {
     "name": "stdout",
     "output_type": "stream",
     "text": [
      "F1 score: 0.838709677419\n",
      "organisedcrime\n",
      "orlandoterrorattack\n",
      "Fitting 3 folds for each of 8 candidates, totalling 24 fits\n"
     ]
    },
    {
     "name": "stderr",
     "output_type": "stream",
     "text": [
      "[Parallel(n_jobs=-1)]: Done  24 out of  24 | elapsed:  2.5min finished\n"
     ]
    },
    {
     "name": "stdout",
     "output_type": "stream",
     "text": [
      "F1 score: 0.95145631068\n",
      "osamabinladen\n",
      "Fitting 3 folds for each of 8 candidates, totalling 24 fits\n"
     ]
    },
    {
     "name": "stderr",
     "output_type": "stream",
     "text": [
      "[Parallel(n_jobs=-1)]: Done  24 out of  24 | elapsed:  2.4min finished\n"
     ]
    },
    {
     "name": "stdout",
     "output_type": "stream",
     "text": [
      "F1 score: 0.933333333333\n",
      "paris\n",
      "parisattacks\n",
      "peaceandreconciliation\n",
      "Fitting 3 folds for each of 8 candidates, totalling 24 fits\n"
     ]
    },
    {
     "name": "stderr",
     "output_type": "stream",
     "text": [
      "[Parallel(n_jobs=-1)]: Done  24 out of  24 | elapsed:  2.2min finished\n"
     ]
    },
    {
     "name": "stdout",
     "output_type": "stream",
     "text": [
      "F1 score: 0.969072164948\n",
      "philippines\n",
      "Fitting 3 folds for each of 8 candidates, totalling 24 fits\n"
     ]
    },
    {
     "name": "stderr",
     "output_type": "stream",
     "text": [
      "[Parallel(n_jobs=-1)]: Done  24 out of  24 | elapsed: 38.6min finished\n"
     ]
    },
    {
     "name": "stdout",
     "output_type": "stream",
     "text": [
      "F1 score: 0.891089108911\n",
      "piracy\n",
      "Fitting 3 folds for each of 8 candidates, totalling 24 fits\n"
     ]
    },
    {
     "name": "stderr",
     "output_type": "stream",
     "text": [
      "[Parallel(n_jobs=-1)]: Done  24 out of  24 | elapsed:  2.7min finished\n"
     ]
    },
    {
     "name": "stdout",
     "output_type": "stream",
     "text": [
      "F1 score: 0.950495049505\n",
      "planecrashes\n",
      "Fitting 3 folds for each of 8 candidates, totalling 24 fits\n"
     ]
    },
    {
     "name": "stderr",
     "output_type": "stream",
     "text": [
      "[Parallel(n_jobs=-1)]: Done  24 out of  24 | elapsed:  2.6min finished\n"
     ]
    },
    {
     "name": "stdout",
     "output_type": "stream",
     "text": [
      "F1 score: 0.824742268041\n",
      "police\n",
      "Fitting 3 folds for each of 8 candidates, totalling 24 fits\n"
     ]
    },
    {
     "name": "stderr",
     "output_type": "stream",
     "text": [
      "[Parallel(n_jobs=-1)]: Done  24 out of  24 | elapsed:  2.9min finished\n"
     ]
    },
    {
     "name": "stdout",
     "output_type": "stream",
     "text": [
      "F1 score: 0.651685393258\n",
      "protest\n",
      "Fitting 3 folds for each of 8 candidates, totalling 24 fits\n"
     ]
    },
    {
     "name": "stderr",
     "output_type": "stream",
     "text": [
      "[Parallel(n_jobs=-1)]: Done  24 out of  24 | elapsed:  2.7min finished\n"
     ]
    },
    {
     "name": "stdout",
     "output_type": "stream",
     "text": [
      "F1 score: 0.857142857143\n",
      "refugees\n",
      "Fitting 3 folds for each of 8 candidates, totalling 24 fits\n"
     ]
    },
    {
     "name": "stderr",
     "output_type": "stream",
     "text": [
      "[Parallel(n_jobs=-1)]: Done  24 out of  24 | elapsed:  2.8min finished\n"
     ]
    },
    {
     "name": "stdout",
     "output_type": "stream",
     "text": [
      "F1 score: 0.833333333333\n",
      "religion\n",
      "Fitting 3 folds for each of 8 candidates, totalling 24 fits\n"
     ]
    },
    {
     "name": "stderr",
     "output_type": "stream",
     "text": [
      "[Parallel(n_jobs=-1)]: Done  24 out of  24 | elapsed:  2.3min finished\n"
     ]
    },
    {
     "name": "stdout",
     "output_type": "stream",
     "text": [
      "F1 score: 0.970297029703\n",
      "retirementage\n",
      "199\n",
      "Fitting 3 folds for each of 8 candidates, totalling 24 fits\n"
     ]
    },
    {
     "name": "stderr",
     "output_type": "stream",
     "text": [
      "[Parallel(n_jobs=-1)]: Done  24 out of  24 | elapsed:  2.9min finished\n"
     ]
    },
    {
     "name": "stdout",
     "output_type": "stream",
     "text": [
      "F1 score: 0.984924623116\n",
      "rio20earthsummit\n",
      "Fitting 3 folds for each of 8 candidates, totalling 24 fits\n"
     ]
    },
    {
     "name": "stderr",
     "output_type": "stream",
     "text": [
      "[Parallel(n_jobs=-1)]: Done  24 out of  24 | elapsed:  2.5min finished\n"
     ]
    },
    {
     "name": "stdout",
     "output_type": "stream",
     "text": [
      "F1 score: 0.921568627451\n",
      "royalairforce\n",
      "Fitting 3 folds for each of 8 candidates, totalling 24 fits\n"
     ]
    },
    {
     "name": "stderr",
     "output_type": "stream",
     "text": [
      "[Parallel(n_jobs=-1)]: Done  24 out of  24 | elapsed:  2.6min finished\n"
     ]
    },
    {
     "name": "stdout",
     "output_type": "stream",
     "text": [
      "F1 score: 0.930693069307\n",
      "royalnavy\n",
      "Fitting 3 folds for each of 8 candidates, totalling 24 fits\n"
     ]
    },
    {
     "name": "stderr",
     "output_type": "stream",
     "text": [
      "[Parallel(n_jobs=-1)]: Done  24 out of  24 | elapsed:  2.8min finished\n"
     ]
    },
    {
     "name": "stdout",
     "output_type": "stream",
     "text": [
      "F1 score: 0.901960784314\n",
      "russia\n",
      "sanbernardinoshooting\n",
      "Fitting 3 folds for each of 8 candidates, totalling 24 fits\n"
     ]
    },
    {
     "name": "stderr",
     "output_type": "stream",
     "text": [
      "[Parallel(n_jobs=-1)]: Done  24 out of  24 | elapsed:  2.9min finished\n"
     ]
    },
    {
     "name": "stdout",
     "output_type": "stream",
     "text": [
      "F1 score: 0.942307692308\n",
      "saudiarabia\n",
      "Fitting 3 folds for each of 8 candidates, totalling 24 fits\n"
     ]
    },
    {
     "name": "stderr",
     "output_type": "stream",
     "text": [
      "[Parallel(n_jobs=-1)]: Done  24 out of  24 | elapsed:  2.6min finished\n"
     ]
    },
    {
     "name": "stdout",
     "output_type": "stream",
     "text": [
      "F1 score: 0.826923076923\n",
      "september11\n",
      "Fitting 3 folds for each of 8 candidates, totalling 24 fits\n"
     ]
    },
    {
     "name": "stderr",
     "output_type": "stream",
     "text": [
      "[Parallel(n_jobs=-1)]: Done  24 out of  24 | elapsed:  2.6min finished\n"
     ]
    },
    {
     "name": "stdout",
     "output_type": "stream",
     "text": [
      "F1 score: 0.851485148515\n",
      "slavery\n",
      "Fitting 3 folds for each of 8 candidates, totalling 24 fits\n"
     ]
    },
    {
     "name": "stderr",
     "output_type": "stream",
     "text": [
      "[Parallel(n_jobs=-1)]: Done  24 out of  24 | elapsed:  3.0min finished\n"
     ]
    },
    {
     "name": "stdout",
     "output_type": "stream",
     "text": [
      "F1 score: 0.949494949495\n",
      "somalia\n",
      "Fitting 3 folds for each of 8 candidates, totalling 24 fits\n"
     ]
    },
    {
     "name": "stderr",
     "output_type": "stream",
     "text": [
      "[Parallel(n_jobs=-1)]: Done  24 out of  24 | elapsed:  2.5min finished\n"
     ]
    },
    {
     "name": "stdout",
     "output_type": "stream",
     "text": [
      "F1 score: 0.941176470588\n",
      "southafrica\n",
      "34\n",
      "Fitting 3 folds for each of 8 candidates, totalling 24 fits\n"
     ]
    },
    {
     "name": "stderr",
     "output_type": "stream",
     "text": [
      "[Parallel(n_jobs=-1)]: Done  24 out of  24 | elapsed:   21.8s finished\n"
     ]
    },
    {
     "name": "stdout",
     "output_type": "stream",
     "text": [
      "F1 score: 1.0\n",
      "southchinasea\n",
      "Fitting 3 folds for each of 8 candidates, totalling 24 fits\n"
     ]
    },
    {
     "name": "stderr",
     "output_type": "stream",
     "text": [
      "[Parallel(n_jobs=-1)]: Done  24 out of  24 | elapsed:  2.4min finished\n"
     ]
    },
    {
     "name": "stdout",
     "output_type": "stream",
     "text": [
      "F1 score: 0.960784313725\n",
      "stopandsearch\n",
      "Fitting 3 folds for each of 8 candidates, totalling 24 fits\n"
     ]
    },
    {
     "name": "stderr",
     "output_type": "stream",
     "text": [
      "[Parallel(n_jobs=-1)]: Done  24 out of  24 | elapsed:  2.8min finished\n"
     ]
    },
    {
     "name": "stdout",
     "output_type": "stream",
     "text": [
      "F1 score: 0.869565217391\n",
      "surveillance\n",
      "42\n",
      "Fitting 3 folds for each of 8 candidates, totalling 24 fits\n"
     ]
    },
    {
     "name": "stderr",
     "output_type": "stream",
     "text": [
      "[Parallel(n_jobs=-1)]: Done  24 out of  24 | elapsed:   25.8s finished\n"
     ]
    },
    {
     "name": "stdout",
     "output_type": "stream",
     "text": [
      "F1 score: 0.976744186047\n",
      "sydneysiege\n",
      "Fitting 3 folds for each of 8 candidates, totalling 24 fits\n"
     ]
    },
    {
     "name": "stderr",
     "output_type": "stream",
     "text": [
      "[Parallel(n_jobs=-1)]: Done  24 out of  24 | elapsed:  2.8min finished\n"
     ]
    },
    {
     "name": "stdout",
     "output_type": "stream",
     "text": [
      "F1 score: 0.938775510204\n",
      "syria\n",
      "Fitting 3 folds for each of 8 candidates, totalling 24 fits\n"
     ]
    },
    {
     "name": "stderr",
     "output_type": "stream",
     "text": [
      "[Parallel(n_jobs=-1)]: Done  24 out of  24 | elapsed:  2.7min finished\n"
     ]
    },
    {
     "name": "stdout",
     "output_type": "stream",
     "text": [
      "F1 score: 0.92\n",
      "taliban\n",
      "Fitting 3 folds for each of 8 candidates, totalling 24 fits\n"
     ]
    },
    {
     "name": "stderr",
     "output_type": "stream",
     "text": [
      "[Parallel(n_jobs=-1)]: Done  24 out of  24 | elapsed:  2.6min finished\n"
     ]
    },
    {
     "name": "stdout",
     "output_type": "stream",
     "text": [
      "F1 score: 0.792452830189\n",
      "terrorism\n",
      "Fitting 3 folds for each of 8 candidates, totalling 24 fits\n"
     ]
    },
    {
     "name": "stderr",
     "output_type": "stream",
     "text": [
      "[Parallel(n_jobs=-1)]: Done  24 out of  24 | elapsed:  2.7min finished\n"
     ]
    },
    {
     "name": "stdout",
     "output_type": "stream",
     "text": [
      "F1 score: 0.980392156863\n",
      "thailand\n",
      "Fitting 3 folds for each of 8 candidates, totalling 24 fits\n"
     ]
    },
    {
     "name": "stderr",
     "output_type": "stream",
     "text": [
      "[Parallel(n_jobs=-1)]: Done  24 out of  24 | elapsed:  2.7min finished\n"
     ]
    },
    {
     "name": "stdout",
     "output_type": "stream",
     "text": [
      "F1 score: 0.893203883495\n",
      "torture\n",
      "50\n",
      "Fitting 3 folds for each of 8 candidates, totalling 24 fits\n"
     ]
    },
    {
     "name": "stderr",
     "output_type": "stream",
     "text": [
      "[Parallel(n_jobs=-1)]: Done  24 out of  24 | elapsed:   33.6s finished\n"
     ]
    },
    {
     "name": "stdout",
     "output_type": "stream",
     "text": [
      "F1 score: 0.980392156863\n",
      "traincrashes\n",
      "Fitting 3 folds for each of 8 candidates, totalling 24 fits\n"
     ]
    },
    {
     "name": "stderr",
     "output_type": "stream",
     "text": [
      "[Parallel(n_jobs=-1)]: Done  24 out of  24 | elapsed:  2.7min finished\n"
     ]
    },
    {
     "name": "stdout",
     "output_type": "stream",
     "text": [
      "F1 score: 0.825688073394\n",
      "transport\n",
      "tunisiaattack2015\n",
      "Fitting 3 folds for each of 8 candidates, totalling 24 fits\n"
     ]
    },
    {
     "name": "stderr",
     "output_type": "stream",
     "text": [
      "[Parallel(n_jobs=-1)]: Done  24 out of  24 | elapsed:  2.7min finished\n"
     ]
    },
    {
     "name": "stdout",
     "output_type": "stream",
     "text": [
      "F1 score: 0.948453608247\n",
      "turkey\n",
      "turkeycoupattempt\n",
      "Fitting 3 folds for each of 8 candidates, totalling 24 fits\n"
     ]
    },
    {
     "name": "stderr",
     "output_type": "stream",
     "text": [
      "[Parallel(n_jobs=-1)]: Done  24 out of  24 | elapsed:  2.6min finished\n"
     ]
    },
    {
     "name": "stdout",
     "output_type": "stream",
     "text": [
      "F1 score: 0.698113207547\n",
      "ukcrime\n",
      "Fitting 3 folds for each of 8 candidates, totalling 24 fits\n"
     ]
    },
    {
     "name": "stderr",
     "output_type": "stream",
     "text": [
      "[Parallel(n_jobs=-1)]: Done  24 out of  24 | elapsed:  2.5min finished\n"
     ]
    },
    {
     "name": "stdout",
     "output_type": "stream",
     "text": [
      "F1 score: 0.814814814815\n",
      "uksecurity\n",
      "Fitting 3 folds for each of 8 candidates, totalling 24 fits\n"
     ]
    },
    {
     "name": "stderr",
     "output_type": "stream",
     "text": [
      "[Parallel(n_jobs=-1)]: Done  24 out of  24 | elapsed:  2.8min finished\n"
     ]
    },
    {
     "name": "stdout",
     "output_type": "stream",
     "text": [
      "F1 score: 0.979591836735\n",
      "uksupremecourt\n",
      "Fitting 3 folds for each of 8 candidates, totalling 24 fits\n"
     ]
    },
    {
     "name": "stderr",
     "output_type": "stream",
     "text": [
      "[Parallel(n_jobs=-1)]: Done  24 out of  24 | elapsed:  2.8min finished\n"
     ]
    },
    {
     "name": "stdout",
     "output_type": "stream",
     "text": [
      "F1 score: 0.950495049505\n",
      "undercoverpoliceandpolicing\n",
      "Fitting 3 folds for each of 8 candidates, totalling 24 fits\n"
     ]
    },
    {
     "name": "stderr",
     "output_type": "stream",
     "text": [
      "[Parallel(n_jobs=-1)]: Done  24 out of  24 | elapsed:  2.8min finished\n"
     ]
    },
    {
     "name": "stdout",
     "output_type": "stream",
     "text": [
      "F1 score: 0.778947368421\n",
      "unitednations\n",
      "Fitting 3 folds for each of 8 candidates, totalling 24 fits\n"
     ]
    },
    {
     "name": "stderr",
     "output_type": "stream",
     "text": [
      "[Parallel(n_jobs=-1)]: Done  24 out of  24 | elapsed:  2.4min finished\n"
     ]
    },
    {
     "name": "stdout",
     "output_type": "stream",
     "text": [
      "F1 score: 0.927835051546\n",
      "usguncontrol\n",
      "18\n",
      "Fitting 3 folds for each of 8 candidates, totalling 24 fits\n"
     ]
    },
    {
     "name": "stderr",
     "output_type": "stream",
     "text": [
      "[Parallel(n_jobs=-1)]: Done  24 out of  24 | elapsed:    9.5s finished\n"
     ]
    },
    {
     "name": "stdout",
     "output_type": "stream",
     "text": [
      "F1 score: 1.0\n",
      "values\n",
      "Fitting 3 folds for each of 8 candidates, totalling 24 fits\n"
     ]
    },
    {
     "name": "stderr",
     "output_type": "stream",
     "text": [
      "[Parallel(n_jobs=-1)]: Done  24 out of  24 | elapsed:  2.5min finished\n"
     ]
    },
    {
     "name": "stdout",
     "output_type": "stream",
     "text": [
      "F1 score: 0.916666666667\n",
      "warcrimes\n",
      "Fitting 3 folds for each of 8 candidates, totalling 24 fits\n"
     ]
    },
    {
     "name": "stderr",
     "output_type": "stream",
     "text": [
      "[Parallel(n_jobs=-1)]: Done  24 out of  24 | elapsed:  2.4min finished\n"
     ]
    },
    {
     "name": "stdout",
     "output_type": "stream",
     "text": [
      "F1 score: 0.811320754717\n",
      "warreporting\n",
      "Fitting 3 folds for each of 8 candidates, totalling 24 fits\n"
     ]
    },
    {
     "name": "stderr",
     "output_type": "stream",
     "text": [
      "[Parallel(n_jobs=-1)]: Done  24 out of  24 | elapsed:  2.4min finished\n"
     ]
    },
    {
     "name": "stdout",
     "output_type": "stream",
     "text": [
      "F1 score: 0.834951456311\n",
      "weaponstechnology\n",
      "182\n",
      "Fitting 3 folds for each of 8 candidates, totalling 24 fits\n"
     ]
    },
    {
     "name": "stderr",
     "output_type": "stream",
     "text": [
      "[Parallel(n_jobs=-1)]: Done  24 out of  24 | elapsed:  2.4min finished\n"
     ]
    },
    {
     "name": "stdout",
     "output_type": "stream",
     "text": [
      "F1 score: 0.977528089888\n",
      "womeninbusiness\n",
      "141\n",
      "Fitting 3 folds for each of 8 candidates, totalling 24 fits\n"
     ]
    },
    {
     "name": "stderr",
     "output_type": "stream",
     "text": [
      "[Parallel(n_jobs=-1)]: Done  24 out of  24 | elapsed:  1.9min finished\n"
     ]
    },
    {
     "name": "stdout",
     "output_type": "stream",
     "text": [
      "F1 score: 1.0\n",
      "woolwichattack\n",
      "Fitting 3 folds for each of 8 candidates, totalling 24 fits\n"
     ]
    },
    {
     "name": "stderr",
     "output_type": "stream",
     "text": [
      "[Parallel(n_jobs=-1)]: Done  24 out of  24 | elapsed:  2.5min finished\n"
     ]
    },
    {
     "name": "stdout",
     "output_type": "stream",
     "text": [
      "F1 score: 0.909090909091\n",
      "worldmigration\n",
      "zikavirus\n",
      "Function takes around 21592.568 seconds to run\n"
     ]
    }
   ],
   "source": [
    "for topic in topics:\n",
    "    if topic in topics_0:\n",
    "        submission[topic] = 1\n",
    "#         f1_scores.append(0)\n",
    "#         grid_search_params.append(\"none\")\n",
    "    else:\n",
    "        X, y = sampler(topic, df)\n",
    "        X_train, X_test, y_train, y_test = train_test_split(X, y, test_size=0.25, stratify=y)\n",
    "        \n",
    "        #N-GRAM RANGE OF (1,1)\n",
    "        vectorizer = CountVectorizer(ngram_range=(1,4), stop_words='english')\n",
    "\n",
    "        # PIPELINE OF VECTORIZER, TF-IDF TRANSFORMER, STANDARD SCALER, MODEL\n",
    "        pipe = Pipeline([('vectorizer', vectorizer), \n",
    "                 ('tfidf', TfidfTransformer()),\n",
    "                 ('ss', StandardScaler(with_mean=False)),\n",
    "                 ('clf', clf)])\n",
    "\n",
    "        # GRIDSEARCH PIPELINE FIT\n",
    "        grid_search = GridSearchCV(pipe, parameters, n_jobs=-1, verbose=1)\n",
    "        grid_search.fit(X_train, y_train)\n",
    "\n",
    "        # PREDICT\n",
    "        preds = grid_search.best_estimator_.predict(X_test)\n",
    "        topicf1score = f1_score(y_test, preds)\n",
    "        print \"F1 score:\", topicf1score\n",
    "#         f1_scores.append(topicf1score)\n",
    "#         grid_search_params.append(grid_search.best_params_)\n",
    "\n",
    "        # FINAL PREDICTIONS\n",
    "        preds_final = grid_search.best_estimator_.predict(testdf['text'])\n",
    "\n",
    "        # WRITE TO CSV\n",
    "        submission[topic] = preds_final\n",
    "        \n",
    "    submission.to_csv('submission_logregngram4.csv')\n",
    "    print topic\n",
    "    \n",
    "time2 = time.time()\n",
    "time_in_s = (time2-time1)\n",
    "print 'Function takes around %0.3f seconds to run' % (time_in_s)\n",
    "\n",
    "# scoredf = pd.DataFrame({'f1': f1_scores, 'params': grid_search_params}, index=topics)"
   ]
  },
  {
   "cell_type": "markdown",
   "metadata": {},
   "source": [
    "Scored - .13416\n",
    "Our score went down after adding n_grams (1,4) "
   ]
  },
  {
   "cell_type": "code",
   "execution_count": null,
   "metadata": {
    "collapsed": true
   },
   "outputs": [],
   "source": []
  }
 ],
 "metadata": {
  "anaconda-cloud": {},
  "kernelspec": {
   "display_name": "Python [default]",
   "language": "python",
   "name": "python2"
  },
  "language_info": {
   "codemirror_mode": {
    "name": "ipython",
    "version": 2
   },
   "file_extension": ".py",
   "mimetype": "text/x-python",
   "name": "python",
   "nbconvert_exporter": "python",
   "pygments_lexer": "ipython2",
   "version": "2.7.13"
  }
 },
 "nbformat": 4,
 "nbformat_minor": 2
}
